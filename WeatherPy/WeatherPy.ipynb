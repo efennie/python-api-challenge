{
 "cells": [
  {
   "cell_type": "markdown",
   "metadata": {},
   "source": [
    "# WeatherPy\n",
    "----\n",
    "\n",
    "#### Note\n",
    "* Instructions have been included for each segment. You do not have to follow them exactly, but they are included to help you think through the steps."
   ]
  },
  {
   "cell_type": "code",
   "execution_count": 15,
   "metadata": {
    "scrolled": true
   },
   "outputs": [],
   "source": [
    "# Dependencies and Setup\n",
    "import matplotlib.pyplot as plt\n",
    "import pandas as pd\n",
    "import numpy as np\n",
    "import requests\n",
    "import time\n",
    "from scipy.stats import linregress\n",
    "\n",
    "# Import API key\n",
    "from api_keys import weather_api_key\n",
    "\n",
    "# Incorporated citipy to determine city based on latitude and longitude\n",
    "from citipy import citipy\n",
    "\n",
    "# Output File (CSV)\n",
    "output_data_file = \"output_data/cities.csv\"\n",
    "\n",
    "# Range of latitudes and longitudes\n",
    "lat_range = (-90, 90)\n",
    "lng_range = (-180, 180)"
   ]
  },
  {
   "cell_type": "markdown",
   "metadata": {},
   "source": [
    "## Generate Cities List"
   ]
  },
  {
   "cell_type": "code",
   "execution_count": 16,
   "metadata": {},
   "outputs": [
    {
     "output_type": "execute_result",
     "data": {
      "text/plain": [
       "614"
      ]
     },
     "metadata": {},
     "execution_count": 16
    }
   ],
   "source": [
    "# List for holding lat_lngs and cities\n",
    "lat_lngs = []\n",
    "cities = []\n",
    "\n",
    "# Create a set of random lat and lng combinations\n",
    "lats = np.random.uniform(lat_range[0], lat_range[1], size=1500)\n",
    "lngs = np.random.uniform(lng_range[0], lng_range[1], size=1500)\n",
    "lat_lngs = zip(lats, lngs)\n",
    "\n",
    "# Identify nearest city for each lat, lng combination\n",
    "for lat_lng in lat_lngs:\n",
    "    city = citipy.nearest_city(lat_lng[0], lat_lng[1]).city_name\n",
    "    \n",
    "    # If the city is unique, then add it to a our cities list\n",
    "    if city not in cities:\n",
    "        cities.append(city)\n",
    "\n",
    "# Print the city count to confirm sufficient count\n",
    "len(cities)"
   ]
  },
  {
   "cell_type": "code",
   "execution_count": 17,
   "metadata": {},
   "outputs": [
    {
     "output_type": "stream",
     "name": "stdout",
     "text": [
      "['imeni poliny osipenko', 'puerto ayora', 'punta arenas', 'mandalgovi', 'vaini', 'nehe', 'rikitea', 'port alfred', 'hithadhoo', 'carnarvon', 'albany', 'fairbanks', 'arraial do cabo', 'half moon bay', 'cape town', 'tonantins', 'egvekinot', 'ushuaia', 'agua buena', 'aykhal', 'praia da vitoria', 'taolanaro', 'coihaique', 'jamestown', 'thompson', 'castro', 'honningsvag', 'clyde river', 'la canada flintridge', 'tsaratanana', 'oriximina', 'asyut', 'panguna', 'hobart', 'karratha', 'camargo', 'barrow', 'bathsheba', 'mataura', 'cherskiy', 'kantang', 'estevan', 'juneau', 'tabiauea', 'nakhon thai', 'nuevo casas grandes', 'svetlogorsk', 'atuona', 'ostrovnoy', 'kruisfontein', 'butaritari', 'hermanus', 'grindavik', 'bredasdorp', 'san juan', 'kuah', 'saskylakh', 'vardo', 'zhob', 'mahibadhoo', 'mao', 'illoqqortoormiut', 'bambous virieux', 'saint george', 'hovd', 'vestmannaeyjar', 'moindou', 'kapaa', 'liverpool', 'belushya guba', 'klaksvik', 'port elizabeth', 'bethel', 'hilo', 'sao filipe', 'narsaq', 'ushumun', 'kawalu', 'pemangkat', 'srednekolymsk', 'finnsnes', 'nanortalik', 'upernavik', 'yellowknife', 'isangel', 'tasiilaq', 'bluff', 'santa vitoria do palmar', 'victoria', 'meulaboh', 'el dorado', 'viesca', 'hamilton', 'namibe', 'cabedelo', 'sibolga', 'genhe', 'busselton', 'new norfolk', 'ruatoria', 'wahran', 'depok', 'lebu', 'linxi', 'hvammstangi', 'codrington', 'qaanaaq', 'mount gambier', 'cascais', 'mitsamiouli', 'anaconda', 'asfi', 'henties bay', 'krasnystaw', 'pacific grove', 'kawana waters', 'tuatapere', 'broken hill', 'pavilosta', 'barentsburg', 'nanfeng', 'provideniya', 'rocha', 'mbulu', 'hakodate', 'hobyo', 'touros', 'dikson', 'maxixe', 'zhongxing', 'bad oldesloe', 'tomatlan', 'luderitz', 'hasaki', 'faya', 'brainerd', 'te anau', 'jalu', 'chapais', 'talara', 'naron', 'hervey bay', 'lensk', 'sola', 'faanui', 'zhigansk', 'esna', 'grand-lahou', 'coahuayana', 'sambava', 'karaul', 'tsihombe', 'pombas', 'chokurdakh', 'fjerritslev', 'ksenyevka', 'chimore', 'poltavka', 'vaitupu', 'waingapu', 'leshukonskoye', 'moldova sulita', 'sayula', 'kabalo', 'nampula', 'sancti spiritus', 'marsa matruh', 'isiro', 'ilebo', 'oktyabrskiy', 'stoyba', 'aklavik', 'guerrero negro', 'norman wells', 'ajaccio', 'marawi', 'tucumcari', 'constitucion', 'middelburg', 'uk', 'torbay', 'rio cuarto', 'arkadelphia', 'bila tserkva', 'terekli-mekteb', 'sorland', 'hollola', 'port moresby', 'saldanha', 'san ramon', 'iqaluit', 'alice springs', 'hofn', 'terme', 'callaway', 'alofi', 'freeport', 'vengurla', 'oksovskiy', 'bengkulu', 'tailai', 'mokolo', 'nikolskoye', 'evensk', 'imbituba', 'inhambane', 'kulhudhuffushi', 'todos santos', 'georgetown', 'suwalki', 'yangambi', 'mehamn', 'esperance', 'wanaka', 'chuy', 'skjervoy', 'severnyy', 'palmas', 'kahului', 'tiksi', 'brive-la-gaillarde', 'shimoda', 'christchurch', 'mahebourg', 'xianyang', 'avarua', 'cockburn town', 'borogontsy', 'la palma', 'mangai', 'labuhan', 'zlitan', 'taoudenni', 'khatanga', 'leningradskiy', 'east london', 'san jeronimo', 'san', 'peski', 'sitka', 'nam dinh', 'terrace', 'kirakira', 'port hedland', 'umzimvubu', 'sainte-anne-des-monts', 'ginda', 'komsomolskiy', 'port hardy', 'noyabrsk', 'alotau', 'kamina', 'port lincoln', 'baltay', 'travesia', 'shache', 'vrangel', 'san patricio', 'mbini', 'bubaque', 'mahajanga', 'kedrovyy', 'tsabong', 'coquimbo', 'minab', 'pisco', 'kultuk', 'bargal', 'moree', 'hami', 'husavik', 'kamaishi', 'fort nelson', 'prabumulih', 'am timan', 'saleaula', 'dunedin', 'ribeira grande', 'sistranda', 'varhaug', 'kangaatsiaq', 'richards bay', 'bima', 'villa juarez', 'cayenne', 'katsuura', 'barbar', 'ketchikan', 'puerto narino', 'palabuhanratu', 'beloha', 'roald', 'harper', 'severo-kurilsk', 'tilichiki', 'necochea', 'lompoc', 'bukachacha', 'cleburne', 'arkhara', 'avrille', 'flums', 'chifeng', 'saint-pierre', 'vilyuysk', 'naze', 'turukhansk', 'huarmey', 'seymchan', 'katherine', 'nuuk', 'karasjok', 'bolobo', 'quang ngai', 'lorengau', 'sur', 'vao', 'mantua', 'chicama', 'mahabad', 'kjopsvik', 'semnan', 'myitkyina', 'mataro', 'ahipara', 'gauribidanur', 'vawkavysk', 'fortuna', 'tuktoyaktuk', 'airai', 'vanavara', 'cidreira', 'tumannyy', 'asau', 'monching', 'bria', 'ancud', 'nizwa', 'sentyabrskiy', 'deputatskiy', 'rojhan', 'kavieng', 'glace bay', 'andros town', 'toliary', 'amderma', 'lavrentiya', 'aste', 'houlung', 'zarand', 'kaniama', 'changji', 'rawson', 'mar del plata', 'broome', 'san rafael', 'samalaeulu', 'kaitangata', 'attawapiskat', 'pleasanton', 'soyo', 'portland', 'aasiaat', 'beruni', 'dingle', 'erzin', 'hope', 'longyearbyen', 'aksu', 'thinadhoo', 'goure', 'saint-francois', 'labutta', 'takoradi', 'kendrapara', 'tommot', 'tepalcingo', 'ipixuna', 'mrirt', 'monster', 'barawe', 'hualmay', 'buala', 'paradwip', 'grand gaube', 'teya', 'rostovka', 'pangnirtung', 'impfondo', 'bay roberts', 'muros', 'baruun-urt', 'senekal', 'uitenhage', 'acarau', 'tual', 'kumluca', 'talnakh', 'itarema', 'san cristobal', 'arcachon', 'ulladulla', 'albion', 'parana', 'belaya gora', 'kamen-rybolov', 'kidal', 'antofagasta', 'havre-saint-pierre', 'high rock', 'princeton', 'batagay-alyta', 'saint-prosper', 'padang', 'northam', 'pangkalanbuun', 'okha', 'domat', 'deniliquin', 'salinas', 'urdzhar', 'port augusta', 'pontianak', 'tezu', 'palmer', 'chabahar', 'menongue', 'lixourion', 'atherton', 'gat', 'beringovskiy', 'pereslavl-zalesskiy', 'mys shmidta', 'umm lajj', 'port-de-paix', 'yatou', 'haines junction', 'udachnyy', 'tautira', 'boa vista', 'port macquarie', 'campbell river', 'filadelfia', 'gallipoli', 'dudinka', 'nove mesto na morave', 'labuan', 'charagua', 'riyadh', 'wexford', 'kostomuksha', 'karamea', 'yulara', 'kamenskoye', 'mokhsogollokh', 'kununurra', 'vila do maio', 'quibor', 'kabwe', 'poum', 'zyryanka', 'ixtapa', 'tucuma', 'pevek', 'urucara', 'mildura', 'libertyville', 'flinders', 'zelenoborsk', 'hambantota', 'victor harbor', 'yeppoon', 'bonavista', 'saint-philippe', 'kovdor', 'lagoa', 'bolungarvik', 'grand river south east', 'berlevag', 'laguna', 'north branch', 'walvis bay', 'sept-iles', 'sarahan', 'nishihara', 'badalona', 'jabinyanah', 'gogrial', 'sangmelima', 'raga', 'timon', 'carauari', 'kavaratti', 'bismarck', 'plettenberg bay', 'college', 'marystown', 'yar-sale', 'bouca', 'novoagansk', 'del rio', 'piacabucu', 'eenhana', 'gushikawa', 'sakakah', 'simpang', 'kodiak', 'tsiroanomandidy', 'mogadishu', 'nhulunbuy', 'pore', 'balabac', 'malindi', 'alexandria', 'kachiry', 'elizabeth city', 'verkhnedneprovskiy', 'bhalki', 'graben-neudorf', 'rurrenabaque', 'chagda', 'fort wellington', 'chekhov', 'xichang', 'henderson', 'saint pete beach', 'nokaneng', 'adrar', 'samfya', 'zhaoqing', 'katima mulilo', 'benguela', 'ohangaron', 'makung', 'caravelas', 'hue', 'westport', 'munster', 'skalistyy', 'nelson bay', 'pangody', 'ambon', 'ylivieska', 'jibuti', 'korla', 'halalo', 'temaraia', 'luanda', 'sabha', 'brae', 'valdez', 'raudeberg', 'diffa', 'aden', 'ambilobe', 'progreso', 'yichang', 'kurchum', 'souillac', 'guapore', 'ponta do sol', 'comodoro rivadavia', 'atka', 'pathein', 'nome', 'lata', 'cabo san lucas', 'vila velha', 'dalnerechensk', 'yerbogachen', 'puksoozero', 'luena', 'santa fe', 'mayo', 'havoysund', 'maldonado', 'marcona', 'sinjai', 'ijaki', 'kajansi', 'subaytilah', 'olesno', 'nizhneyansk', 'tendukheda', 'methoni', 'okhotsk', 'matara', 'lerwick', 'maltahohe', 'bom jesus da lapa', 'soe', 'sanok', 'andevoranto', 'mayumba', 'corpus christi', 'samarai', 'kuching', 'ushtobe', 'tirumullaivasal', 'bayir', 'navalcarnero', 'abnub', 'doctor pedro p. pena', 'lira', 'naantali', 'masterton', 'lady frere', 'bilma', 'artyk', 'nakonde', 'geraldton', 'alto araguaia', 'namatanai', 'itororo']\n"
     ]
    }
   ],
   "source": [
    "#print cities for sanity check\n",
    "print(cities)"
   ]
  },
  {
   "cell_type": "code",
   "execution_count": 18,
   "metadata": {},
   "outputs": [
    {
     "output_type": "error",
     "ename": "SyntaxError",
     "evalue": "invalid character in identifier (<ipython-input-18-dbdf57a5e8d5>, line 19)",
     "traceback": [
      "\u001b[0;36m  File \u001b[0;32m\"<ipython-input-18-dbdf57a5e8d5>\"\u001b[0;36m, line \u001b[0;32m19\u001b[0m\n\u001b[0;31m    for city in city_sample:\u001b[0m\n\u001b[0m                          ^\u001b[0m\n\u001b[0;31mSyntaxError\u001b[0m\u001b[0;31m:\u001b[0m invalid character in identifier\n"
     ]
    }
   ],
   "source": [
    "#weather checks\n",
    "url = \"http://api.openweathermap.org/data/2.5/weather?\"\n",
    "units = \"metric\"\n",
    "\n",
    "query_url = f\"{url}appid={weather_api_key}&units={units}&q=\"\n",
    "\n",
    "#loop set up\n",
    "lat=[]\n",
    "lng=[]\n",
    "max_temp=[]\n",
    "humidity=[]\n",
    "cloudiness=[]\n",
    "windspeed=[]\n",
    "country=[]\n",
    "date=[]\n",
    "city_sample = [\"hilo\", \"samusu\", \"caravelas\", \"castro\", \"bredasdorp\", \"albany\"]\n",
    "\n",
    "#loop\n",
    "for city in city_sample:\n",
    "    try:\n",
    "        response = requests.get(query_url + city).json()\n",
    "        print(f'processing record for: {city}')\n",
    "        lat.append(response['coord']['lat'])\n",
    "        lng.append(response['coord']['lng'])\n",
    "        max_temp.append(response['main']['temp_max'])\n",
    "        cloudiness.append(response['weather']['description'])\n",
    "        windspeed.append(response['wind']['speed'])\n",
    "        country.append(response['sys']['country'])\n",
    "        date.append(response['dt'])\n",
    "\n",
    "    except KeyError:\n",
    "        print(\"city record not found...skipping..\")\n",
    "\n",
    "print('done')\n"
   ]
  },
  {
   "cell_type": "markdown",
   "metadata": {},
   "source": [
    "### Perform API Calls\n",
    "* Perform a weather check on each city using a series of successive API calls.\n",
    "* Include a print log of each city as it'sbeing processed (with the city number and city name).\n"
   ]
  },
  {
   "cell_type": "code",
   "execution_count": null,
   "metadata": {},
   "outputs": [],
   "source": [
    "#df creation!!!!!!!!!!!!!!!\n",
    "# weather_dict = {\n",
    "    #\"city\": cities,\n",
    "    #\"lat\": lat,\n",
    "    #\"temp\": temp\n",
    "#}\n",
    "#weather_data = pd.DataFrame(weather_dict)\n",
    "#weather_data.head()"
   ]
  },
  {
   "cell_type": "code",
   "execution_count": null,
   "metadata": {
    "scrolled": true
   },
   "outputs": [],
   "source": []
  },
  {
   "cell_type": "markdown",
   "metadata": {},
   "source": [
    "### Convert Raw Data to DataFrame\n",
    "* Export the city data into a .csv.\n",
    "* Display the DataFrame"
   ]
  },
  {
   "cell_type": "code",
   "execution_count": null,
   "metadata": {},
   "outputs": [],
   "source": []
  },
  {
   "cell_type": "code",
   "execution_count": null,
   "metadata": {},
   "outputs": [],
   "source": []
  },
  {
   "cell_type": "markdown",
   "metadata": {},
   "source": [
    "## Inspect the data and remove the cities where the humidity > 100%.\n",
    "----\n",
    "Skip this step if there are no cities that have humidity > 100%. "
   ]
  },
  {
   "cell_type": "code",
   "execution_count": null,
   "metadata": {},
   "outputs": [],
   "source": []
  },
  {
   "cell_type": "code",
   "execution_count": null,
   "metadata": {},
   "outputs": [],
   "source": [
    "#  Get the indices of cities that have humidity over 100%.\n"
   ]
  },
  {
   "cell_type": "code",
   "execution_count": null,
   "metadata": {},
   "outputs": [],
   "source": [
    "# Make a new DataFrame equal to the city data to drop all humidity outliers by index.\n",
    "# Passing \"inplace=False\" will make a copy of the city_data DataFrame, which we call \"clean_city_data\".\n"
   ]
  },
  {
   "cell_type": "code",
   "execution_count": null,
   "metadata": {},
   "outputs": [],
   "source": [
    "\n"
   ]
  },
  {
   "cell_type": "markdown",
   "metadata": {},
   "source": [
    "## Plotting the Data\n",
    "* Use proper labeling of the plots using plot titles (including date of analysis) and axes labels.\n",
    "* Save the plotted figures as .pngs."
   ]
  },
  {
   "cell_type": "markdown",
   "metadata": {},
   "source": [
    "## Latitude vs. Temperature Plot"
   ]
  },
  {
   "cell_type": "code",
   "execution_count": null,
   "metadata": {
    "scrolled": true
   },
   "outputs": [],
   "source": []
  },
  {
   "cell_type": "markdown",
   "metadata": {},
   "source": [
    "## Latitude vs. Humidity Plot"
   ]
  },
  {
   "cell_type": "code",
   "execution_count": null,
   "metadata": {},
   "outputs": [],
   "source": []
  },
  {
   "cell_type": "markdown",
   "metadata": {},
   "source": [
    "## Latitude vs. Cloudiness Plot"
   ]
  },
  {
   "cell_type": "code",
   "execution_count": null,
   "metadata": {},
   "outputs": [],
   "source": []
  },
  {
   "cell_type": "markdown",
   "metadata": {},
   "source": [
    "## Latitude vs. Wind Speed Plot"
   ]
  },
  {
   "cell_type": "code",
   "execution_count": null,
   "metadata": {},
   "outputs": [],
   "source": []
  },
  {
   "cell_type": "markdown",
   "metadata": {},
   "source": [
    "## Linear Regression"
   ]
  },
  {
   "cell_type": "code",
   "execution_count": null,
   "metadata": {},
   "outputs": [],
   "source": []
  },
  {
   "cell_type": "markdown",
   "metadata": {},
   "source": [
    "####  Northern Hemisphere - Max Temp vs. Latitude Linear Regression"
   ]
  },
  {
   "cell_type": "code",
   "execution_count": null,
   "metadata": {},
   "outputs": [],
   "source": []
  },
  {
   "cell_type": "markdown",
   "metadata": {},
   "source": [
    "####  Southern Hemisphere - Max Temp vs. Latitude Linear Regression"
   ]
  },
  {
   "cell_type": "code",
   "execution_count": null,
   "metadata": {},
   "outputs": [],
   "source": []
  },
  {
   "cell_type": "markdown",
   "metadata": {},
   "source": [
    "####  Northern Hemisphere - Humidity (%) vs. Latitude Linear Regression"
   ]
  },
  {
   "cell_type": "code",
   "execution_count": null,
   "metadata": {},
   "outputs": [],
   "source": []
  },
  {
   "cell_type": "markdown",
   "metadata": {},
   "source": [
    "####  Southern Hemisphere - Humidity (%) vs. Latitude Linear Regression"
   ]
  },
  {
   "cell_type": "code",
   "execution_count": null,
   "metadata": {},
   "outputs": [],
   "source": []
  },
  {
   "cell_type": "markdown",
   "metadata": {},
   "source": [
    "####  Northern Hemisphere - Cloudiness (%) vs. Latitude Linear Regression"
   ]
  },
  {
   "cell_type": "code",
   "execution_count": null,
   "metadata": {},
   "outputs": [],
   "source": []
  },
  {
   "cell_type": "markdown",
   "metadata": {},
   "source": [
    "####  Southern Hemisphere - Cloudiness (%) vs. Latitude Linear Regression"
   ]
  },
  {
   "cell_type": "code",
   "execution_count": null,
   "metadata": {},
   "outputs": [],
   "source": []
  },
  {
   "cell_type": "markdown",
   "metadata": {},
   "source": [
    "####  Northern Hemisphere - Wind Speed (mph) vs. Latitude Linear Regression"
   ]
  },
  {
   "cell_type": "code",
   "execution_count": null,
   "metadata": {},
   "outputs": [],
   "source": []
  },
  {
   "cell_type": "markdown",
   "metadata": {},
   "source": [
    "####  Southern Hemisphere - Wind Speed (mph) vs. Latitude Linear Regression"
   ]
  },
  {
   "cell_type": "code",
   "execution_count": null,
   "metadata": {},
   "outputs": [],
   "source": []
  },
  {
   "cell_type": "code",
   "execution_count": null,
   "metadata": {},
   "outputs": [],
   "source": []
  }
 ],
 "metadata": {
  "anaconda-cloud": {},
  "kernel_info": {
   "name": "python3"
  },
  "kernelspec": {
   "name": "python385jvsc74a57bd0b75be9ad71603c40476c6c8216298ace4da278de65ecdbf5da31753ceef4d599",
   "display_name": "Python 3.8.5 64-bit ('base': conda)"
  },
  "language_info": {
   "codemirror_mode": {
    "name": "ipython",
    "version": 3
   },
   "file_extension": ".py",
   "mimetype": "text/x-python",
   "name": "python",
   "nbconvert_exporter": "python",
   "pygments_lexer": "ipython3",
   "version": "3.8.5"
  },
  "latex_envs": {
   "LaTeX_envs_menu_present": true,
   "autoclose": false,
   "autocomplete": true,
   "bibliofile": "biblio.bib",
   "cite_by": "apalike",
   "current_citInitial": 1,
   "eqLabelWithNumbers": true,
   "eqNumInitial": 1,
   "hotkeys": {
    "equation": "Ctrl-E",
    "itemize": "Ctrl-I"
   },
   "labels_anchors": false,
   "latex_user_defs": false,
   "report_style_numbering": false,
   "user_envs_cfg": false
  },
  "nteract": {
   "version": "0.12.3"
  }
 },
 "nbformat": 4,
 "nbformat_minor": 2
}