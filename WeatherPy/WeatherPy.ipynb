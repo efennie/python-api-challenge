{
 "cells": [
  {
   "cell_type": "markdown",
   "metadata": {},
   "source": [
    "# WeatherPy\n",
    "----\n",
    "\n",
    "#### Note\n",
    "* Instructions have been included for each segment. You do not have to follow them exactly, but they are included to help you think through the steps."
   ]
  },
  {
   "cell_type": "code",
   "execution_count": 55,
   "metadata": {
    "scrolled": true
   },
   "outputs": [],
   "source": [
    "# Dependencies and Setup\n",
    "import matplotlib.pyplot as plt\n",
    "import pandas as pd\n",
    "import numpy as np\n",
    "import requests\n",
    "import time\n",
    "from scipy.stats import linregress\n",
    "\n",
    "# Import API key\n",
    "from api_keys import weather_api_key\n",
    "\n",
    "# Incorporated citipy to determine city based on latitude and longitude\n",
    "from citipy import citipy\n",
    "\n",
    "# Output File (CSV)\n",
    "output_data_file = \"output_data/cities.csv\"\n",
    "\n",
    "# Range of latitudes and longitudes\n",
    "lat_range = (-90, 90)\n",
    "lng_range = (-180, 180)"
   ]
  },
  {
   "cell_type": "markdown",
   "metadata": {},
   "source": [
    "## Generate Cities List"
   ]
  },
  {
   "cell_type": "code",
   "execution_count": 56,
   "metadata": {},
   "outputs": [
    {
     "output_type": "execute_result",
     "data": {
      "text/plain": [
       "614"
      ]
     },
     "metadata": {},
     "execution_count": 56
    }
   ],
   "source": [
    "# List for holding lat_lngs and cities\n",
    "lat_lngs = []\n",
    "cities = []\n",
    "\n",
    "# Create a set of random lat and lng combinations\n",
    "lats = np.random.uniform(lat_range[0], lat_range[1], size=1500)\n",
    "lngs = np.random.uniform(lng_range[0], lng_range[1], size=1500)\n",
    "lat_lngs = zip(lats, lngs)\n",
    "\n",
    "# Identify nearest city for each lat, lng combination\n",
    "for lat_lng in lat_lngs:\n",
    "    city = citipy.nearest_city(lat_lng[0], lat_lng[1]).city_name\n",
    "    \n",
    "    # If the city is unique, then add it to a our cities list\n",
    "    if city not in cities:\n",
    "        cities.append(city)\n",
    "\n",
    "# Print the city count to confirm sufficient count\n",
    "len(cities)"
   ]
  },
  {
   "cell_type": "code",
   "execution_count": 57,
   "metadata": {},
   "outputs": [
    {
     "output_type": "stream",
     "name": "stdout",
     "text": [
      "['kavaratti', 'nome', 'albany', 'punta arenas', 'tuktoyaktuk', 'shkurinskaya', 'provideniya', 'havoysund', 'ponta do sol', 'banda aceh', 'mumford', 'flinders', 'kamenskoye', 'praia da vitoria', 'thompson', 'longyearbyen', 'rikitea', 'samarai', 'ialibu', 'vaini', 'ushuaia', 'hobart', 'foam lake', 'sao jose da coroa grande', 'narsaq', 'yellowknife', 'airai', 'port elizabeth', 'shache', 'bluff', 'clyde river', 'byron bay', 'new norfolk', 'san francisco', 'carauari', 'takoradi', 'osypenko', 'zhigansk', 'grand centre', 'zhuanghe', 'rungata', 'busselton', 'tasiilaq', 'qaanaaq', 'tupik', 'jamestown', 'iqaluit', 'illoqqortoormiut', 'hervey bay', 'bengkulu', 'walvis bay', 'saint anthony', 'buba', 'havre-saint-pierre', 'avarua', 'dingle', 'vanavara', 'nhulunbuy', 'aripuana', 'port macquarie', 'bathsheba', 'sao domingos', 'saint-francois', 'lagoa', 'nanortalik', 'butaritari', 'kalmunai', 'necochea', 'jiangkou', 'vestmannaeyjar', 'victoria', 'fort nelson', 'maragogi', 'gaya', 'leshukonskoye', 'borovskoy', 'kapaa', 'bur gabo', 'hermanus', 'taolanaro', 'saint george', 'bethel', 'severo-kurilsk', 'lata', 'torbay', 'tuatapere', 'leh', 'kapit', 'bredasdorp', 'sayyan', 'alihe', 'chuy', 'georgetown', 'saint-leu', 'mar del plata', 'mataura', 'harper', 'nova olimpia', 'namibe', 'daru', 'atuona', 'bilibino', 'yankton', 'korla', 'bardsir', 'saleaula', 'santa isabel do rio negro', 'talnakh', 'upernavik', 'bandarbeyla', 'general roca', 'cidreira', 'saskylakh', 'lazaro cardenas', 'ulaangom', 'cockburn town', 'moyale', 'pangnirtung', 'pacific grove', 'balclutha', 'butembo', 'wote', 'kawalu', 'sydney mines', 'norman wells', 'rangapara', 'husavik', 'matagami', 'anzio', 'yura', 'fortuna', 'alofi', 'guerrero negro', 'beringovskiy', 'lebu', 'juneau', 'nikolskoye', 'san juan', 'kaitangata', 'gat', 'stephenville', 'khatanga', 'puerto ayora', 'glendive', 'constitucion', 'lokosovo', 'bilma', 'grand gaube', 'komsomolskiy', 'itarema', 'sao filipe', 'qabis', 'kelo', 'saint-philippe', 'kavieng', 'kaseda', 'kota', 'tura', 'sagua la grande', 'maniitsoq', 'kitimat', 'kodiak', 'lannion', 'ignalina', 'aksum', 'bambous virieux', 'grand river south east', 'wasilla', 'cayenne', 'peniche', 'tiksi', 'belushya guba', 'carnarvon', 'russell', 'ilulissat', 'barrow', 'attawapiskat', 'garissa', 'kuna', 'vadso', 'bara', 'nizhneyansk', 'capao da canoa', 'ribeira grande', 'ocampo', 'faanui', 'mulchen', 'ambanja', 'manacapuru', 'krumbach', 'dwarka', 'yar-sale', 'huilong', 'henties bay', 'castro', 'solnechnyy', 'vaitupu', 'potsdam', 'chalan', 'aklavik', 'marcona', 'sulur', 'severo-yeniseyskiy', 'kirakira', 'gualaquiza', 'birao', 'vila franca do campo', 'biak', 'lakatoro', 'puerto madryn', 'kota belud', 'salinopolis', 'mexico', 'boa vista', 'mwinilunga', 'olkhovatka', 'waipawa', 'basco', 'suhbaatar', 'kindersley', 'namatanai', 'hilo', 'roma', 'hithadhoo', 'san felipe', 'esperance', 'ayan', 'tateyama', 'waddan', 'cherskiy', 'acapulco', 'heihe', 'kruisfontein', 'beloha', 'iberia', 'cape town', 'gurun', 'luanda', 'kualakapuas', 'gizo', 'pochutla', 'loikaw', 'kalas', 'amderma', 'pevek', 'barentsburg', 'maridi', 'rocha', 'svetlyy', 'lorengau', 'lasa', 'touros', 'shakawe', 'lolua', 'vreed en hoop', 'hasaki', 'noumea', 'northam', 'qaqortoq', 'cap-aux-meules', 'sentyabrskiy', 'sao joao de pirabas', 'east london', 'broome', 'surt', 'mount isa', 'dikson', 'kainantu', 'zhanatas', 'chokurdakh', 'asyut', 'lancaster', 'galiwinku', 'port alfred', 'mahebourg', 'yarada', 'menongue', 'christchurch', 'bandar-e torkaman', 'la uribe', 'uzunovo', 'acarau', 'forrest city', 'puerto narino', 'samusu', 'kamaishi', 'ogulin', 'mae hong son', 'turukhansk', 'parabel', 'pundaguitan', 'gondar', 'andenes', 'sorvag', 'saryagash', 'sakaide', 'sabzevar', 'nouadhibou', 'rotifunk', 'norfolk', 'barcelos', 'dunedin', 'leo', 'adrar', 'boguchar', 'denizli', 'sakaiminato', 'urumqi', 'mogadishu', 'kemise', 'calbuco', 'gallup', 'thanh hoa', 'vostok', 'tevaitoa', 'kasane', 'umzimvubu', 'paradwip', 'arys', 'yenagoa', 'kudahuvadhoo', 'putina', 'fairview', 'taoudenni', 'havelock', 'omboue', 'nuuk', 'tabou', 'pangai', 'carballo', 'richard toll', 'graaff-reinet', 'anloga', 'kargopol', 'terney', 'evensk', 'porto novo', 'arraial do cabo', 'jacqueville', 'lompoc', 'nguiu', 'burnley', 'sirur', 'soc trang', 'prieska', 'buala', 'caravelas', 'belle fourche', 'khudumelapye', 'campo', 'biltine', 'palabuhanratu', 'mys shmidta', 'pemba', 'krasnomayskiy', 'nardaran', 'los llanos de aridane', 'springbok', 'itoman', 'akyab', 'whitehorse', 'nioro', 'tsiroanomandidy', 'san patricio', 'jinchang', 'kondopoga', 'tieli', 'tiarei', 'salalah', 'ahumada', 'geraldton', 'karaul', 'muisne', 'ambon', 'sidi ali', 'awjilah', 'wahpeton', 'seminole', 'ambilobe', 'wundanyi', 'songjianghe', 'sitka', 'lambarene', 'mnogovershinnyy', 'pisco', 'shenjiamen', 'deori khas', 'quatre cocos', 'san quintin', 'pangoa', 'saldanha', 'tsihombe', 'pau brasil', 'sao gabriel da cachoeira', 'milyutinskaya', 'fare', 'bolungarvik', 'taman', 'hofn', 'ishigaki', 'rankweil', 'wakkanai', 'edd', 'westport', 'lavrentiya', 'ust-omchug', 'lugovoy', 'cockburn harbour', 'mount gambier', 'sangmelima', 'maghama', 'ostrovnoy', 'port hardy', 'concepcion del oro', 'agadez', 'tooele', 'saint-joseph', 'ahipara', 'kidal', 'alice springs', 'changping', 'pringsewu', 'ampanihy', 'challans', 'port lincoln', 'luganville', 'dongying', 'anuradhapura', 'udachnyy', 'sao raimundo nonato', 'sakakah', 'ipira', 'lima', 'yanchukan', 'altamira', 'maldonado', 'olafsvik', 'hualmay', 'tacuarembo', 'klaksvik', 'jiddah', 'rehoboth', 'ust-kamchatsk', 'bermeo', 'kijang', 'yeppoon', 'panaba', 'caxito', 'tumannyy', 'thabazimbi', 'kyra', 'sambava', 'dudinka', 'lethem', 'mahajanga', 'villa bruzual', 'morgan city', 'coquimbo', 'marica', 'frederikshavn', 'seddon', 'tangjiazhuang', 'zhanaozen', 'fairlie', 'petropavlovka', 'pangody', 'nyurba', 'kloulklubed', 'todos santos', 'bundaberg', 'huarmey', 'bidhuna', 'volklingen', 'leningradskiy', 'muravlenko', 'lashio', 'aasiaat', 'hay river', 'muroto', 'meulaboh', 'hauterive', 'kahului', 'pierre', 'sao pedro da aldeia', 'goderich', 'katsuura', 'rawson', 'ketchikan', 'saint-dizier', 'feni', 'gurgan', 'wajima', 'sibanicu', 'poco verde', 'te anau', 'lazurne', 'ferme-neuve', 'gold coast', 'souillac', 'atherton', 'yining', 'koungou', 'shimoda', 'kwekwe', 'barmer', 'ambovombe', 'esmeraldas', 'caruray', 'chapais', 'inuvik', 'sudova vyshnya', 'yafran', 'varberg', 'wuan', 'aflu', 'salekhard', 'suntar', 'ravar', 'coihaique', 'plettenberg bay', 'port hedland', 'davila', 'tual', 'dhidhdhoo', 'hagere hiywet', 'duyun', 'martyush', 'camalu', 'langsa', 'shuangcheng', 'makakilo city', 'zhengjiatun', 'afikpo', 'visby', 'safaga', 'araouane', 'corrales', 'banyo', 'boyabat', 'javanrud', 'louisbourg', 'aswan', 'shchigry', 'shunyi', 'bajo baudo', 'dekoa', 'haines junction', 'kirkwood', 'batangafo', 'mackay', 'krasnoselkup', 'ucluelet', 'pala', 'holguin', 'eureka', 'kuche', 'cabras', 'half moon bay', 'cabo san lucas', 'isangel', 'kikwit', 'ous', 'srikakulam', 'tromso', 'mehkar', 'yangjiang', 'barra', 'djambala', 'dalton', 'kesennuma', 'barra patuca', 'pandamatenga', 'flin flon', 'skibotn', 'alugan', 'vanino', 'pacifica', 'kawana waters', 'deputatskiy', 'washington', 'port blair', 'alta floresta', 'tuggurt', 'kupang', 'novikovo', 'miyako', 'atmakur', 'tezu', 'port shepstone', 'tazovskiy', 'saint-michel-des-saints', 'comodoro rivadavia', 'sarkand', 'khandyga', 'steamboat springs', 'ivolginsk', 'belyy yar', 'waitara', 'umkomaas', 'yulara', 'tukrah', 'istok', 'ajdabiya', 'tessalit', 'jalu', 'iquitos', 'karkaralinsk', 'cutro', 'balkhash', 'tepeojuma', 'hirado', 'santo tomas', 'belmonte', 'hamilton']\n"
     ]
    }
   ],
   "source": [
    "#print cities for sanity check\n",
    "print(cities)"
   ]
  },
  {
   "cell_type": "code",
   "execution_count": 58,
   "metadata": {},
   "outputs": [
    {
     "output_type": "error",
     "ename": "SyntaxError",
     "evalue": "invalid character in identifier (<ipython-input-58-d15975371e3f>, line 19)",
     "traceback": [
      "\u001b[0;36m  File \u001b[0;32m\"<ipython-input-58-d15975371e3f>\"\u001b[0;36m, line \u001b[0;32m19\u001b[0m\n\u001b[0;31m    for city in city_sample:\u001b[0m\n\u001b[0m                          ^\u001b[0m\n\u001b[0;31mSyntaxError\u001b[0m\u001b[0;31m:\u001b[0m invalid character in identifier\n"
     ]
    }
   ],
   "source": [
    "#weather checks\n",
    "url = \"http://api.openweathermap.org/data/2.5/weather?\"\n",
    "units = \"metric\"\n",
    "\n",
    "query_url = f\"{url}appid={weather_api_key}&units={units}&q=\"\n",
    "\n",
    "#loop set up\n",
    "lat=[]\n",
    "lng=[]\n",
    "max_temp=[]\n",
    "humidity=[]\n",
    "cloudiness=[]\n",
    "windspeed=[]\n",
    "country=[]\n",
    "date=[]\n",
    "city_sample = ['hilo', 'samusu', 'caravelas', 'castro', 'bredasdorp', 'albany']\n",
    "\n",
    "#loop\n",
    "for city in city_sample:\n",
    "    try:\n",
    "        response = requests.get(query_url + city).json()\n",
    "        print(f'processing record for: {city}')\n",
    "        lat.append(response['coord']['lat'])\n",
    "        lng.append(response['coord']['lng'])\n",
    "        max_temp.append(response['main']['temp_max'])\n",
    "        cloudiness.append(response['weather']['description'])\n",
    "        windspeed.append(response['wind']['speed'])\n",
    "        country.append(response['sys']['country'])\n",
    "        date.append(response['dt'])\n",
    "\n",
    "    except KeyError:\n",
    "        print(\"city record not found...skipping..\")\n",
    "\n",
    "print('done')\n"
   ]
  },
  {
   "cell_type": "markdown",
   "metadata": {},
   "source": [
    "### Perform API Calls\n",
    "* Perform a weather check on each city using a series of successive API calls.\n",
    "* Include a print log of each city as it'sbeing processed (with the city number and city name).\n"
   ]
  },
  {
   "cell_type": "code",
   "execution_count": null,
   "metadata": {},
   "outputs": [],
   "source": [
    "#df creation!!!!!!!!!!!!!!!\n",
    "# weather_dict = {\n",
    "    #\"city\": cities,\n",
    "    #\"lat\": lat,\n",
    "    #\"temp\": temp\n",
    "#}\n",
    "#weather_data = pd.DataFrame(weather_dict)\n",
    "#weather_data.head()"
   ]
  },
  {
   "cell_type": "code",
   "execution_count": null,
   "metadata": {
    "scrolled": true
   },
   "outputs": [],
   "source": []
  },
  {
   "cell_type": "markdown",
   "metadata": {},
   "source": [
    "### Convert Raw Data to DataFrame\n",
    "* Export the city data into a .csv.\n",
    "* Display the DataFrame"
   ]
  },
  {
   "cell_type": "code",
   "execution_count": null,
   "metadata": {},
   "outputs": [],
   "source": []
  },
  {
   "cell_type": "code",
   "execution_count": null,
   "metadata": {},
   "outputs": [],
   "source": []
  },
  {
   "cell_type": "markdown",
   "metadata": {},
   "source": [
    "## Inspect the data and remove the cities where the humidity > 100%.\n",
    "----\n",
    "Skip this step if there are no cities that have humidity > 100%. "
   ]
  },
  {
   "cell_type": "code",
   "execution_count": null,
   "metadata": {},
   "outputs": [],
   "source": []
  },
  {
   "cell_type": "code",
   "execution_count": null,
   "metadata": {},
   "outputs": [],
   "source": [
    "#  Get the indices of cities that have humidity over 100%.\n"
   ]
  },
  {
   "cell_type": "code",
   "execution_count": null,
   "metadata": {},
   "outputs": [],
   "source": [
    "# Make a new DataFrame equal to the city data to drop all humidity outliers by index.\n",
    "# Passing \"inplace=False\" will make a copy of the city_data DataFrame, which we call \"clean_city_data\".\n"
   ]
  },
  {
   "cell_type": "code",
   "execution_count": null,
   "metadata": {},
   "outputs": [],
   "source": [
    "\n"
   ]
  },
  {
   "cell_type": "markdown",
   "metadata": {},
   "source": [
    "## Plotting the Data\n",
    "* Use proper labeling of the plots using plot titles (including date of analysis) and axes labels.\n",
    "* Save the plotted figures as .pngs."
   ]
  },
  {
   "cell_type": "markdown",
   "metadata": {},
   "source": [
    "## Latitude vs. Temperature Plot"
   ]
  },
  {
   "cell_type": "code",
   "execution_count": null,
   "metadata": {
    "scrolled": true
   },
   "outputs": [],
   "source": []
  },
  {
   "cell_type": "markdown",
   "metadata": {},
   "source": [
    "## Latitude vs. Humidity Plot"
   ]
  },
  {
   "cell_type": "code",
   "execution_count": null,
   "metadata": {},
   "outputs": [],
   "source": []
  },
  {
   "cell_type": "markdown",
   "metadata": {},
   "source": [
    "## Latitude vs. Cloudiness Plot"
   ]
  },
  {
   "cell_type": "code",
   "execution_count": null,
   "metadata": {},
   "outputs": [],
   "source": []
  },
  {
   "cell_type": "markdown",
   "metadata": {},
   "source": [
    "## Latitude vs. Wind Speed Plot"
   ]
  },
  {
   "cell_type": "code",
   "execution_count": null,
   "metadata": {},
   "outputs": [],
   "source": []
  },
  {
   "cell_type": "markdown",
   "metadata": {},
   "source": [
    "## Linear Regression"
   ]
  },
  {
   "cell_type": "code",
   "execution_count": null,
   "metadata": {},
   "outputs": [],
   "source": []
  },
  {
   "cell_type": "markdown",
   "metadata": {},
   "source": [
    "####  Northern Hemisphere - Max Temp vs. Latitude Linear Regression"
   ]
  },
  {
   "cell_type": "code",
   "execution_count": null,
   "metadata": {},
   "outputs": [],
   "source": []
  },
  {
   "cell_type": "markdown",
   "metadata": {},
   "source": [
    "####  Southern Hemisphere - Max Temp vs. Latitude Linear Regression"
   ]
  },
  {
   "cell_type": "code",
   "execution_count": null,
   "metadata": {},
   "outputs": [],
   "source": []
  },
  {
   "cell_type": "markdown",
   "metadata": {},
   "source": [
    "####  Northern Hemisphere - Humidity (%) vs. Latitude Linear Regression"
   ]
  },
  {
   "cell_type": "code",
   "execution_count": null,
   "metadata": {},
   "outputs": [],
   "source": []
  },
  {
   "cell_type": "markdown",
   "metadata": {},
   "source": [
    "####  Southern Hemisphere - Humidity (%) vs. Latitude Linear Regression"
   ]
  },
  {
   "cell_type": "code",
   "execution_count": null,
   "metadata": {},
   "outputs": [],
   "source": []
  },
  {
   "cell_type": "markdown",
   "metadata": {},
   "source": [
    "####  Northern Hemisphere - Cloudiness (%) vs. Latitude Linear Regression"
   ]
  },
  {
   "cell_type": "code",
   "execution_count": null,
   "metadata": {},
   "outputs": [],
   "source": []
  },
  {
   "cell_type": "markdown",
   "metadata": {},
   "source": [
    "####  Southern Hemisphere - Cloudiness (%) vs. Latitude Linear Regression"
   ]
  },
  {
   "cell_type": "code",
   "execution_count": null,
   "metadata": {},
   "outputs": [],
   "source": []
  },
  {
   "cell_type": "markdown",
   "metadata": {},
   "source": [
    "####  Northern Hemisphere - Wind Speed (mph) vs. Latitude Linear Regression"
   ]
  },
  {
   "cell_type": "code",
   "execution_count": null,
   "metadata": {},
   "outputs": [],
   "source": []
  },
  {
   "cell_type": "markdown",
   "metadata": {},
   "source": [
    "####  Southern Hemisphere - Wind Speed (mph) vs. Latitude Linear Regression"
   ]
  },
  {
   "cell_type": "code",
   "execution_count": null,
   "metadata": {},
   "outputs": [],
   "source": []
  },
  {
   "cell_type": "code",
   "execution_count": null,
   "metadata": {},
   "outputs": [],
   "source": []
  }
 ],
 "metadata": {
  "anaconda-cloud": {},
  "kernel_info": {
   "name": "python3"
  },
  "kernelspec": {
   "name": "python385jvsc74a57bd0b75be9ad71603c40476c6c8216298ace4da278de65ecdbf5da31753ceef4d599",
   "display_name": "Python 3.8.5 64-bit ('base': conda)"
  },
  "language_info": {
   "codemirror_mode": {
    "name": "ipython",
    "version": 3
   },
   "file_extension": ".py",
   "mimetype": "text/x-python",
   "name": "python",
   "nbconvert_exporter": "python",
   "pygments_lexer": "ipython3",
   "version": "3.8.5"
  },
  "latex_envs": {
   "LaTeX_envs_menu_present": true,
   "autoclose": false,
   "autocomplete": true,
   "bibliofile": "biblio.bib",
   "cite_by": "apalike",
   "current_citInitial": 1,
   "eqLabelWithNumbers": true,
   "eqNumInitial": 1,
   "hotkeys": {
    "equation": "Ctrl-E",
    "itemize": "Ctrl-I"
   },
   "labels_anchors": false,
   "latex_user_defs": false,
   "report_style_numbering": false,
   "user_envs_cfg": false
  },
  "nteract": {
   "version": "0.12.3"
  }
 },
 "nbformat": 4,
 "nbformat_minor": 2
}