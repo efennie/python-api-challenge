{
 "cells": [
  {
   "cell_type": "markdown",
   "metadata": {},
   "source": [
    "# WeatherPy\n",
    "----\n",
    "\n",
    "#### Note\n",
    "* Instructions have been included for each segment. You do not have to follow them exactly, but they are included to help you think through the steps."
   ]
  },
  {
   "cell_type": "code",
   "execution_count": 97,
   "metadata": {
    "scrolled": true
   },
   "outputs": [],
   "source": [
    "# Dependencies and Setup\n",
    "import matplotlib.pyplot as plt\n",
    "import pandas as pd\n",
    "import numpy as np\n",
    "import requests\n",
    "import time\n",
    "from scipy.stats import linregress\n",
    "import csv\n",
    "\n",
    "# Import API key\n",
    "from api_keys import weather_api_key\n",
    "\n",
    "# Incorporated citipy to determine city based on latitude and longitude\n",
    "from citipy import citipy\n",
    "\n",
    "# Output File (CSV)\n",
    "output_data_file = \"output_data/cities.csv\"\n",
    "\n",
    "# Range of latitudes and longitudes\n",
    "lat_range = (-90, 90)\n",
    "lng_range = (-180, 180)"
   ]
  },
  {
   "cell_type": "markdown",
   "metadata": {},
   "source": [
    "## Generate Cities List"
   ]
  },
  {
   "cell_type": "code",
   "execution_count": 65,
   "metadata": {},
   "outputs": [
    {
     "output_type": "execute_result",
     "data": {
      "text/plain": [
       "591"
      ]
     },
     "metadata": {},
     "execution_count": 65
    }
   ],
   "source": [
    "# List for holding lat_lngs and cities\n",
    "lat_lngs = []\n",
    "cities = []\n",
    "\n",
    "# Create a set of random lat and lng combinations\n",
    "lats = np.random.uniform(lat_range[0], lat_range[1], size=1500)\n",
    "lngs = np.random.uniform(lng_range[0], lng_range[1], size=1500)\n",
    "lat_lngs = zip(lats, lngs)\n",
    "\n",
    "# Identify nearest city for each lat, lng combination\n",
    "for lat_lng in lat_lngs:\n",
    "    city = citipy.nearest_city(lat_lng[0], lat_lng[1]).city_name\n",
    "    \n",
    "    # If the city is unique, then add it to a our cities list\n",
    "    if city not in cities:\n",
    "        cities.append(city)\n",
    "\n",
    "# Print the city count to confirm sufficient count\n",
    "len(cities)"
   ]
  },
  {
   "cell_type": "code",
   "execution_count": 66,
   "metadata": {},
   "outputs": [
    {
     "output_type": "stream",
     "name": "stdout",
     "text": [
      "['grand river south east', 'butaritari', 'pochutla', 'luanda', 'maryville', 'privokzalnyy', 'jamestown', 'hermanus', 'vaini', 'airai', 'mys shmidta', 'taolanaro', 'rikitea', 'dikson', 'ribeira grande', 'atuona', 'nikolskoye', 'georgetown', 'cockburn town', 'klaksvik', 'cape town', 'clyde river', 'yagodnoye', 'iskateley', 'naze', 'punta arenas', 'qaanaaq', 'ushuaia', 'arraial do cabo', 'tiznit', 'isla mujeres', 'carutapera', 'alice springs', 'geraldton', 'bubaque', 'cherskiy', 'fare', 'necochea', 'tautira', 'kahului', 'saldanha', 'warqla', 'yefimovskiy', 'pangody', 'sola', 'eureka', 'komsomolets', 'la serena', 'salalah', 'norman wells', 'masunga', 'mega', 'new norfolk', 'thompson', 'hilo', 'chokurdakh', 'mataura', 'belushya guba', 'tuktoyaktuk', 'port alfred', 'portland', 'puerto escondido', 'kapaa', 'albany', 'tessalit', 'mitu', 'ust-koksa', 'san quintin', 'longyearbyen', 'cabo san lucas', 'barrow', 'sheridan', 'bandar', 'leh', 'hithadhoo', 'los llanos de aridane', 'praia da vitoria', 'kirakira', 'tabou', 'cayenne', 'cidreira', 'avarua', 'bluff', 'zhaoyuan', 'sao filipe', 'te anau', 'angra', 'roald', 'acapulco', 'tarakan', 'oistins', 'severnyy', 'azul', 'lasa', 'eidsvag', 'nanortalik', 'zhigansk', 'husavik', 'puerto madero', 'puerto ayora', 'llanes', 'saint anthony', 'dawei', 'lircay', 'rio grande', 'plettenberg bay', 'amderma', 'chifeng', 'saskylakh', 'faanui', 'tasiilaq', 'port hardy', 'ancud', 'illoqqortoormiut', 'kashi', 'nome', 'churapcha', 'jiazi', 'spirit river', 'ilulissat', 'barentsburg', 'port elizabeth', 'tual', 'samarai', 'port hedland', 'pevek', 'montbrison', 'tomislavgrad', 'bredasdorp', 'nizhneyansk', 'busselton', 'kaitangata', 'touros', 'toamasina', 'nouadhibou', 'rawson', 'kununurra', 'alofi', 'shenjiamen', 'yermakovskoye', 'puerto el triunfo', 'leningradskiy', 'port blair', 'flinders', 'hobart', 'beaumont', 'murray bridge', 'yangambi', 'gurskoye', 'vila velha', 'turukhansk', 'bambous virieux', 'tuatapere', 'mount isa', 'bargal', 'jardim', 'south plainfield', 'winnemucca', 'rio gallegos', 'kruisfontein', 'carnarvon', 'gewane', 'faya', 'sentyabrskiy', 'bukama', 'uvinza', 'ketchikan', 'vaitupu', 'upernavik', 'mar del plata', 'kribi', 'khatanga', 'tsihombe', 'bethel', 'yumen', 'juba', 'saint george', 'lima', 'romitan', 'paungde', 'mollendo', 'tiksi', 'balimo', 'jinchang', 'vangaindrano', 'ashdod', 'nantucket', 'gulariya', 'capitan bado', 'waingapu', 'dunedin', 'tezu', 'jertih', 'seddon', 'santa vitoria do palmar', 'whakatane', 'mapiripan', 'druzhba', 'saint-philippe', 'rundu', 'pizarro', 'lisakovsk', 'berlevag', 'laguna', 'palmas bellas', 'trenggalek', 'jutai', 'bull savanna', 'peace river', 'castro', 'luderitz', 'hamilton', 'klyuchi', 'guerrero negro', 'sao joao da barra', 'havre-saint-pierre', 'bandarbeyla', 'doctor pedro p. pena', 'auki', 'mehamn', 'sandwick', 'kodiak', 'teya', 'zonguldak', 'wonthaggi', 'batagay-alyta', 'ayan', 'stornoway', 'talnakh', 'nepa nagar', 'dingle', 'satitoa', 'rivera', 'westport', 'dzhusaly', 'nguiu', 'chuy', 'toliary', 'nichinan', 'mahibadhoo', 'ruatoria', 'marystown', 'esperance', 'attawapiskat', 'manubah', 'provideniya', 'fortuna', 'pangnirtung', 'gusau', 'port antonio', 'souillac', 'lorengau', 'caravelas', 'abu samrah', 'plouzane', 'ouallam', 'funtua', 'port lincoln', 'tumannyy', 'saint-pierre', 'lagunas', 'vyartsilya', 'peterhead', 'comodoro rivadavia', 'porto santo', 'lompoc', 'mecca', 'dongsheng', 'adamas', 'salaga', 'kavieng', 'yellowknife', 'narrabri', 'itacare', 'howard', 'benjamin hill', 'kungurtug', 'bengkulu', 'kloulklubed', 'hobyo', 'puerto plata', 'conceicao do araguaia', 'baykit', 'katsuura', 'vestmannaeyjar', 'ellsworth', 'kahta', 'alibag', 'severo-kurilsk', 'serebryansk', 'mokhsogollokh', 'maldonado', 'mahebourg', 'pogranichnyy', 'west bend', 'buchanan', 'homnabad', 'port shepstone', 'vardo', 'aljezur', 'anar darreh', 'moose factory', 'kabo', 'marquette', 'palabuhanratu', 'ostersund', 'inyonga', 'deputatskiy', 'kenai', 'pundaguitan', 'rolim de moura', 'papar', 'torbay', 'amalapuram', 'macon', 'khuzhir', 'lebu', 'dudinka', 'robertsport', 'loanda', 'tilichiki', 'schongau', 'yabrud', 'flin flon', 'montepuez', 'paamiut', 'malanje', 'pahrump', 'vanimo', 'mitsamiouli', 'great yarmouth', 'piacabucu', 'hauterive', 'muli', 'fevralsk', 'pasni', 'kastamonu', 'kerman', 'kavaratti', 'la ronge', 'kudahuvadhoo', 'hun', 'bolungarvik', 'dongying', 'nioki', 'port-cartier', 'rocha', 'east london', 'sharjah', 'soubre', 'cap malheureux', 'taos', 'inhambane', 'general roca', 'tommot', 'aksarka', 'novikovo', 'mildura', 'camacha', 'chadiza', 'potsdam', 'hasaki', 'para de minas', 'maniitsoq', 'bulawayo', 'zholymbet', 'goderich', 'tamandare', 'shimoda', 'tukrah', 'portobelo', 'borujan', 'farmington', 'ahipara', 'korla', 'saleaula', 'conceicao das alagoas', 'ballitoville', 'lyudinovo', 'broken hill', 'codrington', 'lavrentiya', 'adeje', 'fairbanks', 'afua', 'kemin', 'petrov val', 'namibe', 'okha', 'hammerfest', 'qasigiannguit', 'palmerston', 'port-gentil', 'erzin', 'alugan', 'xam nua', 'hay river', 'ust-shonosha', 'lewiston', 'aykhal', 'strelka', 'yarensk', 'galiwinku', 'warner robins', 'ponta do sol', 'acajutla', 'boguchany', 'manubul', 'saint-joseph', 'zverinogolovskoye', 'iqaluit', 'samusu', 'birao', 'kuche', 'moerai', 'bokoro', 'san patricio', 'tortoli', 'ibra', 'aklavik', 'sambava', 'bac lieu', 'ihosy', 'sept-iles', 'irondequoit', 'kiama', 'tabas', 'omsukchan', 'miraflores', 'sitka', 'kropotkin', 'bundibugyo', 'ahuimanu', 'kadykchan', 'bathsheba', 'mujiayingzi', 'atar', 'semey', 'kaseda', 'sao francisco', 'brewster', 'avrille', 'san cristobal', 'juegang', 'urdzhar', 'hinesville', 'ostrovnoy', 'narsaq', 'taburi', 'omboue', 'mutare', 'istok', 'mount gambier', 'celestun', 'uran', 'nakhon phanom', 'puerto baquerizo moreno', 'qinzhou', 'irece', 'padang', 'mende', 'avera', 'hushitai', 'yar-sale', 'caoayan', 'tsnori', 'wulanhaote', 'kemijarvi', 'skotterud', 'khormuj', 'morrope', 'umzimvubu', 'russell', 'hanzhong', 'hoopstad', 'hofn', 'olden', 'limoges', 'sitrah', 'itapirapua', 'noumea', 'bizhbulyak', 'hervey bay', 'aybak', 'pangoa', 'mosquera', 'victoria', 'kristianstad', 'burica', 'poya', 'shestakovo', 'gazojak', 'monywa', 'pop', 'fort saint john', 'marcona', 'ponta delgada', 'nereju', 'ekibastuz', 'jiuquan', 'mirnyy', 'road town', 'walvis bay', 'west plains', 'emerald', 'constitucion', 'yunjinghong', 'goure', 'nagua', 'pedernales', 'sudak', 'kyra', 'aykino', 'chandbali', 'coahuayana', 'santa maria do suacui', 'palmer', 'koumac', 'koungou', 'makhu', 'saint-augustin', 'fershampenuaz', 'maputo', 'mahajanga', 'broome', 'olafsvik', 'pitkyaranta', 'izhma', 'tsentralnyy', 'sulangan', 'xixiang', 'suba', 'komsomolskiy', 'egvekinot', 'jacqueville', 'usinsk', 'marrakesh', 'fort nelson', 'muroran', 'makakilo city', 'sabha', 'domoni', 'denizli', 'beian', 'meulaboh', 'namie', 'miandrivazo', 'punganuru', 'college', 'nexo', 'mancio lima', 'xinzhi', 'denpasar', 'forbes', 'hualmay', 'waddan', 'rimini', 'okato', 'envira', 'kangaatsiaq', 'san juan', 'el faiyum', 'kirkwood', 'khandyga', 'marzuq', 'lagoa', 'rockport', 'ngukurr', 'abong mbang', 'bowen', 'jeremie', 'pietarsaari', 'sioux lookout', 'altamira', 'moree', 'sinnamary', 'uruguaiana', 'saint-prosper', 'san fernando', 'mao', 'bose', 'kalach-na-donu', 'borogontsy', 'kuvshinovo', 'eha amufu', 'tongliao', 'berezovyy', 'todos santos', 'alexandria', 'maydolong', 'mackay']\n"
     ]
    }
   ],
   "source": [
    "#print cities for sanity check\n",
    "#print(cities)"
   ]
  },
  {
   "cell_type": "code",
   "execution_count": 125,
   "metadata": {},
   "outputs": [
    {
     "output_type": "stream",
     "name": "stdout",
     "text": [
      "['city_name', 'lat', 'long', 'max_temp', 'cloudiness', 'wind_speed', 'humidity', 'country', 'date', 'Kangaatsiaq', 68.3065, -53.4641, -3.51, 'overcast clouds', 2.54, 79, 'GL', 1619241026]\n"
     ]
    }
   ],
   "source": [
    "#create a sample response to look at how data is arranged in json\n",
    "data_to_keep = ['city_name', 'lat', 'long', 'max_temp', 'cloudiness', 'wind_speed', 'humidity', 'country', 'date']\n",
    "sample_req = requests.get(query_url+\"kangaatsiaq\").json()\n",
    "data_to_keep.append(sample_req['name'])\n",
    "data_to_keep.append(sample_req['coord']['lat'])\n",
    "data_to_keep.append(sample_req['coord']['lon'])\n",
    "data_to_keep.append(sample_req['main']['temp_max'])\n",
    "data_to_keep.append(sample_req['weather'][0]['description'])\n",
    "data_to_keep.append(sample_req['wind']['speed'])\n",
    "data_to_keep.append(sample_req['main']['humidity'])\n",
    "data_to_keep.append(sample_req['sys']['country'])\n",
    "data_to_keep.append(sample_req['dt'])\n",
    "print(data_to_keep)\n"
   ]
  },
  {
   "cell_type": "code",
   "execution_count": 112,
   "metadata": {},
   "outputs": [
    {
     "output_type": "stream",
     "name": "stdout",
     "text": [
      "{'coord': {'lon': -53.4641, 'lat': 68.3065}, 'weather': [{'id': 804, 'main': 'Clouds', 'description': 'overcast clouds', 'icon': '04n'}], 'base': 'stations', 'main': {'temp': -3.51, 'feels_like': -7.23, 'temp_min': -3.51, 'temp_max': -3.51, 'pressure': 1019, 'humidity': 79, 'sea_level': 1019, 'grnd_level': 1019}, 'visibility': 10000, 'wind': {'speed': 2.54, 'deg': 88, 'gust': 2.52}, 'clouds': {'all': 100}, 'dt': 1619240850, 'sys': {'country': 'GL', 'sunrise': 1619247517, 'sunset': 1619309096}, 'timezone': -7200, 'id': 3422683, 'name': 'Kangaatsiaq', 'cod': 200}\n"
     ]
    }
   ],
   "source": [
    "sample_req = requests.get(query_url+\"kangaatsiaq\").json()\n",
    "print(sample_req)"
   ]
  },
  {
   "cell_type": "code",
   "execution_count": 126,
   "metadata": {
    "tags": [
     "outputPrepend"
    ]
   },
   "outputs": [
    {
     "output_type": "stream",
     "name": "stdout",
     "text": [
      "47.8167, 10.9, 0.56, 'clear sky', 1.54, 80, 'DE', 1619241776, 'Yabrūd', 33.9674, 36.6574, 22.22, 'clear sky', 5.14, 21, 'SY', 1619241777, 'Flin Flon', 54.7682, -101.865, -5.59, 'scattered clouds', 0.75, 65, 'CA', 1619241778, 'Montepuez', -13.1256, 38.9997, 20.61, 'overcast clouds', 3.56, 87, 'MZ', 1619241778, 'Paamiut', 61.994, -49.6678, -0.09, 'clear sky', 1.69, 75, 'GL', 1619241779, 'Malanje', -9.5402, 16.341, 17.16, 'light rain', 1.03, 97, 'AO', 1619241779, 'Pahrump', 36.2083, -115.9839, 20.56, 'clear sky', 1.34, 17, 'US', 1619241780, 'Vanimo', -2.6741, 141.3028, 27.38, 'overcast clouds', 2.09, 83, 'PG', 1619241781, 'Mitsamiouli', -11.3847, 43.2844, 27, 'light rain', 4.12, 83, 'KM', 1619241781, 'Great Yarmouth', 52.6083, 1.7305, 5, 'overcast clouds', 1.03, 87, 'GB', 1619241782, 'Piaçabuçu', -10.4056, -36.4344, 24.88, 'few clouds', 1.83, 86, 'BR', 1619241782, 'Hauterive', 46.0901, 3.4459, 8, 'clear sky', 3.6, 66, 'FR', 1619241783, 'Muli', 2.9167, 73.5667, 28.66, 'few clouds', 3.99, 65, 'MV', 1619241784, 'Pasni', 25.2631, 63.471, 27.95, 'clear sky', 2.99, 71, 'PK', 1619241785, 'Kastamonu Province', 41.5, 33.6667, 10.66, 'overcast clouds', 0.55, 60, 'TR', 1619241575, 'Kerman', 30.2832, 57.0788, 24, 'clear sky', 2.06, 20, 'IR', 1619241786, 'Kavaratti', 10.5669, 72.642, 29.24, 'scattered clouds', 1.44, 66, 'IN', 1619241786, 'La Ronge', 55.1001, -105.2842, -5, 'broken clouds', 2.06, 50, 'CA', 1619241787, 'Kudahuvadhoo', 2.6708, 72.8944, 28.6, 'few clouds', 3.71, 64, 'MV', 1619241674, 'Hūn', 29.1268, 15.9477, 16.75, 'clear sky', 6.6, 68, 'LY', 1619241789, 'Dongying', 37.4564, 118.4856, 16.21, 'overcast clouds', 7.55, 61, 'CN', 1619241791, 'Nioki', -2.7167, 17.6833, 20.8, 'light rain', 0.55, 98, 'CD', 1619241792, 'Port-Cartier', 50.0334, -66.8654, 1.11, 'broken clouds', 1.03, 100, 'CA', 1619241792, 'Rocha', -34.4833, -54.3333, 16.65, 'overcast clouds', 3.72, 96, 'UY', 1619241793, 'East London', -33.0153, 27.9116, 15, 'clear sky', 1.54, 82, 'ZA', 1619241777, 'Sharjah city', 25.3573, 55.4033, 34, 'clear sky', 1.54, 12, 'AE', 1619241794, 'Soubre', 5.7856, -6.6083, 23.69, 'overcast clouds', 1.03, 95, 'CI', 1619241794, 'Cap Malheureux', -19.9842, 57.6142, 27.22, 'overcast clouds', 5.36, 77, 'MU', 1619241795, 'Taos', 36.4072, -105.5731, -1, 'clear sky', 0.92, 74, 'US', 1619241796, 'Inhambane', -23.865, 35.3833, 18, 'broken clouds', 2.19, 94, 'MZ', 1619241796, 'General Roca', -39.0333, -67.5833, 11, 'clear sky', 1.54, 76, 'AR', 1619241797, 'Tommot', 58.9564, 126.2925, 0.05, 'overcast clouds', 5.22, 62, 'RU', 1619241797, 'Aksarka', 66.5606, 67.7975, 1.68, 'broken clouds', 3.83, 99, 'RU', 1619241798, 'Novikovo', 51.1537, 37.8879, 4.59, 'light rain', 5.61, 93, 'RU', 1619241799, 'Mildura', -34.2, 142.15, 21, 'broken clouds', 4.63, 37, 'AU', 1619241599, 'Camacha', 33.0833, -16.3333, 17, 'few clouds', 7.2, 72, 'PT', 1619241800, 'Chadiza', -14.0678, 32.4392, 16.49, 'clear sky', 0.97, 88, 'ZM', 1619241801, 'Potsdam', 52.3989, 13.0657, 4.44, 'overcast clouds', 3.04, 84, 'DE', 1619241801, 'Hasaki', 35.7333, 140.8333, 22.22, 'broken clouds', 6.17, 55, 'JP', 1619241802, 'Pará de Minas', -19.8603, -44.6083, 16, 'clear sky', 1.41, 88, 'BR', 1619241802, 'Maniitsoq', 65.4167, -52.9, -1.56, 'few clouds', 2.69, 67, 'GL', 1619241803, 'Bulawayo', -20.15, 28.5833, 14.24, 'broken clouds', 1.92, 55, 'ZW', 1619241803, 'Zholymbet', 51.7433, 71.7122, 7.26, 'scattered clouds', 6.36, 32, 'KZ', 1619241804, 'Goderich', 43.7501, -81.7165, 9, 'broken clouds', 4.63, 57, 'CA', 1619241805, 'Tamandaré', -8.7597, -35.1047, 25.39, 'few clouds', 2.77, 78, 'BR', 1619241805, 'Shimoda', 34.6667, 138.95, 20, 'broken clouds', 2.57, 48, 'JP', 1619241806, 'Tūkrah', 32.5341, 20.5791, 23.5, 'overcast clouds', 12.76, 27, 'LY', 1619241806, 'Portobelo', 9.55, -79.65, 25.56, 'scattered clouds', 4.97, 82, 'PA', 1619241787, 'Farmington', 36.7281, -108.2187, 6, 'clear sky', 3.09, 26, 'US', 1619241672, 'Ahipara', -35.1667, 173.1667, 17.78, 'scattered clouds', 3.92, 71, 'NZ', 1619241808, 'Korla', 41.7597, 86.1469, 11.27, 'few clouds', 2.86, 37, 'CN', 1619241809, 'Conceição das Alagoas', -19.9147, -48.3883, 15.81, 'clear sky', 0.76, 53, 'BR', 1619241810, 'Ballitoville', -29.539, 31.2144, 18.89, 'light rain', 6.69, 77, 'ZA', 1619241810, 'Lyudinovo', 53.8664, 34.4478, 3.76, 'light rain', 2.7, 76, 'RU', 1619241811, 'Broken Hill', -31.95, 141.4333, 21, 'scattered clouds', 4.12, 35, 'AU', 1619241811, 'Codrington', -38.2667, 141.9667, 15.77, 'broken clouds', 5.77, 71, 'AU', 1619241520, 'Lavrentiya', 65.5833, -171, -0.58, 'clear sky', 1.75, 88, 'RU', 1619241812, 'Adeje', 28.1227, -16.726, 20, 'scattered clouds', 2.06, 73, 'ES', 1619241813, 'Fairbanks', 64.8378, -147.7164, 14, 'clear sky', 2.06, 30, 'US', 1619241603, 'Afuá', -0.1567, -50.3867, 23.66, 'overcast clouds', 1.55, 95, 'BR', 1619241814, 'Kemin', 42.7846, 75.6892, 13.61, 'few clouds', 1.93, 28, 'KG', 1619241814, 'Petrov Val', 50.1434, 45.2096, 10.35, 'overcast clouds', 3.68, 80, 'RU', 1619241815, 'Mossamedes', -15.1961, 12.1522, 24.7, 'scattered clouds', 1.97, 82, 'AO', 1619241569, 'Okha', 53.5739, 142.9478, 1.09, 'few clouds', 5.08, 61, 'RU', 1619241816, 'Hammerfest', 70.6634, 23.6821, -1, 'overcast clouds', 4.63, 64, 'NO', 1619241816, 'Qasigiannguit', 68.8193, -51.1922, -2, 'overcast clouds', 0.51, 69, 'GL', 1619241817, 'Palmerston', -12.486, 130.9833, 33.33, 'clear sky', 6.69, 17, 'AU', 1619241818, 'Port-Gentil', -0.7193, 8.7815, 27.25, 'overcast clouds', 2.05, 76, 'GA', 1619241818, 'Erzin', 36.9559, 36.2, 20, 'few clouds', 5.36, 46, 'TR', 1619241819, 'Alugan', 12.2188, 125.4808, 28.34, 'overcast clouds', 3.68, 77, 'PH', 1619241819, 'Xam Nua', 20.4197, 104.0439, 35.25, 'few clouds', 2.16, 28, 'LA', 1619241820, 'Hay River', 60.8156, -115.7999, -9, 'overcast clouds', 1.54, 73, 'CA', 1619241734, \"Ust'-Shonosha\", 61.1531, 41.343, 9.67, 'broken clouds', 4.56, 80, 'RU', 1619241821, 'Lewiston', 44.1003, -70.2148, 7.22, 'clear sky', 3.09, 49, 'US', 1619241821, 'Aykhal', 66, 111.5, 1, 'scattered clouds', 5.97, 99, 'RU', 1619241822, 'Strelka', 58.0728, 93.0344, 7.25, 'overcast clouds', 3.26, 58, 'RU', 1619241823, 'Yarensk', 62.1675, 49.0916, 10.92, 'scattered clouds', 3.78, 55, 'RU', 1619241823, 'Warner Robins', 32.621, -83.5999, 16.11, 'clear sky', 2.57, 59, 'US', 1619241825, 'Ponta do Sol', 32.6667, -17.1, 14.44, 'scattered clouds', 1.79, 82, 'PT', 1619241825, 'Acajutla', 13.5928, -89.8275, 23.89, 'few clouds', 0.89, 75, 'SV', 1619241801, 'Boguchany', 58.3814, 97.4531, 6.58, 'overcast clouds', 2.94, 62, 'RU', 1619241826, 'Manubul', 5.4732, 120.7986, 28.7, 'overcast clouds', 1.89, 66, 'PH', 1619241827, 'Saint-Joseph', -21.3667, 55.6167, 28, 'light rain', 7.72, 69, 'RE', 1619241828, 'Zverinogolovskoye', 54.4586, 64.8542, 7.93, 'overcast clouds', 6.3, 48, 'RU', 1619241828, 'Iqaluit', 63.7506, -68.5145, -1, 'light snow', 3.6, 100, 'CA', 1619241829, 'Birao', 10.2849, 22.7882, 26.37, 'overcast clouds', 2.85, 62, 'CF', 1619241830, 'Moerai', -22.4333, -151.3333, 24.84, 'overcast clouds', 7.3, 72, 'PF', 1619241831, 'Bokoro', 12.3807, 17.0568, 29.35, 'scattered clouds', 3.38, 31, 'TD', 1619241831, 'San Patricio', 28.017, -97.5169, 24.44, 'mist', 2.06, 94, 'US', 1619241832, 'Tortolì', 39.9256, 9.6572, 12, 'clear sky', 6.69, 62, 'IT', 1619241832, 'Ibrā’', 22.6906, 58.5334, 31.05, 'clear sky', 1.26, 21, 'OM', 1619241833, 'Aklavik', 68.2191, -135.0107, -1, 'broken clouds', 3.09, 59, 'CA', 1619241833, 'Sambava', -14.2667, 50.1667, 25.36, 'broken clouds', 4.01, 75, 'MG', 1619241834, 'Bac Lieu', 9.285, 105.7244, 31.83, 'broken clouds', 5.12, 56, 'VN', 1619241835, 'Ihosy', -22.4, 46.1167, 19.04, 'overcast clouds', 4.47, 83, 'MG', 1619241835, 'Sept-Îles', 50.2001, -66.3821, 1.11, 'light rain', 1.03, 100, 'CA', 1619241576, 'Irondequoit', 43.2134, -77.5797, 10, 'clear sky', 6.69, 50, 'US', 1619241836, 'Kiama', -34.6833, 150.8667, 22.22, 'overcast clouds', 0.45, 65, 'AU', 1619241837, 'Tabas', 33.5959, 56.9244, 30.65, 'broken clouds', 2.22, 13, 'IR', 1619241837, 'Omsukchan', 62.5333, 155.8, -8.49, 'light snow', 3.11, 85, 'RU', 1619241838, 'Miraflores', 19.2167, -98.8083, 21, 'scattered clouds', 1.54, 21, 'MX', 1619241838, 'Sitka', 57.0531, -135.33, 10, 'few clouds', 2.06, 43, 'US', 1619241839, 'Kropotkin', 45.4375, 40.5756, 11.59, 'overcast clouds', 3.71, 76, 'RU', 1619241839, 'Bundibugyo', 0.7414, 30.0417, 20.01, 'overcast clouds', 0.35, 84, 'UG', 1619241840, '‘Āhuimanu', 21.4447, -157.8378, 24, 'few clouds', 6.17, 73, 'US', 1619241841, 'Bathsheba', 13.2167, -59.5167, 26, 'scattered clouds', 9.26, 65, 'BB', 1619241842, 'Mujiayingzi', 42.1167, 118.7833, 11.32, 'overcast clouds', 5.32, 67, 'CN', 1619241842, 'Atar', 20.5169, -13.0499, 23.52, 'clear sky', 3.15, 17, 'MR', 1619241843, 'Semey', 50.4111, 80.2275, 10, 'clear sky', 5, 20, 'KZ', 1619241843, 'Kaseda-shirakame', 31.4167, 130.3167, 23, 'scattered clouds', 6.17, 43, 'JP', 1619241844, 'São Francisco', -15.9486, -44.8644, 20.78, 'light rain', 1.4, 55, 'BR', 1619241844, 'Brewster', 41.3973, -73.6171, 7.22, 'clear sky', 2.35, 65, 'US', 1619241845, 'Avrillé', 47.5, -0.5833, 9, 'clear sky', 4.12, 53, 'FR', 1619241622, 'San Cristobal', 7.7669, -72.225, 21.6, 'scattered clouds', 0.43, 72, 'VE', 1619241846, 'Juegang', 32.3174, 121.1855, 15.82, 'overcast clouds', 1.98, 94, 'CN', 1619241847, 'Hinesville', 31.8469, -81.5959, 15.56, 'overcast clouds', 2.81, 84, 'US', 1619241848, 'Ostrovnoy', 68.0531, 39.5131, 0.86, 'overcast clouds', 9.69, 93, 'RU', 1619241848, 'Narsaq', 60.9167, -46.05, 3, 'clear sky', 2.57, 75, 'GL', 1619241849, 'Omboué', -1.5746, 9.2618, 24.6, 'overcast clouds', 1.46, 93, 'GA', 1619241850, 'Mutare', -18.9707, 32.6709, 14.92, 'few clouds', 0.67, 91, 'ZW', 1619241850, 'Istok', 42.7808, 20.4875, 5, 'broken clouds', 0.51, 75, 'XK', 1619241851, 'Mount Gambier', -37.8333, 140.7667, 16, 'overcast clouds', 5.66, 77, 'AU', 1619241852, 'Celestún', 20.8667, -90.4, 27.12, 'overcast clouds', 8.54, 59, 'MX', 1619241676, 'Uran', 18.8769, 72.9397, 31, 'smoke', 3.09, 62, 'IN', 1619241853, 'Nakhon Phanom', 17.3333, 104.4167, 35, 'few clouds', 2.57, 58, 'TH', 1619241853, 'Puerto Baquerizo Moreno', -0.9, -89.6, 24.09, 'clear sky', 3.98, 90, 'EC', 1619241854, 'Qinzhou', 21.95, 108.6167, 30.94, 'broken clouds', 5.46, 61, 'CN', 1619241855, 'Irecê', -11.3042, -41.8558, 20.34, 'few clouds', 3, 91, 'BR', 1619241855, 'Padang', -0.9492, 100.3543, 30, 'light rain', 2.06, 66, 'ID', 1619241856, 'Arrondissement de Mende', 44.6667, 3.5, 3.47, 'broken clouds', 1.61, 59, 'FR', 1619241857, 'Avera', 33.194, -82.5271, 13, 'clear sky', 2.06, 76, 'US', 1619241857, 'Hushitai', 41.9322, 123.5114, 16, 'few clouds', 7, 67, 'CN', 1619241858, 'Yar-Sale', 66.8333, 70.8333, 0.34, 'overcast clouds', 3.16, 99, 'RU', 1619241858, 'Caoayan', 17.5619, 120.3975, 30.28, 'clear sky', 6.08, 56, 'PH', 1619241859, 'Tsnori', 41.6209, 45.9694, 14, 'broken clouds', 2.06, 77, 'GE', 1619241860, 'Kemijärvi', 66.7131, 27.4306, -0.76, 'light snow', 5.26, 93, 'FI', 1619241860, 'Skotterud', 59.9828, 12.1283, 0.56, 'clear sky', 6.17, 64, 'NO', 1619241861, 'Mórrope', -6.5417, -80.0111, 16.67, 'clear sky', 1.79, 89, 'PE', 1619241862, 'Russell', 32.3502, -85.1999, 17, 'broken clouds', 3.09, 45, 'US', 1619241863, 'Hanzhong', 33.0728, 107.0303, 18.51, 'overcast clouds', 5.39, 65, 'CN', 1619241864, 'Hoopstad', -27.8327, 25.9083, 13.02, 'clear sky', 3.26, 36, 'ZA', 1619241864, 'Hofn', 64.2539, -15.2082, 7.14, 'overcast clouds', 1.89, 75, 'IS', 1619241865, 'Olden', 61.8364, 6.8064, -1, 'light snow', 1.03, 100, 'NO', 1619241865, 'Arrondissement de Limoges', 45.75, 1.3333, 13, 'clear sky', 3.09, 38, 'FR', 1619241866, 'Sitrah', 26.1547, 50.6206, 32, 'clear sky', 2.06, 31, 'BH', 1619241867, 'Itapirapuã', -15.8233, -50.6133, 17.86, 'clear sky', 1.28, 72, 'BR', 1619241867, 'Noumea', -22.2763, 166.4572, 26, 'overcast clouds', 2.06, 83, 'NC', 1619241847, 'Bizhbulyak', 53.6967, 54.2642, 5.41, 'moderate rain', 5.14, 94, 'RU', 1619241868, 'Hervey Bay', -25.2986, 152.8535, 25, 'few clouds', 3.58, 53, 'AU', 1619241869, 'Pangoa', -12.1167, -73, 19.27, 'scattered clouds', 1.18, 98, 'PE', 1619241789, 'Mosquera', 4.7059, -74.2302, 12, 'scattered clouds', 1.52, 100, 'CO', 1619241727, 'Hong Kong', 22.2855, 114.1577, 27.22, 'broken clouds', 0.89, 75, 'HK', 1619241723, 'Kristianstad', 56.0313, 14.1524, 1, 'clear sky', 3.6, 75, 'SE', 1619241871, 'Poya', -21.35, 165.15, 26.09, 'overcast clouds', 3.5, 79, 'NC', 1619241872, 'Shestakovo', 56.4915, 103.96, 6.64, 'overcast clouds', 3.89, 52, 'RU', 1619241873, 'Gazojak', 41.1875, 61.4036, 25.8, 'broken clouds', 5.48, 11, 'TM', 1619241874, 'Monywa', 22.1167, 95.1333, 38.32, 'broken clouds', 3.26, 16, 'MM', 1619241874, 'Pop', 40.8736, 71.1089, 19, 'overcast clouds', 2.06, 39, 'UZ', 1619241875, 'Ponta Delgada', 37.7333, -25.6667, 14, 'few clouds', 9.77, 72, 'PT', 1619241876, 'Nereju', 45.7167, 26.7167, 4.44, 'clear sky', 1.21, 74, 'RO', 1619241877, 'Ekibastuz', 51.6667, 75.3667, 7.07, 'clear sky', 3.61, 35, 'KZ', 1619241877, 'Jiuquan', 39.7432, 98.5174, 11.66, 'overcast clouds', 1.69, 45, 'CN', 1619241878, 'Mirny', 62.5353, 113.9611, 1.83, 'overcast clouds', 4.73, 78, 'RU', 1619241878, 'Road Town', 18.4167, -64.6167, 26, 'few clouds', 4.63, 69, 'VG', 1619241879, 'Walvis Bay', -22.9575, 14.5053, 14, 'overcast clouds', 3.09, 94, 'NA', 1619241880, 'West Plains', 36.7281, -91.8524, 13, 'light rain', 4.12, 76, 'US', 1619241881, 'Emerald', -23.5333, 148.1667, 28, 'overcast clouds', 4.63, 26, 'AU', 1619241881, 'Constitución', -35.3333, -72.4167, 12.63, 'clear sky', 2.7, 71, 'CL', 1619241882, 'Gouré', 13.9835, 10.2704, 25.84, 'few clouds', 1.59, 15, 'NE', 1619241883, 'Nagua', 19.3832, -69.8474, 22.78, 'scattered clouds', 2.59, 94, 'DO', 1619241884, 'Pedernales', 18.0384, -71.744, 25.59, 'clear sky', 1.5, 67, 'DO', 1619241884, 'Sudak', 44.85, 34.9667, 9.94, 'scattered clouds', 5.11, 78, 'UA', 1619241885, 'Kyra', 49.5776, 111.9753, 10.02, 'overcast clouds', 3.42, 23, 'RU', 1619241885, 'Aykino', 62.2248, 49.9922, 10.07, 'broken clouds', 3.79, 56, 'RU', 1619241886, 'Chāndbāli', 20.7833, 86.7667, 38.57, 'few clouds', 3.76, 22, 'IN', 1619241886, 'Coahuayana Viejo', 18.7333, -103.6833, 22.2, 'broken clouds', 0.38, 74, 'MX', 1619241887, 'Santa Maria do Suaçuí', -18.1903, -42.4142, 17.62, 'scattered clouds', 0.35, 91, 'BR', 1619241888, 'Palmer', 42.1584, -72.3287, 9, 'clear sky', 1.92, 40, 'US', 1619241888, 'Koumac', -20.5667, 164.2833, 26.17, 'overcast clouds', 3.42, 80, 'NC', 1619241889, 'Koungou', -12.7336, 45.2042, 29, 'light rain', 5.66, 74, 'YT', 1619241890, 'Makhu', 31.1033, 74.9978, 28.32, 'clear sky', 3.22, 25, 'IN', 1619241890, 'Saint-Augustin', 51.226, -58.6502, 0.04, 'snow', 7.42, 98, 'CA', 1619241891, 'Fershampenuaz', 53.5202, 59.8117, 7.98, 'overcast clouds', 7.89, 59, 'RU', 1619241891, 'Maputo', -25.9653, 32.5892, 16, 'few clouds', 2.06, 94, 'MZ', 1619241892, 'Mahajanga', -15.7167, 46.3167, 28, 'few clouds', 3.6, 61, 'MG', 1619241730, 'Broome', 42.2506, -75.833, 7, 'clear sky', 3.6, 49, 'US', 1619241714, 'Olafsvik', 64.8945, -23.7142, 6.17, 'overcast clouds', 5.75, 96, 'IS', 1619241893, 'Pitkyaranta', 61.5734, 31.4792, 1.41, 'few clouds', 2.92, 86, 'RU', 1619241894, 'Izhma', 65.0083, 53.9113, 8.28, 'broken clouds', 3.14, 72, 'RU', 1619241894, 'Sulangan', 11.1373, 123.7228, 28.62, 'broken clouds', 2.28, 70, 'PH', 1619241895, 'Xixiang', 35.1628, 112.865, 15.43, 'moderate rain', 2.35, 68, 'CN', 1619241896, 'Suba', 10.8438, 121.0102, 28.19, 'overcast clouds', 3.35, 72, 'PH', 1619241897, 'Yangi Marg`ilon', 40.4272, 71.7189, 19, 'overcast clouds', 3.09, 30, 'UZ', 1619241897, 'Egvekinot', 66.3167, -179.1667, -1.24, 'overcast clouds', 1.2, 84, 'RU', 1619241898, 'Jacqueville', 5.2052, -4.4146, 28, 'few clouds', 3.09, 94, 'CI', 1619241899, 'Usinsk', 65.9939, 57.5281, 5.14, 'scattered clouds', 2.95, 83, 'RU', 1619241899, 'Marrakesh', 31.6315, -8.0083, 15, 'broken clouds', 1.54, 82, 'MA', 1619241900, 'Fort Nelson', 58.8053, -122.7002, -3, 'few clouds', 1.54, 68, 'CA', 1619241900, 'Muroran', 42.3172, 140.9881, 13, 'broken clouds', 5.66, 71, 'JP', 1619241901, 'Makakilo City', 21.3469, -158.0858, 25, 'light rain', 3.09, 61, 'US', 1619241902, 'Sabha', 27.0377, 14.4283, 19.5, 'scattered clouds', 7.32, 42, 'LY', 1619241902, 'Domoni', -12.2569, 44.5319, 26.87, 'moderate rain', 3.95, 85, 'KM', 1619241903, 'Denizli Province', 37.8402, 29.0698, 10, 'clear sky', 1.54, 66, 'TR', 1619241904, 'Beian', 63.6559, 9.5683, 3, 'few clouds', 7.72, 56, 'NO', 1619241904, 'Meulaboh', 4.1363, 96.1285, 27.22, 'overcast clouds', 1.02, 78, 'ID', 1619241905, 'Namie', 37.4833, 141, 17.22, 'overcast clouds', 0.45, 59, 'JP', 1619241905, 'Miandrivazo', -19.5167, 45.4667, 25.82, 'clear sky', 1.48, 66, 'MG', 1619241906, 'Punganūru', 13.3667, 78.5833, 30.18, 'overcast clouds', 2.28, 44, 'IN', 1619241907, 'College', 64.8569, -147.8028, 14, 'few clouds', 3.09, 35, 'US', 1619241908, 'Nexø', 55.0607, 15.1306, 4, 'clear sky', 3.09, 75, 'DK', 1619241908, 'Mâncio Lima', -7.6142, -72.8958, 22.18, 'broken clouds', 0.98, 98, 'BR', 1619241909, 'Xinzhi', 36.4989, 111.7047, 18.19, 'overcast clouds', 3.05, 44, 'CN', 1619241910, 'Denpasar', -8.65, 115.2167, 31, 'few clouds', 2.06, 66, 'ID', 1619241910, 'Forbes', -33.3833, 148.0167, 20, 'overcast clouds', 0.89, 38, 'AU', 1619241911, 'Hualmay', -11.0964, -77.6139, 18.77, 'clear sky', 3.84, 91, 'PE', 1619241664, 'Waddān', 29.1614, 16.139, 17.04, 'clear sky', 6.41, 67, 'LY', 1619241741, 'Provincia di Rimini', 44.0241, 12.5186, 10, 'clear sky', 1.54, 87, 'IT', 1619241912, 'Okato', -39.2, 173.8833, 15, 'scattered clouds', 3.13, 85, 'NZ', 1619241913, 'Envira', -7.3, -70.2167, 22.14, 'broken clouds', 0.73, 99, 'BR', 1619241913, 'Kangaatsiaq', 68.3065, -53.4641, -3.51, 'overcast clouds', 2.54, 79, 'GL', 1619241627, 'San Juan', -31.5375, -68.5364, 16.36, 'clear sky', 2.94, 69, 'AR', 1619241914, 'Kirkwood', 38.5834, -90.4068, 13.89, 'overcast clouds', 3.6, 67, 'US', 1619241718, 'Khandyga', 62.6667, 135.6, -1.6, 'few clouds', 3.13, 67, 'RU', 1619241686, 'Marzuq', 14.4, 46.4667, 25.47, 'clear sky', 1.99, 25, 'YE', 1619241916, 'Lagoa', 39.05, -27.9833, 14.09, 'broken clouds', 14.73, 72, 'PT', 1619241916, 'Rockport', 28.0206, -97.0544, 24, 'mist', 1.54, 94, 'US', 1619241917, 'Abong Mbang', 3.9833, 13.1833, 18.75, 'overcast clouds', 0.86, 98, 'CM', 1619241918, 'Bowen', -20.0167, 148.2333, 23, 'broken clouds', 4.63, 83, 'AU', 1619241919, 'Jérémie', 18.65, -74.1167, 24.8, 'few clouds', 0.57, 82, 'HT', 1619241919, 'Pedersore', 63.65, 22.6833, 0, 'snow', 9.26, 100, 'FI', 1619241920, 'Sioux Lookout', 50.1001, -91.917, -4, 'light snow', 3.02, 93, 'CA', 1619241920, 'Altamira', -3.2033, -52.2064, 22.3, 'overcast clouds', 0.34, 98, 'BR', 1619241921, 'Moree', -29.4667, 149.85, 23, 'clear sky', 5.66, 27, 'AU', 1619241921, 'Sinnamary', 5.3833, -52.95, 25.06, 'heavy intensity rain', 5.19, 90, 'GF', 1619241922, 'Uruguaiana', -29.7547, -57.0883, 23, 'clear sky', 2.06, 78, 'BR', 1619241923, 'Saint-Prosper', 46.2117, -70.4811, 9, 'broken clouds', 1.54, 43, 'CA', 1619241923, 'San Fernando', 15.0286, 120.6898, 33, 'haze', 2.06, 52, 'PH', 1619241924, 'Mahon', 39.8885, 4.2658, 10, 'clear sky', 1.54, 93, 'ES', 1619241924, 'Bose', 45.4612, 8.0137, 11.67, 'broken clouds', 0.21, 75, 'IT', 1619241925, 'Kalach-na-Donu', 48.691, 43.5264, 11, 'heavy intensity rain', 7, 76, 'RU', 1619241926, 'Borogontsy', 62.6683, 131.1683, -1.52, 'overcast clouds', 4.25, 78, 'RU', 1619241926, 'Kuvshinovo', 57.0295, 34.1725, 2.6, 'overcast clouds', 2.56, 80, 'RU', 1619241927, 'Eha Amufu', 6.6592, 7.7596, 24.69, 'overcast clouds', 1.68, 92, 'NG', 1619241927, 'Tongliao', 43.6125, 122.2653, 10.64, 'overcast clouds', 6.8, 39, 'CN', 1619241653, 'Berezovyy', 51.6667, 135.7, 6.79, 'overcast clouds', 5.2, 34, 'RU', 1619241928, 'Todos Santos', 23.45, -110.2167, 16.67, 'clear sky', 0.45, 89, 'MX', 1619241929, 'Alexandria', 31.2156, 29.9553, 19, 'clear sky', 2.57, 72, 'EG', 1619241850, 'Maydolong', 11.4992, 125.5011, 31.61, 'overcast clouds', 0.46, 62, 'PH', 1619241930, 'Mackay', -21.15, 149.2, 22, 'broken clouds', 4.63, 94, 'AU', 1619241930]\n"
     ]
    }
   ],
   "source": [
    "url = \"http://api.openweathermap.org/data/2.5/weather?\"\n",
    "units = \"metric\"\n",
    "\n",
    "query_url = f\"{url}appid={weather_api_key}&units={units}&q=\"\n",
    "\n",
    "#loop set up\n",
    "data_to_keep = ['city_name', 'lat', 'long', 'max_temp', 'cloudiness', 'wind_speed', 'humidity', 'country', 'date']\n",
    "\n",
    "for city in cities:\n",
    "    try:\n",
    "        keep_response = requests.get(query_url + city).json()\n",
    "        sample_req = requests.get(query_url+\"kangaatsiaq\").json()\n",
    "        data_to_keep.append(keep_response['name'])\n",
    "        data_to_keep.append(keep_response['coord']['lat'])\n",
    "        data_to_keep.append(keep_response['coord']['lon'])\n",
    "        data_to_keep.append(keep_response['main']['temp_max'])\n",
    "        data_to_keep.append(keep_response['weather'][0]['description'])\n",
    "        data_to_keep.append(keep_response['wind']['speed'])\n",
    "        data_to_keep.append(keep_response['main']['humidity'])\n",
    "        data_to_keep.append(keep_response['sys']['country'])\n",
    "        data_to_keep.append(keep_response['dt'])\n",
    "        print(f'processing record for: {city}')\n",
    "    \n",
    "    except KeyError:\n",
    "        print('records missing for {city} skipping...')\n",
    "\n",
    "print('done')\n",
    "print(data_to_keep)"
   ]
  },
  {
   "cell_type": "code",
   "execution_count": 81,
   "metadata": {
    "tags": [
     "outputPrepend"
    ]
   },
   "outputs": [
    {
     "output_type": "stream",
     "name": "stdout",
     "text": [
      "'speed': 1.54, 'deg': 220}, 'clouds': {'all': 20}, 'dt': 1619230531, 'sys': {'type': 1, 'id': 9333, 'country': 'ID', 'sunrise': 1619216498, 'sunset': 1619259158}, 'timezone': 28800, 'id': 1645528, 'name': 'Denpasar', 'cod': 200}, {'coord': {'lon': 148.0167, 'lat': -33.3833}, 'weather': [{'id': 804, 'main': 'Clouds', 'description': 'overcast clouds', 'icon': '04d'}], 'base': 'stations', 'main': {'temp': 20, 'feels_like': 19.02, 'temp_min': 20, 'temp_max': 20, 'pressure': 1023, 'humidity': 37}, 'visibility': 10000, 'wind': {'speed': 2.92, 'deg': 237, 'gust': 3.54}, 'clouds': {'all': 88}, 'dt': 1619230566, 'sys': {'type': 3, 'id': 20556, 'country': 'AU', 'sunrise': 1619210175, 'sunset': 1619249738}, 'timezone': 36000, 'id': 2166368, 'name': 'Forbes', 'cod': 200}, {'coord': {'lon': -77.6139, 'lat': -11.0964}, 'weather': [{'id': 800, 'main': 'Clear', 'description': 'clear sky', 'icon': '01n'}], 'base': 'stations', 'main': {'temp': 19.36, 'feels_like': 19.65, 'temp_min': 19.36, 'temp_max': 19.36, 'pressure': 1014, 'humidity': 88, 'sea_level': 1014, 'grnd_level': 1008}, 'visibility': 10000, 'wind': {'speed': 3.53, 'deg': 185, 'gust': 4.85}, 'clouds': {'all': 10}, 'dt': 1619230567, 'sys': {'country': 'PE', 'sunrise': 1619176510, 'sunset': 1619218914}, 'timezone': -18000, 'id': 3939761, 'name': 'Hualmay', 'cod': 200}, {'coord': {'lon': 16.139, 'lat': 29.1614}, 'weather': [{'id': 800, 'main': 'Clear', 'description': 'clear sky', 'icon': '01n'}], 'base': 'stations', 'main': {'temp': 18.6, 'feels_like': 17.98, 'temp_min': 18.6, 'temp_max': 18.6, 'pressure': 1010, 'humidity': 56, 'sea_level': 1010, 'grnd_level': 981}, 'visibility': 10000, 'wind': {'speed': 6.7, 'deg': 330, 'gust': 11.08}, 'clouds': {'all': 4}, 'dt': 1619230567, 'sys': {'country': 'LY', 'sunrise': 1619238003, 'sunset': 1619285205}, 'timezone': 7200, 'id': 2209055, 'name': 'Waddān', 'cod': 200}, {'coord': {'lon': 12.5186, 'lat': 44.0241}, 'weather': [{'id': 800, 'main': 'Clear', 'description': 'clear sky', 'icon': '01n'}], 'base': 'stations', 'main': {'temp': 7.13, 'feels_like': 6.33, 'temp_min': 6, 'temp_max': 9.44, 'pressure': 1023, 'humidity': 87}, 'visibility': 10000, 'wind': {'speed': 1.54, 'deg': 210}, 'clouds': {'all': 0}, 'dt': 1619230568, 'sys': {'type': 1, 'id': 6770, 'country': 'IT', 'sunrise': 1619237506, 'sunset': 1619287439}, 'timezone': 7200, 'id': 6457404, 'name': 'Provincia di Rimini', 'cod': 200}, {'coord': {'lon': 173.8833, 'lat': -39.2}, 'weather': [{'id': 802, 'main': 'Clouds', 'description': 'scattered clouds', 'icon': '03d'}], 'base': 'stations', 'main': {'temp': 15.8, 'feels_like': 15.66, 'temp_min': 14.44, 'temp_max': 17.22, 'pressure': 1010, 'humidity': 85}, 'visibility': 10000, 'wind': {'speed': 3.13, 'deg': 279, 'gust': 7.15}, 'clouds': {'all': 33}, 'dt': 1619230568, 'sys': {'type': 3, 'id': 2020402, 'country': 'NZ', 'sunrise': 1619204439, 'sunset': 1619243061}, 'timezone': 43200, 'id': 2185763, 'name': 'Okato', 'cod': 200}, {'coord': {'lon': -70.2167, 'lat': -7.3}, 'weather': [{'id': 803, 'main': 'Clouds', 'description': 'broken clouds', 'icon': '04n'}], 'base': 'stations', 'main': {'temp': 22.19, 'feels_like': 23.02, 'temp_min': 22.19, 'temp_max': 22.19, 'pressure': 1011, 'humidity': 98, 'sea_level': 1011, 'grnd_level': 989}, 'visibility': 10000, 'wind': {'speed': 0.68, 'deg': 34, 'gust': 0.78}, 'clouds': {'all': 79}, 'dt': 1619230568, 'sys': {'country': 'BR', 'sunrise': 1619174527, 'sunset': 1619217347}, 'timezone': -18000, 'id': 3664301, 'name': 'Envira', 'cod': 200}, {'coord': {'lon': -53.4641, 'lat': 68.3065}, 'weather': [{'id': 804, 'main': 'Clouds', 'description': 'overcast clouds', 'icon': '04n'}], 'base': 'stations', 'main': {'temp': -2.57, 'feels_like': -6.31, 'temp_min': -2.57, 'temp_max': -2.57, 'pressure': 1019, 'humidity': 84, 'sea_level': 1019, 'grnd_level': 1019}, 'visibility': 10000, 'wind': {'speed': 2.72, 'deg': 136, 'gust': 2.72}, 'clouds': {'all': 100}, 'dt': 1619230569, 'sys': {'country': 'GL', 'sunrise': 1619247517, 'sunset': 1619309096}, 'timezone': -7200, 'id': 3422683, 'name': 'Kangaatsiaq', 'cod': 200}, {'coord': {'lon': -68.5364, 'lat': -31.5375}, 'weather': [{'id': 800, 'main': 'Clear', 'description': 'clear sky', 'icon': '01n'}], 'base': 'stations', 'main': {'temp': 17.61, 'feels_like': 17.05, 'temp_min': 17.61, 'temp_max': 17.61, 'pressure': 1017, 'humidity': 62, 'sea_level': 1017, 'grnd_level': 944}, 'visibility': 10000, 'wind': {'speed': 4.17, 'deg': 202, 'gust': 5.85}, 'clouds': {'all': 3}, 'dt': 1619230565, 'sys': {'country': 'AR', 'sunrise': 1619175594, 'sunset': 1619215473}, 'timezone': -10800, 'id': 3837213, 'name': 'San Juan', 'cod': 200}, {'cod': '404', 'message': 'city not found'}, {'coord': {'lon': -90.4068, 'lat': 38.5834}, 'weather': [{'id': 804, 'main': 'Clouds', 'description': 'overcast clouds', 'icon': '04n'}], 'base': 'stations', 'main': {'temp': 14.02, 'feels_like': 13.25, 'temp_min': 13.33, 'temp_max': 14.44, 'pressure': 1012, 'humidity': 68}, 'visibility': 10000, 'wind': {'speed': 3.44, 'deg': 133, 'gust': 9.6}, 'clouds': {'all': 100}, 'dt': 1619230310, 'sys': {'type': 3, 'id': 2007650, 'country': 'US', 'sunrise': 1619176433, 'sunset': 1619225131}, 'timezone': -18000, 'id': 4393739, 'name': 'Kirkwood', 'cod': 200}, {'coord': {'lon': 135.6, 'lat': 62.6667}, 'weather': [{'id': 801, 'main': 'Clouds', 'description': 'few clouds', 'icon': '02d'}], 'base': 'stations', 'main': {'temp': -3.51, 'feels_like': -7.54, 'temp_min': -3.51, 'temp_max': -3.51, 'pressure': 1021, 'humidity': 68, 'sea_level': 1021, 'grnd_level': 1002}, 'visibility': 10000, 'wind': {'speed': 2.83, 'deg': 344, 'gust': 4.44}, 'clouds': {'all': 19}, 'dt': 1619230570, 'sys': {'country': 'RU', 'sunrise': 1619204575, 'sunset': 1619261299}, 'timezone': 32400, 'id': 2022773, 'name': 'Khandyga', 'cod': 200}, {'coord': {'lon': 46.4667, 'lat': 14.4}, 'weather': [{'id': 800, 'main': 'Clear', 'description': 'clear sky', 'icon': '01n'}], 'base': 'stations', 'main': {'temp': 19.54, 'feels_like': 18.93, 'temp_min': 19.54, 'temp_max': 19.54, 'pressure': 1012, 'humidity': 53, 'sea_level': 1012, 'grnd_level': 886}, 'visibility': 10000, 'wind': {'speed': 2.69, 'deg': 179, 'gust': 2.46}, 'clouds': {'all': 1}, 'dt': 1619230570, 'sys': {'country': 'YE', 'sunrise': 1619231706, 'sunset': 1619276946}, 'timezone': 10800, 'id': 72181, 'name': 'Marzuq', 'cod': 200}, {'coord': {'lon': -27.9833, 'lat': 39.05}, 'weather': [{'id': 802, 'main': 'Clouds', 'description': 'scattered clouds', 'icon': '03n'}], 'base': 'stations', 'main': {'temp': 14.06, 'feels_like': 13.51, 'temp_min': 14.06, 'temp_max': 14.06, 'pressure': 1013, 'humidity': 76, 'sea_level': 1013, 'grnd_level': 1004}, 'visibility': 10000, 'wind': {'speed': 14.63, 'deg': 322, 'gust': 17.32}, 'clouds': {'all': 27}, 'dt': 1619230571, 'sys': {'country': 'PT', 'sunrise': 1619247742, 'sunset': 1619296642}, 'timezone': 0, 'id': 3372964, 'name': 'Lagoa', 'cod': 200}, {'coord': {'lon': -97.0544, 'lat': 28.0206}, 'weather': [{'id': 701, 'main': 'Mist', 'description': 'mist', 'icon': '50n'}], 'base': 'stations', 'main': {'temp': 23.37, 'feels_like': 24.37, 'temp_min': 22.78, 'temp_max': 24, 'pressure': 1002, 'humidity': 100}, 'visibility': 8047, 'wind': {'speed': 7.2, 'deg': 160, 'gust': 12.86}, 'clouds': {'all': 90}, 'dt': 1619230571, 'sys': {'type': 1, 'id': 5675, 'country': 'US', 'sunrise': 1619178892, 'sunset': 1619225862}, 'timezone': -18000, 'id': 4723422, 'name': 'Rockport', 'cod': 200}, {'cod': '404', 'message': 'city not found'}, {'coord': {'lon': 13.1833, 'lat': 3.9833}, 'weather': [{'id': 804, 'main': 'Clouds', 'description': 'overcast clouds', 'icon': '04n'}], 'base': 'stations', 'main': {'temp': 18.95, 'feels_like': 19.46, 'temp_min': 18.95, 'temp_max': 18.95, 'pressure': 1011, 'humidity': 98, 'sea_level': 1011, 'grnd_level': 933}, 'visibility': 10000, 'wind': {'speed': 1.84, 'deg': 174, 'gust': 8.1}, 'clouds': {'all': 100}, 'dt': 1619230572, 'sys': {'country': 'CM', 'sunrise': 1619240289, 'sunset': 1619284338}, 'timezone': 3600, 'id': 2236053, 'name': 'Abong Mbang', 'cod': 200}, {'coord': {'lon': 148.2333, 'lat': -20.0167}, 'weather': [{'id': 803, 'main': 'Clouds', 'description': 'broken clouds', 'icon': '04d'}], 'base': 'stations', 'main': {'temp': 22, 'feels_like': 22.71, 'temp_min': 22, 'temp_max': 22, 'pressure': 1016, 'humidity': 94}, 'visibility': 10000, 'wind': {'speed': 6.69, 'deg': 150}, 'clouds': {'all': 75}, 'dt': 1619230572, 'sys': {'type': 1, 'id': 9503, 'country': 'AU', 'sunrise': 1619209226, 'sunset': 1619250584}, 'timezone': 36000, 'id': 2174444, 'name': 'Bowen', 'cod': 200}, {'coord': {'lon': -74.1167, 'lat': 18.65}, 'weather': [{'id': 801, 'main': 'Clouds', 'description': 'few clouds', 'icon': '02n'}], 'base': 'stations', 'main': {'temp': 25.02, 'feels_like': 25.74, 'temp_min': 25.02, 'temp_max': 25.02, 'pressure': 1016, 'humidity': 83, 'sea_level': 1016, 'grnd_level': 1016}, 'visibility': 10000, 'wind': {'speed': 2.52, 'deg': 21, 'gust': 3.48}, 'clouds': {'all': 18}, 'dt': 1619230574, 'sys': {'country': 'HT', 'sunrise': 1619174012, 'sunset': 1619219733}, 'timezone': -14400, 'id': 3723593, 'name': 'Jérémie', 'cod': 200}, {'coord': {'lon': 22.6833, 'lat': 63.65}, 'weather': [{'id': 601, 'main': 'Snow', 'description': 'snow', 'icon': '13n'}], 'base': 'stations', 'main': {'temp': 0.88, 'feels_like': -2.05, 'temp_min': 0.56, 'temp_max': 1.11, 'pressure': 1006, 'humidity': 100}, 'visibility': 9000, 'wind': {'speed': 2.57, 'deg': 340}, 'snow': {'1h': 0.57}, 'clouds': {'all': 75}, 'dt': 1619230574, 'sys': {'type': 1, 'id': 1343, 'country': 'FI', 'sunrise': 1619231293, 'sunset': 1619288774}, 'timezone': 10800, 'id': 642455, 'name': 'Pedersore', 'cod': 200}, {'coord': {'lon': -91.917, 'lat': 50.1001}, 'weather': [{'id': 600, 'main': 'Snow', 'description': 'light snow', 'icon': '13n'}], 'base': 'stations', 'main': {'temp': -3, 'feels_like': -7.19, 'temp_min': -3, 'temp_max': -3, 'pressure': 1015, 'humidity': 86}, 'visibility': 4828, 'wind': {'speed': 3.09, 'deg': 360}, 'snow': {'1h': 0.47}, 'clouds': {'all': 90}, 'dt': 1619230575, 'sys': {'type': 1, 'id': 979, 'country': 'CA', 'sunrise': 1619175465, 'sunset': 1619226824}, 'timezone': -18000, 'id': 6148373, 'name': 'Sioux Lookout', 'cod': 200}, {'coord': {'lon': -52.2064, 'lat': -3.2033}, 'weather': [{'id': 804, 'main': 'Clouds', 'description': 'overcast clouds', 'icon': '04n'}], 'base': 'stations', 'main': {'temp': 22.72, 'feels_like': 23.58, 'temp_min': 22.72, 'temp_max': 22.72, 'pressure': 1012, 'humidity': 97, 'sea_level': 1012, 'grnd_level': 1000}, 'visibility': 10000, 'wind': {'speed': 0.61, 'deg': 155, 'gust': 0.63}, 'clouds': {'all': 96}, 'dt': 1619230575, 'sys': {'country': 'BR', 'sunrise': 1619169983, 'sunset': 1619213247}, 'timezone': -10800, 'id': 3407882, 'name': 'Altamira', 'cod': 200}, {'coord': {'lon': 149.85, 'lat': -29.4667}, 'weather': [{'id': 800, 'main': 'Clear', 'description': 'clear sky', 'icon': '01d'}], 'base': 'stations', 'main': {'temp': 22, 'feels_like': 20.99, 'temp_min': 22, 'temp_max': 22, 'pressure': 1022, 'humidity': 28}, 'visibility': 10000, 'wind': {'speed': 3.09, 'deg': 190}, 'clouds': {'all': 2}, 'dt': 1619230576, 'sys': {'type': 1, 'id': 9555, 'country': 'AU', 'sunrise': 1619209450, 'sunset': 1619249584}, 'timezone': 36000, 'id': 2156927, 'name': 'Moree', 'cod': 200}, {'coord': {'lon': -52.95, 'lat': 5.3833}, 'weather': [{'id': 501, 'main': 'Rain', 'description': 'moderate rain', 'icon': '10n'}], 'base': 'stations', 'main': {'temp': 25.3, 'feels_like': 26.21, 'temp_min': 25.3, 'temp_max': 25.3, 'pressure': 1013, 'humidity': 89, 'sea_level': 1013, 'grnd_level': 1012}, 'visibility': 9705, 'wind': {'speed': 5.73, 'deg': 70, 'gust': 9.62}, 'rain': {'1h': 2.05}, 'clouds': {'all': 100}, 'dt': 1619230576, 'sys': {'country': 'GF', 'sunrise': 1619169697, 'sunset': 1619213890}, 'timezone': -10800, 'id': 3380290, 'name': 'Sinnamary', 'cod': 200}, {'coord': {'lon': -57.0883, 'lat': -29.7547}, 'weather': [{'id': 800, 'main': 'Clear', 'description': 'clear sky', 'icon': '01n'}], 'base': 'stations', 'main': {'temp': 24, 'feels_like': 24.36, 'temp_min': 24, 'temp_max': 24, 'pressure': 1012, 'humidity': 73}, 'visibility': 10000, 'wind': {'speed': 1.54, 'deg': 50}, 'clouds': {'all': 0}, 'dt': 1619230577, 'sys': {'type': 1, 'id': 8262, 'country': 'BR', 'sunrise': 1619172719, 'sunset': 1619212854}, 'timezone': -10800, 'id': 3445679, 'name': 'Uruguaiana', 'cod': 200}, {'coord': {'lon': -70.4811, 'lat': 46.2117}, 'weather': [{'id': 803, 'main': 'Clouds', 'description': 'broken clouds', 'icon': '04n'}], 'base': 'stations', 'main': {'temp': 9, 'feels_like': 8.47, 'temp_min': 9, 'temp_max': 9, 'pressure': 1002, 'humidity': 40}, 'visibility': 10000, 'wind': {'speed': 1.54, 'deg': 230}, 'clouds': {'all': 80}, 'dt': 1619230577, 'sys': {'type': 1, 'id': 291, 'country': 'CA', 'sunrise': 1619170842, 'sunset': 1619221159}, 'timezone': -14400, 'id': 6137631, 'name': 'Saint-Prosper', 'cod': 200}, {'coord': {'lon': 120.6898, 'lat': 15.0286}, 'weather': [{'id': 721, 'main': 'Haze', 'description': 'haze', 'icon': '50d'}], 'base': 'stations', 'main': {'temp': 31, 'feels_like': 35.35, 'temp_min': 31, 'temp_max': 31, 'pressure': 1011, 'humidity': 62}, 'visibility': 5000, 'wind': {'speed': 3.09, 'deg': 360}, 'clouds': {'all': 75}, 'dt': 1619230577, 'sys': {'type': 1, 'id': 8152, 'country': 'PH', 'sunrise': 1619213862, 'sunset': 1619259167}, 'timezone': 28800, 'id': 1690039, 'name': 'San Fernando', 'cod': 200}, {'coord': {'lon': 4.2658, 'lat': 39.8885}, 'weather': [{'id': 800, 'main': 'Clear', 'description': 'clear sky', 'icon': '01n'}], 'base': 'stations', 'main': {'temp': 12, 'feels_like': 11.53, 'temp_min': 12, 'temp_max': 12, 'pressure': 1020, 'humidity': 87}, 'visibility': 10000, 'wind': {'speed': 2.57, 'deg': 50}, 'clouds': {'all': 0}, 'dt': 1619230578, 'sys': {'type': 1, 'id': 6422, 'country': 'ES', 'sunrise': 1619239927, 'sunset': 1619288980}, 'timezone': 7200, 'id': 2514301, 'name': 'Mahon', 'cod': 200}, {'coord': {'lon': 8.0137, 'lat': 45.4612}, 'weather': [{'id': 802, 'main': 'Clouds', 'description': 'scattered clouds', 'icon': '03n'}], 'base': 'stations', 'main': {'temp': 11.32, 'feels_like': 10.49, 'temp_min': 10.56, 'temp_max': 11.67, 'pressure': 1023, 'humidity': 76}, 'visibility': 10000, 'wind': {'speed': 0.84, 'deg': 354, 'gust': 0.83}, 'clouds': {'all': 37}, 'dt': 1619230578, 'sys': {'type': 3, 'id': 2011343, 'country': 'IT', 'sunrise': 1619238417, 'sunset': 1619288691}, 'timezone': 7200, 'id': 6457397, 'name': 'Bose', 'cod': 200}, {'coord': {'lon': 43.5264, 'lat': 48.691}, 'weather': [{'id': 800, 'main': 'Clear', 'description': 'clear sky', 'icon': '01d'}], 'base': 'stations', 'main': {'temp': 8.94, 'feels_like': 7.96, 'temp_min': 8.89, 'temp_max': 9, 'pressure': 1015, 'humidity': 81}, 'visibility': 10000, 'wind': {'speed': 2, 'deg': 200}, 'clouds': {'all': 0}, 'dt': 1619230279, 'sys': {'type': 1, 'id': 8973, 'country': 'RU', 'sunrise': 1619229487, 'sunset': 1619280576}, 'timezone': 10800, 'id': 554397, 'name': 'Kalach-na-Donu', 'cod': 200}, {'coord': {'lon': 131.1683, 'lat': 62.6683}, 'weather': [{'id': 804, 'main': 'Clouds', 'description': 'overcast clouds', 'icon': '04d'}], 'base': 'stations', 'main': {'temp': -2.41, 'feels_like': -6.73, 'temp_min': -2.41, 'temp_max': -2.41, 'pressure': 1023, 'humidity': 79, 'sea_level': 1023, 'grnd_level': 1006}, 'visibility': 10000, 'wind': {'speed': 3.37, 'deg': 314, 'gust': 4.23}, 'clouds': {'all': 100}, 'dt': 1619230579, 'sys': {'country': 'RU', 'sunrise': 1619205635, 'sunset': 1619262365}, 'timezone': 32400, 'id': 2026160, 'name': 'Borogontsy', 'cod': 200}, {'coord': {'lon': 34.1725, 'lat': 57.0295}, 'weather': [{'id': 804, 'main': 'Clouds', 'description': 'overcast clouds', 'icon': '04d'}], 'base': 'stations', 'main': {'temp': 0.36, 'feels_like': -1.77, 'temp_min': 0.36, 'temp_max': 0.36, 'pressure': 1010, 'humidity': 87, 'sea_level': 1010, 'grnd_level': 980}, 'visibility': 10000, 'wind': {'speed': 1.79, 'deg': 253, 'gust': 2.97}, 'clouds': {'all': 100}, 'dt': 1619230579, 'sys': {'country': 'RU', 'sunrise': 1619230311, 'sunset': 1619284242}, 'timezone': 10800, 'id': 538104, 'name': 'Kuvshinovo', 'cod': 200}, {'coord': {'lon': 7.7596, 'lat': 6.6592}, 'weather': [{'id': 804, 'main': 'Clouds', 'description': 'overcast clouds', 'icon': '04n'}], 'base': 'stations', 'main': {'temp': 24.29, 'feels_like': 25.05, 'temp_min': 24.29, 'temp_max': 24.29, 'pressure': 1008, 'humidity': 87, 'sea_level': 1008, 'grnd_level': 995}, 'visibility': 10000, 'wind': {'speed': 2.85, 'deg': 217, 'gust': 9.6}, 'clouds': {'all': 100}, 'dt': 1619230580, 'sys': {'country': 'NG', 'sunrise': 1619241440, 'sunset': 1619285789}, 'timezone': 3600, 'id': 2343822, 'name': 'Eha Amufu', 'cod': 200}, {'coord': {'lon': 122.2653, 'lat': 43.6125}, 'weather': [{'id': 804, 'main': 'Clouds', 'description': 'overcast clouds', 'icon': '04d'}], 'base': 'stations', 'main': {'temp': 10.02, 'feels_like': 8.3, 'temp_min': 10.02, 'temp_max': 10.02, 'pressure': 1031, 'humidity': 47, 'sea_level': 1031, 'grnd_level': 1009}, 'visibility': 10000, 'wind': {'speed': 7.63, 'deg': 23, 'gust': 9.61}, 'clouds': {'all': 100}, 'dt': 1619230580, 'sys': {'country': 'CN', 'sunrise': 1619211242, 'sunset': 1619261031}, 'timezone': 28800, 'id': 2034400, 'name': 'Tongliao', 'cod': 200}, {'coord': {'lon': 135.7, 'lat': 51.6667}, 'weather': [{'id': 804, 'main': 'Clouds', 'description': 'overcast clouds', 'icon': '04d'}], 'base': 'stations', 'main': {'temp': 7.26, 'feels_like': 4.61, 'temp_min': 7.26, 'temp_max': 7.26, 'pressure': 1017, 'humidity': 34, 'sea_level': 1017, 'grnd_level': 998}, 'visibility': 10000, 'wind': {'speed': 4.05, 'deg': 303, 'gust': 6.48}, 'clouds': {'all': 88}, 'dt': 1619230581, 'sys': {'country': 'RU', 'sunrise': 1619206957, 'sunset': 1619258868}, 'timezone': 36000, 'id': 2026786, 'name': 'Berezovyy', 'cod': 200}, {'coord': {'lon': -110.2167, 'lat': 23.45}, 'weather': [{'id': 800, 'main': 'Clear', 'description': 'clear sky', 'icon': '01n'}], 'base': 'stations', 'main': {'temp': 17.5, 'feels_like': 17.6, 'temp_min': 17.22, 'temp_max': 17.78, 'pressure': 1012, 'humidity': 88}, 'visibility': 10000, 'wind': {'speed': 1.34, 'deg': 75, 'gust': 2.68}, 'clouds': {'all': 1}, 'dt': 1619230581, 'sys': {'type': 3, 'id': 2005327, 'country': 'MX', 'sunrise': 1619182365, 'sunset': 1619228706}, 'timezone': -21600, 'id': 3981432, 'name': 'Todos Santos', 'cod': 200}, {'coord': {'lon': 29.9553, 'lat': 31.2156}, 'weather': [{'id': 800, 'main': 'Clear', 'description': 'clear sky', 'icon': '01n'}], 'base': 'stations', 'main': {'temp': 17, 'feels_like': 16.9, 'temp_min': 17, 'temp_max': 17, 'pressure': 1013, 'humidity': 82}, 'visibility': 10000, 'wind': {'speed': 2.06, 'deg': 20}, 'clouds': {'all': 0}, 'dt': 1619230581, 'sys': {'type': 1, 'id': 2511, 'country': 'EG', 'sunrise': 1619234531, 'sunset': 1619282045}, 'timezone': 7200, 'id': 361058, 'name': 'Alexandria', 'cod': 200}, {'coord': {'lon': 125.5011, 'lat': 11.4992}, 'weather': [{'id': 804, 'main': 'Clouds', 'description': 'overcast clouds', 'icon': '04d'}], 'base': 'stations', 'main': {'temp': 30.81, 'feels_like': 35.19, 'temp_min': 30.81, 'temp_max': 30.81, 'pressure': 1010, 'humidity': 63, 'sea_level': 1010, 'grnd_level': 1009}, 'visibility': 10000, 'wind': {'speed': 1.83, 'deg': 262, 'gust': 5.2}, 'clouds': {'all': 100}, 'dt': 1619230582, 'sys': {'country': 'PH', 'sunrise': 1619212915, 'sunset': 1619257806}, 'timezone': 28800, 'id': 1700013, 'name': 'Maydolong', 'cod': 200}, {'coord': {'lon': 149.2, 'lat': -21.15}, 'weather': [{'id': 804, 'main': 'Clouds', 'description': 'overcast clouds', 'icon': '04d'}], 'base': 'stations', 'main': {'temp': 21.64, 'feels_like': 22.16, 'temp_min': 21.11, 'temp_max': 22, 'pressure': 1018, 'humidity': 88}, 'visibility': 10000, 'wind': {'speed': 6.69, 'deg': 150}, 'clouds': {'all': 90}, 'dt': 1619230528, 'sys': {'type': 1, 'id': 9498, 'country': 'AU', 'sunrise': 1619209063, 'sunset': 1619250283}, 'timezone': 36000, 'id': 2159220, 'name': 'Mackay', 'cod': 200}]\n"
     ]
    }
   ],
   "source": [
    "print(city_data)\n",
    "output_data_file = \"output_data/cities.csv\"\n",
    "city_dataframe = pd.DataFrame(city_data) \n",
    "\n",
    "# saving the dataframe \n",
    "city_dataframe.to_csv('cities.csv')"
   ]
  },
  {
   "cell_type": "markdown",
   "metadata": {},
   "source": [
    "### Perform API Calls\n",
    "* Perform a weather check on each city using a series of successive API calls.\n",
    "* Include a print log of each city as it'sbeing processed (with the city number and city name).\n"
   ]
  },
  {
   "cell_type": "code",
   "execution_count": 105,
   "metadata": {
    "scrolled": true,
    "tags": []
   },
   "outputs": [],
   "source": [
    "#weather checks\n",
    "#url = \"http://api.openweathermap.org/data/2.5/weather?\"\n",
    "#units = \"metric\"\n",
    "\n",
    "#query_url = f\"{url}appid={weather_api_key}&units={units}&q=\"\n",
    "\n",
    "#loop set up\n",
    "#lat = []\n",
    "#lng = []\n",
    "#max_temp = []\n",
    "#humidity = []\n",
    "#cloudiness = []\n",
    "#windspeed = []\n",
    "#country = []\n",
    "#date = []\n",
    "#city_names = []\n",
    "#for city in cities:\n",
    "    #try:\n",
    "        #response = requests.get(query_url + city).json()\n",
    "        #city_names.append(city)\n",
    "        #lat.append(response['coord']['lat'])\n",
    "        #lng.append(response['coord']['lng'])\n",
    "        #max_temp.append(response['main']['temp_max'])\n",
    "        #cloudiness.append(response['weather']['description'])\n",
    "        #windspeed.append(response['wind']['speed'])\n",
    "        #country.append(response['sys']['country'])\n",
    "        #date.append(response['dt'])\n",
    "        #print(f'processing record for: {city}')\n",
    "    \n",
    "    #except KeyError:\n",
    "        #print('records missing for {city} skipping...')\n",
    "\n",
    "#print('done')"
   ]
  },
  {
   "cell_type": "code",
   "execution_count": 106,
   "metadata": {},
   "outputs": [],
   "source": [
    "#df creation\n",
    "#weather_dict = {\n",
    "    #\"city\": city_names,\n",
    "    #\"latitude\": lat,\n",
    "    #\"longitude\": lng,\n",
    "    #\"max temperature\": max_temp,\n",
    "    #\"humidity\": humidity,\n",
    "    #\"cloudiness\": cloudiness,\n",
    "    #\"windspeed\": windspeed,\n",
    "    #\"country\": country,\n",
    "    #\"date\": date\n",
    "#}\n",
    "#print(len(city_names))\n",
    "#print(len(lat))\n",
    "#print(len(lng))\n",
    "#print(len(max_temp))\n",
    "#print(len(humidity))\n",
    "#print(len(cloudiness))\n",
    "#print(len(windspeed))\n",
    "#print(len(country))\n",
    "#print(len(date))\n",
    "\n",
    "#weather_data = pd.DataFrame(weather_dict)\n",
    "#weather_data.head()"
   ]
  },
  {
   "cell_type": "markdown",
   "metadata": {},
   "source": [
    "### Convert Raw Data to DataFrame\n",
    "* Export the city data into a .csv.\n",
    "* Display the DataFrame"
   ]
  },
  {
   "cell_type": "code",
   "execution_count": 104,
   "metadata": {},
   "outputs": [
    {
     "output_type": "stream",
     "name": "stdout",
     "text": [
      "cod            object\nmessage        object\ncoord          object\nweather        object\nbase           object\nmain           object\nvisibility    float64\nwind           object\nrain           object\nclouds         object\ndt            float64\nsys            object\ntimezone      float64\nid            float64\nname           object\nsnow           object\ndtype: object\n"
     ]
    },
    {
     "output_type": "execute_result",
     "data": {
      "text/plain": [
       "   cod         message                              coord  \\\n",
       "0  404  city not found                                NaN   \n",
       "1  200             NaN   {'lon': 172.7902, 'lat': 3.0707}   \n",
       "2  200             NaN  {'lon': -96.4661, 'lat': 15.7432}   \n",
       "3  200             NaN   {'lon': 13.2343, 'lat': -8.8368}   \n",
       "4  200             NaN  {'lon': -83.9705, 'lat': 35.7565}   \n",
       "\n",
       "                                             weather      base  \\\n",
       "0                                                NaN       NaN   \n",
       "1  [{'id': 501, 'main': 'Rain', 'description': 'm...  stations   \n",
       "2  [{'id': 804, 'main': 'Clouds', 'description': ...  stations   \n",
       "3  [{'id': 802, 'main': 'Clouds', 'description': ...  stations   \n",
       "4  [{'id': 803, 'main': 'Clouds', 'description': ...  stations   \n",
       "\n",
       "                                                main  visibility  \\\n",
       "0                                                NaN         NaN   \n",
       "1  {'temp': 27.43, 'feels_like': 30.48, 'temp_min...     10000.0   \n",
       "2  {'temp': 27.78, 'feels_like': 30.75, 'temp_min...     10000.0   \n",
       "3  {'temp': 25, 'feels_like': 25.85, 'temp_min': ...     10000.0   \n",
       "4  {'temp': 9.16, 'feels_like': 8.16, 'temp_min':...     10000.0   \n",
       "\n",
       "                                        wind          rain        clouds  \\\n",
       "0                                        NaN           NaN           NaN   \n",
       "1   {'speed': 2.96, 'deg': 85, 'gust': 3.24}  {'1h': 1.75}  {'all': 100}   \n",
       "2  {'speed': 1.79, 'deg': 312, 'gust': 2.68}           NaN  {'all': 100}   \n",
       "3                 {'speed': 3.09, 'deg': 70}           NaN   {'all': 40}   \n",
       "4                 {'speed': 2.06, 'deg': 90}           NaN   {'all': 75}   \n",
       "\n",
       "             dt                                                sys  timezone  \\\n",
       "0           NaN                                                NaN       NaN   \n",
       "1  1.619230e+09  {'country': 'KI', 'sunrise': 1619202040, 'suns...   43200.0   \n",
       "2  1.619230e+09  {'type': 3, 'id': 2005410, 'country': 'MX', 's...  -18000.0   \n",
       "3  1.619230e+09  {'type': 1, 'id': 2173, 'country': 'AO', 'sunr...    3600.0   \n",
       "4  1.619230e+09  {'type': 1, 'id': 6098, 'country': 'US', 'sunr...  -14400.0   \n",
       "\n",
       "          id        name snow  \n",
       "0        NaN         NaN  NaN  \n",
       "1  2110227.0  Butaritari  NaN  \n",
       "2  3517970.0    Pochutla  NaN  \n",
       "3  2240449.0      Luanda  NaN  \n",
       "4  4639848.0   Maryville  NaN  "
      ],
      "text/html": "<div>\n<style scoped>\n    .dataframe tbody tr th:only-of-type {\n        vertical-align: middle;\n    }\n\n    .dataframe tbody tr th {\n        vertical-align: top;\n    }\n\n    .dataframe thead th {\n        text-align: right;\n    }\n</style>\n<table border=\"1\" class=\"dataframe\">\n  <thead>\n    <tr style=\"text-align: right;\">\n      <th></th>\n      <th>cod</th>\n      <th>message</th>\n      <th>coord</th>\n      <th>weather</th>\n      <th>base</th>\n      <th>main</th>\n      <th>visibility</th>\n      <th>wind</th>\n      <th>rain</th>\n      <th>clouds</th>\n      <th>dt</th>\n      <th>sys</th>\n      <th>timezone</th>\n      <th>id</th>\n      <th>name</th>\n      <th>snow</th>\n    </tr>\n  </thead>\n  <tbody>\n    <tr>\n      <th>0</th>\n      <td>404</td>\n      <td>city not found</td>\n      <td>NaN</td>\n      <td>NaN</td>\n      <td>NaN</td>\n      <td>NaN</td>\n      <td>NaN</td>\n      <td>NaN</td>\n      <td>NaN</td>\n      <td>NaN</td>\n      <td>NaN</td>\n      <td>NaN</td>\n      <td>NaN</td>\n      <td>NaN</td>\n      <td>NaN</td>\n      <td>NaN</td>\n    </tr>\n    <tr>\n      <th>1</th>\n      <td>200</td>\n      <td>NaN</td>\n      <td>{'lon': 172.7902, 'lat': 3.0707}</td>\n      <td>[{'id': 501, 'main': 'Rain', 'description': 'm...</td>\n      <td>stations</td>\n      <td>{'temp': 27.43, 'feels_like': 30.48, 'temp_min...</td>\n      <td>10000.0</td>\n      <td>{'speed': 2.96, 'deg': 85, 'gust': 3.24}</td>\n      <td>{'1h': 1.75}</td>\n      <td>{'all': 100}</td>\n      <td>1.619230e+09</td>\n      <td>{'country': 'KI', 'sunrise': 1619202040, 'suns...</td>\n      <td>43200.0</td>\n      <td>2110227.0</td>\n      <td>Butaritari</td>\n      <td>NaN</td>\n    </tr>\n    <tr>\n      <th>2</th>\n      <td>200</td>\n      <td>NaN</td>\n      <td>{'lon': -96.4661, 'lat': 15.7432}</td>\n      <td>[{'id': 804, 'main': 'Clouds', 'description': ...</td>\n      <td>stations</td>\n      <td>{'temp': 27.78, 'feels_like': 30.75, 'temp_min...</td>\n      <td>10000.0</td>\n      <td>{'speed': 1.79, 'deg': 312, 'gust': 2.68}</td>\n      <td>NaN</td>\n      <td>{'all': 100}</td>\n      <td>1.619230e+09</td>\n      <td>{'type': 3, 'id': 2005410, 'country': 'MX', 's...</td>\n      <td>-18000.0</td>\n      <td>3517970.0</td>\n      <td>Pochutla</td>\n      <td>NaN</td>\n    </tr>\n    <tr>\n      <th>3</th>\n      <td>200</td>\n      <td>NaN</td>\n      <td>{'lon': 13.2343, 'lat': -8.8368}</td>\n      <td>[{'id': 802, 'main': 'Clouds', 'description': ...</td>\n      <td>stations</td>\n      <td>{'temp': 25, 'feels_like': 25.85, 'temp_min': ...</td>\n      <td>10000.0</td>\n      <td>{'speed': 3.09, 'deg': 70}</td>\n      <td>NaN</td>\n      <td>{'all': 40}</td>\n      <td>1.619230e+09</td>\n      <td>{'type': 1, 'id': 2173, 'country': 'AO', 'sunr...</td>\n      <td>3600.0</td>\n      <td>2240449.0</td>\n      <td>Luanda</td>\n      <td>NaN</td>\n    </tr>\n    <tr>\n      <th>4</th>\n      <td>200</td>\n      <td>NaN</td>\n      <td>{'lon': -83.9705, 'lat': 35.7565}</td>\n      <td>[{'id': 803, 'main': 'Clouds', 'description': ...</td>\n      <td>stations</td>\n      <td>{'temp': 9.16, 'feels_like': 8.16, 'temp_min':...</td>\n      <td>10000.0</td>\n      <td>{'speed': 2.06, 'deg': 90}</td>\n      <td>NaN</td>\n      <td>{'all': 75}</td>\n      <td>1.619230e+09</td>\n      <td>{'type': 1, 'id': 6098, 'country': 'US', 'sunr...</td>\n      <td>-14400.0</td>\n      <td>4639848.0</td>\n      <td>Maryville</td>\n      <td>NaN</td>\n    </tr>\n  </tbody>\n</table>\n</div>"
     },
     "metadata": {},
     "execution_count": 104
    }
   ],
   "source": [
    "print(city_dataframe.dtypes)\n",
    "city_dataframe.head()\n"
   ]
  },
  {
   "cell_type": "code",
   "execution_count": null,
   "metadata": {},
   "outputs": [],
   "source": []
  },
  {
   "cell_type": "markdown",
   "metadata": {},
   "source": [
    "## Inspect the data and remove the cities where the humidity > 100%.\n",
    "----\n",
    "Skip this step if there are no cities that have humidity > 100%. "
   ]
  },
  {
   "cell_type": "code",
   "execution_count": null,
   "metadata": {},
   "outputs": [],
   "source": []
  },
  {
   "cell_type": "code",
   "execution_count": 69,
   "metadata": {},
   "outputs": [],
   "source": [
    "#  Get the indices of cities that have humidity over 100%.\n"
   ]
  },
  {
   "cell_type": "code",
   "execution_count": 70,
   "metadata": {},
   "outputs": [],
   "source": [
    "# Make a new DataFrame equal to the city data to drop all humidity outliers by index.\n",
    "# Passing \"inplace=False\" will make a copy of the city_data DataFrame, which we call \"clean_city_data\".\n"
   ]
  },
  {
   "cell_type": "code",
   "execution_count": 70,
   "metadata": {},
   "outputs": [],
   "source": [
    "\n"
   ]
  },
  {
   "cell_type": "markdown",
   "metadata": {},
   "source": [
    "## Plotting the Data\n",
    "* Use proper labeling of the plots using plot titles (including date of analysis) and axes labels.\n",
    "* Save the plotted figures as .pngs."
   ]
  },
  {
   "cell_type": "markdown",
   "metadata": {},
   "source": [
    "## Latitude vs. Temperature Plot"
   ]
  },
  {
   "cell_type": "code",
   "execution_count": null,
   "metadata": {
    "scrolled": true
   },
   "outputs": [],
   "source": []
  },
  {
   "cell_type": "markdown",
   "metadata": {},
   "source": [
    "## Latitude vs. Humidity Plot"
   ]
  },
  {
   "cell_type": "code",
   "execution_count": null,
   "metadata": {},
   "outputs": [],
   "source": []
  },
  {
   "cell_type": "markdown",
   "metadata": {},
   "source": [
    "## Latitude vs. Cloudiness Plot"
   ]
  },
  {
   "cell_type": "code",
   "execution_count": null,
   "metadata": {},
   "outputs": [],
   "source": []
  },
  {
   "cell_type": "markdown",
   "metadata": {},
   "source": [
    "## Latitude vs. Wind Speed Plot"
   ]
  },
  {
   "cell_type": "code",
   "execution_count": null,
   "metadata": {},
   "outputs": [],
   "source": []
  },
  {
   "cell_type": "markdown",
   "metadata": {},
   "source": [
    "## Linear Regression"
   ]
  },
  {
   "cell_type": "code",
   "execution_count": null,
   "metadata": {},
   "outputs": [],
   "source": []
  },
  {
   "cell_type": "markdown",
   "metadata": {},
   "source": [
    "####  Northern Hemisphere - Max Temp vs. Latitude Linear Regression"
   ]
  },
  {
   "cell_type": "code",
   "execution_count": null,
   "metadata": {},
   "outputs": [],
   "source": []
  },
  {
   "cell_type": "markdown",
   "metadata": {},
   "source": [
    "####  Southern Hemisphere - Max Temp vs. Latitude Linear Regression"
   ]
  },
  {
   "cell_type": "code",
   "execution_count": null,
   "metadata": {},
   "outputs": [],
   "source": []
  },
  {
   "cell_type": "markdown",
   "metadata": {},
   "source": [
    "####  Northern Hemisphere - Humidity (%) vs. Latitude Linear Regression"
   ]
  },
  {
   "cell_type": "code",
   "execution_count": null,
   "metadata": {},
   "outputs": [],
   "source": []
  },
  {
   "cell_type": "markdown",
   "metadata": {},
   "source": [
    "####  Southern Hemisphere - Humidity (%) vs. Latitude Linear Regression"
   ]
  },
  {
   "cell_type": "code",
   "execution_count": null,
   "metadata": {},
   "outputs": [],
   "source": []
  },
  {
   "cell_type": "markdown",
   "metadata": {},
   "source": [
    "####  Northern Hemisphere - Cloudiness (%) vs. Latitude Linear Regression"
   ]
  },
  {
   "cell_type": "code",
   "execution_count": null,
   "metadata": {},
   "outputs": [],
   "source": []
  },
  {
   "cell_type": "markdown",
   "metadata": {},
   "source": [
    "####  Southern Hemisphere - Cloudiness (%) vs. Latitude Linear Regression"
   ]
  },
  {
   "cell_type": "code",
   "execution_count": null,
   "metadata": {},
   "outputs": [],
   "source": []
  },
  {
   "cell_type": "markdown",
   "metadata": {},
   "source": [
    "####  Northern Hemisphere - Wind Speed (mph) vs. Latitude Linear Regression"
   ]
  },
  {
   "cell_type": "code",
   "execution_count": null,
   "metadata": {},
   "outputs": [],
   "source": []
  },
  {
   "cell_type": "markdown",
   "metadata": {},
   "source": [
    "####  Southern Hemisphere - Wind Speed (mph) vs. Latitude Linear Regression"
   ]
  },
  {
   "cell_type": "code",
   "execution_count": null,
   "metadata": {},
   "outputs": [],
   "source": []
  },
  {
   "cell_type": "code",
   "execution_count": null,
   "metadata": {},
   "outputs": [],
   "source": []
  }
 ],
 "metadata": {
  "anaconda-cloud": {},
  "kernel_info": {
   "name": "python3"
  },
  "kernelspec": {
   "name": "python379jvsc74a57bd003727d14a4c51d73d0b3641fd732c75024a55a3c0638ac3f8d6d33a3e1ad04f1",
   "display_name": "Python 3.7.9 64-bit ('PythonData': conda)"
  },
  "language_info": {
   "codemirror_mode": {
    "name": "ipython",
    "version": 3
   },
   "file_extension": ".py",
   "mimetype": "text/x-python",
   "name": "python",
   "nbconvert_exporter": "python",
   "pygments_lexer": "ipython3",
   "version": "3.7.9"
  },
  "latex_envs": {
   "LaTeX_envs_menu_present": true,
   "autoclose": false,
   "autocomplete": true,
   "bibliofile": "biblio.bib",
   "cite_by": "apalike",
   "current_citInitial": 1,
   "eqLabelWithNumbers": true,
   "eqNumInitial": 1,
   "hotkeys": {
    "equation": "Ctrl-E",
    "itemize": "Ctrl-I"
   },
   "labels_anchors": false,
   "latex_user_defs": false,
   "report_style_numbering": false,
   "user_envs_cfg": false
  },
  "nteract": {
   "version": "0.12.3"
  }
 },
 "nbformat": 4,
 "nbformat_minor": 2
}