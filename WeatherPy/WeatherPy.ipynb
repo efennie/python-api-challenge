{
 "cells": [
  {
   "cell_type": "markdown",
   "metadata": {},
   "source": [
    "# WeatherPy\n",
    "----\n",
    "\n",
    "#### Note\n",
    "* Instructions have been included for each segment. You do not have to follow them exactly, but they are included to help you think through the steps."
   ]
  },
  {
   "cell_type": "code",
   "execution_count": 37,
   "metadata": {
    "scrolled": true
   },
   "outputs": [],
   "source": [
    "# Dependencies and Setup\n",
    "import matplotlib.pyplot as plt\n",
    "import pandas as pd\n",
    "import numpy as np\n",
    "import requests\n",
    "import time\n",
    "from scipy.stats import linregress\n",
    "\n",
    "# Import API key\n",
    "from api_keys import weather_api_key\n",
    "\n",
    "# Incorporated citipy to determine city based on latitude and longitude\n",
    "from citipy import citipy\n",
    "\n",
    "# Output File (CSV)\n",
    "output_data_file = \"output_data/cities.csv\"\n",
    "\n",
    "# Range of latitudes and longitudes\n",
    "lat_range = (-90, 90)\n",
    "lng_range = (-180, 180)"
   ]
  },
  {
   "cell_type": "markdown",
   "metadata": {},
   "source": [
    "## Generate Cities List"
   ]
  },
  {
   "cell_type": "code",
   "execution_count": 38,
   "metadata": {},
   "outputs": [
    {
     "output_type": "execute_result",
     "data": {
      "text/plain": [
       "604"
      ]
     },
     "metadata": {},
     "execution_count": 38
    }
   ],
   "source": [
    "# List for holding lat_lngs and cities\n",
    "lat_lngs = []\n",
    "cities = []\n",
    "\n",
    "# Create a set of random lat and lng combinations\n",
    "lats = np.random.uniform(lat_range[0], lat_range[1], size=1500)\n",
    "lngs = np.random.uniform(lng_range[0], lng_range[1], size=1500)\n",
    "lat_lngs = zip(lats, lngs)\n",
    "\n",
    "# Identify nearest city for each lat, lng combination\n",
    "for lat_lng in lat_lngs:\n",
    "    city = citipy.nearest_city(lat_lng[0], lat_lng[1]).city_name\n",
    "    \n",
    "    # If the city is unique, then add it to a our cities list\n",
    "    if city not in cities:\n",
    "        cities.append(city)\n",
    "\n",
    "# Print the city count to confirm sufficient count\n",
    "len(cities)"
   ]
  },
  {
   "cell_type": "code",
   "execution_count": 43,
   "metadata": {},
   "outputs": [
    {
     "output_type": "stream",
     "name": "stdout",
     "text": [
      "['hilo', 'samusu', 'caravelas', 'castro', 'bredasdorp', 'albany', 'clyde river', 'illoqqortoormiut', 'mataura', 'ushuaia', 'faanui', 'taolanaro', 'laguna', 'taywarah', 'bambous virieux', 'auki', 'tornio', 'kavaratti', 'muros', 'amapa', 'mahebourg', 'atuona', 'jamestown', 'ponta do sol', 'port alfred', 'vila', 'eureka', 'tuatapere', 'grindavik', 'kangasala', 'lahij', 'manono', 'puerto escondido', 'lagoa', 'busselton', 'punta arenas', 'cape town', 'tromso', 'loiza', 'cranbrook', 'katsuura', 'isangel', 'bolshoy uluy', 'kasongo-lunda', 'mar del plata', 'praia', 'ambulu', 'lebu', 'yellowknife', 'vaini', 'pangnirtung', 'qandahar', 'souillac', 'matam', 'inuvik', 'avarua', 'nancha', 'daru', 'vardo', 'tilichiki', 'bluff', 'krasnotorka', 'roebourne', 'barentsburg', 'atambua', 'mys shmidta', 'sur', 'hobart', 'cayenne', 'gazanjyk', 'saint george', 'narragansett', 'utiroa', 'haukipudas', 'kodiak', 'vaitupu', 'port hardy', 'rio gallegos', 'jiroft', 'upernavik', 'zhigansk', 'kapaa', 'rikitea', 'luderitz', 'umm kaddadah', 'sorkjosen', 'tashtyp', 'manggar', 'toliary', 'chifeng', 'vanimo', 'utica', 'karpogory', 'salalah', 'barrow', 'kemijarvi', 'new norfolk', 'ancud', 'tonj', 'sinnamary', 'torbay', 'rocha', 'zapolyarnyy', 'lekoni', 'monrovia', 'iquique', 'ventspils', 'severo-kurilsk', 'tuktoyaktuk', 'ngunguru', 'yagodnoye', 'kamaishi', 'waingapu', 'pa sang', 'egvekinot', 'provideniya', 'saint-philippe', 'pareora', 'okha', 'macara', 'camacha', 'kachiry', 'yurginskoye', 'statesboro', 'kaitangata', 'mariental', 'abbeville', 'khatanga', 'kudahuvadhoo', 'norman wells', 'canberra', 'fenoarivo', 'talnakh', 'nanortalik', 'aljezur', 'vyatskiye polyany', 'nikolskoye', 'gisborne', 'mandalgovi', 'ahipara', 'pisco', 'burleson', 'longlac', 'mana', 'belushya guba', 'butaritari', 'airai', 'bethel', 'mitsamiouli', 'jiexiu', 'lac du bonnet', 'okhotsk', 'port elizabeth', 'sitka', 'lorengau', 'kapit', 'constitucion', 'carnarvon', 'dospat', 'malatya', 'saskylakh', 'san patricio', 'road town', 'olinda', 'nerchinskiy zavod', 'katsiveli', 'puerto ayora', 'nizhneyansk', 'rio grande', 'axim', 'thompson', 'qaanaaq', 'pedernales', 'banamba', 'chokurdakh', 'tasiilaq', 'cherskiy', 'ust-ilimsk', 'fushan', 'cidreira', 'bowen', 'tsihombe', 'pilar', 'lavrentiya', 'dikson', 'gallup', 'san cristobal', 'tres arroyos', 'aklavik', 'kruisfontein', 'victoria', 'arraial do cabo', 'narsaq', 'hambantota', 'castilla', 'naples', 'adrar', 'abu samrah', 'hermanus', 'surt', 'hasaki', 'coihaique', 'tiksi', 'nueva imperial', 'andros town', 'russell', 'harper', 'xinmin', 'bathsheba', 'te anau', 'yarim', 'hithadhoo', 'ostrovnoy', 'tautira', 'buzmeyin', 'flin flon', 'kutum', 'inhambane', 'bandarbeyla', 'anadyr', 'guerrero negro', 'dharampuri', 'yulara', 'yefira', 'samarai', 'mahadday weyne', 'polis', 'vaitape', 'blois', 'georgetown', 'kodinsk', 'namtsy', 'east london', 'chapais', 'filingue', 'batticaloa', 'dolores', 'atar', 'jawhar', 'ribeira grande', 'barmer', 'kahului', 'altagracia de orituco', 'vigrestad', 'burica', 'coos bay', 'kaeo', 'timmins', 'chuy', 'havelock', 'mount isa', 'berlevag', 'sao filipe', 'flinders', 'buraydah', 'nakhon thai', 'esperance', 'izhma', 'traian', 'dabakala', 'hofn', 'korla', 'angoche', 'henties bay', 'ilulissat', 'moerai', 'yar-sale', 'toro', 'lithakia', 'voskresenskoye', 'noumea', 'sentyabrskiy', 'merrill', 'krasnoselkup', 'grand river south east', 'riyadh', 'tayoltita', 'rixheim', 'garowe', 'nouadhibou', 'namie', 'olafsvik', 'meulaboh', 'cockburn town', 'celestun', 'yumen', 'buqayq', 'afgoye', 'presidente medici', 'forrest city', 'la ronge', 'magistralnyy', 'jurado', 'tabiauea', 'necochea', 'san carlos de bariloche', 'pafos', 'porbandar', 'klaksvik', 'amahai', 'fayaoue', 'kapuskasing', 'ketchikan', 'ullapool', 'winnemucca', 'sovetskiy', 'grand gaube', 'nhulunbuy', 'ouadda', 'amderma', 'alofi', 'rungata', 'imbituba', 'fortuna', 'sestri levante', 'dehloran', 'coolum beach', 'pula', 'afmadu', 'tabou', 'kichera', 'marsa matruh', 'goderich', 'lolua', 'bilma', 'sawtell', 'brae', 'sobolevo', 'werda', 'anchorage', 'tashla', 'tura', 'puerto quijarro', 'marystown', 'neiafu', 'birjand', 'dawei', 'ende', 'florianopolis', 'ballina', 'shancheng', 'nizhniy odes', 'cairns', 'goksun', 'skalistyy', 'kempsey', 'poum', 'santa marta', 'varniai', 'ibra', 'hibbing', 'ponta delgada', 'temerloh', 'posse', 'kawalu', 'misratah', 'kieta', 'kloulklubed', 'tumannyy', 'comodoro rivadavia', 'mehamn', 'nara', 'san quintin', 'kaoma', 'urumqi', 'waipawa', 'pundaguitan', 'agadir', 'mezen', 'eldama ravine', 'mogadishu', 'karratha', 'mildura', 'epe', 'svetlogorsk', 'alihe', 'peremyshlyany', 'kiunga', 'pudozh', 'hobyo', 'longyearbyen', 'pochutla', 'jackson', 'de aar', 'fort nelson', 'la paz centro', 'baykit', 'asyut', 'hamilton', 'bengkulu', 'naze', 'kazalinsk', 'aimores', 'haverfordwest', 'chagda', 'hualmay', 'margate', 'valle de guadalupe', 'songea', 'prince rupert', 'biak', 'yuzhno-yeniseyskiy', 'jujuy', 'tirlyanskiy', 'mareeba', 'qui nhon', 'oreanda', 'paamiut', 'banff', 'peace river', 'melissourgoi', 'sept-iles', 'champerico', 'agadez', 'tamandare', 'fairbanks', 'santa isabel do rio negro', 'codrington', 'geraldton', 'dalby', 'general roca', 'luziania', 'vila velha', 'shiyan', 'marzuq', 'raudeberg', 'aden', 'sakakah', 'gat', 'muncar', 'kalisz', 'sabibah', 'san ramon', 'santa cruz', 'jiazi', 'gornoye loo', 'iqaluit', 'opobo', 'lethem', 'vila franca do campo', 'dinsor', 'koping', 'bonthe', 'asau', 'vao', 'cabo san lucas', 'paita', 'pitimbu', 'quimperle', 'port blair', 'raga', 'coracora', 'bubaque', 'beringovskiy', 'porto belo', 'razole', 'lakes entrance', 'galveston', 'baruun-urt', 'gorontalo', 'broome', 'kabelvag', 'buckeye', 'linjiang', 'gallipoli', 'itarema', 'lasa', 'velyka lepetykha', 'nizhneudinsk', 'port lincoln', 'verkh-suetka', 'rawson', 'banes', 'macamic', 'araceli', 'horta', 'chipinge', 'bikin', 'floresta', 'emerald', 'sorong', 'gumdag', 'scarborough', 'beirut', 'kattivakkam', 'moron', 'aniche', 'male', 'touros', 'coquimbo', 'komsomolskiy', 'jangipur', 'kashi', 'san cosme y damian', 'luena', 'storslett', 'sivas', 'ewa beach', 'ust-kuyga', 'kabanjahe', 'tiarei', 'san rafael', 'annau', 'kysyl-syr', 'coahuayana', 'yamada', 'oranjemund', 'dubbo', 'dicabisagan', 'mount gambier', 'raja sansi', 'saleaula', 'saldanha', 'saint-augustin', 'umm lajj', 'kavieng', 'pita', 'berbera', 'anloga', 'chitipa', 'haapiti', 'kurtamysh', 'puerto leguizamo', 'warqla', 'corner brook', 'haines junction', 'meyungs', 'sumbawa', 'odweyne', 'makakilo city', 'kondinskoye', 'husavik', 'sayat', 'sola', 'carbonear', 'chegutu', 'beloha', 'ixtapa', 'marcona', 'khudumelapye', 'garhi khairo', 'kungurtug', 'rioja', 'jieshi', 'shelburne', 'pinawa', 'santa eulalia del rio', 'uzumlu', 'novyy urgal', 'kulhudhuffushi', 'sehwan', 'vydrino', 'tazovskiy', 'carutapera', 'arroyos y esteros', 'hirara', 'ban dung', 'gannan', 'bababe', 'rab', 'kaduqli', 'chumphon', 'dana point', 'shimoda', 'namatanai', 'lata', 'aswan', 'orocue', 'severodvinsk', 'hokitika', 'partenit', 'abnub', 'camargo', 'irbeyskoye', 'avera', 'padang', 'belaya gora', 'the pas', 'bonavista', 'fougeres', 'kismayo', 'curup', 'kyzyl-suu', 'malwan', 'tymovskoye', 'nkhata bay', 'turukhansk', 'kandalaksha', 'saint-pierre', 'uyuni', 'mhlume', 'marathopolis', 'labuhan', 'thinadhoo', 'bolungarvik', 'sorland', 'sahrak', 'north vanlaiphai', 'preobrazheniye', 'calvinia', 'alghero', 'praia da vitoria', 'ust-tsilma', 'lalomanu']\n"
     ]
    }
   ],
   "source": [
    "#print cities for sanity check\n",
    "print(cities)"
   ]
  },
  {
   "cell_type": "code",
   "execution_count": 46,
   "metadata": {},
   "outputs": [
    {
     "output_type": "error",
     "ename": "SyntaxError",
     "evalue": "invalid character in identifier (<ipython-input-46-6d962a78f2ae>, line 22)",
     "traceback": [
      "\u001b[0;36m  File \u001b[0;32m\"<ipython-input-46-6d962a78f2ae>\"\u001b[0;36m, line \u001b[0;32m22\u001b[0m\n\u001b[0;31m    for city in city_sample:\u001b[0m\n\u001b[0m                          ^\u001b[0m\n\u001b[0;31mSyntaxError\u001b[0m\u001b[0;31m:\u001b[0m invalid character in identifier\n"
     ]
    }
   ],
   "source": [
    "#weather checks\n",
    "url = \"http://api.openweathermap.org/data/2.5/weather?\"\n",
    "units = \"metric\"\n",
    "\n",
    "query_url = f\"{url}appid={weather_api_key}&units={units}&q=\"\n",
    "\n",
    "#loop set up\n",
    "lat=[]\n",
    "lng=[]\n",
    "max_temp=[]\n",
    "humidity=[]\n",
    "cloudiness=[]\n",
    "windspeed=[]\n",
    "country=[]\n",
    "date=[]\n",
    "city_sample = ['hilo', 'samusu', 'caravelas', 'castro', 'bredasdorp', 'albany']\n",
    "#create a sample response to look at how data is arranged in json\n",
    "#response = requests.get(query_url + \"butaritari\").json()\n",
    "#print(response)\n",
    "\n",
    "#loop\n",
    "for city in city_sample:\n",
    "    try:\n",
    "        response = requests.get(query_url + city).json()\n",
    "        print(f'processing record for: {city}')\n",
    "        lat.append(response['coord']['lat'])\n",
    "        lng.append(response['coord']['lng'])\n",
    "        max_temp.append(response['main']['temp_max'])\n",
    "        cloudiness.append(response['weather']['description'])\n",
    "        windspeed.append(response['wind']['speed'])\n",
    "        country.append(response['sys']['country'])\n",
    "        date.append(response['dt'])\n",
    "\n",
    "    except KeyError:\n",
    "        print(\"city record not found...skipping..\")\n",
    "\n",
    "print('done')\n"
   ]
  },
  {
   "cell_type": "markdown",
   "metadata": {},
   "source": [
    "### Perform API Calls\n",
    "* Perform a weather check on each city using a series of successive API calls.\n",
    "* Include a print log of each city as it'sbeing processed (with the city number and city name).\n"
   ]
  },
  {
   "cell_type": "code",
   "execution_count": null,
   "metadata": {},
   "outputs": [],
   "source": [
    "#df creation!!!!!!!!!!!!!!!\n",
    "# weather_dict = {\n",
    "    #\"city\": cities,\n",
    "    #\"lat\": lat,\n",
    "    #\"temp\": temp\n",
    "#}\n",
    "#weather_data = pd.DataFrame(weather_dict)\n",
    "#weather_data.head()"
   ]
  },
  {
   "cell_type": "code",
   "execution_count": null,
   "metadata": {
    "scrolled": true
   },
   "outputs": [],
   "source": []
  },
  {
   "cell_type": "markdown",
   "metadata": {},
   "source": [
    "### Convert Raw Data to DataFrame\n",
    "* Export the city data into a .csv.\n",
    "* Display the DataFrame"
   ]
  },
  {
   "cell_type": "code",
   "execution_count": null,
   "metadata": {},
   "outputs": [],
   "source": []
  },
  {
   "cell_type": "code",
   "execution_count": null,
   "metadata": {},
   "outputs": [],
   "source": []
  },
  {
   "cell_type": "markdown",
   "metadata": {},
   "source": [
    "## Inspect the data and remove the cities where the humidity > 100%.\n",
    "----\n",
    "Skip this step if there are no cities that have humidity > 100%. "
   ]
  },
  {
   "cell_type": "code",
   "execution_count": null,
   "metadata": {},
   "outputs": [],
   "source": []
  },
  {
   "cell_type": "code",
   "execution_count": null,
   "metadata": {},
   "outputs": [],
   "source": [
    "#  Get the indices of cities that have humidity over 100%.\n"
   ]
  },
  {
   "cell_type": "code",
   "execution_count": null,
   "metadata": {},
   "outputs": [],
   "source": [
    "# Make a new DataFrame equal to the city data to drop all humidity outliers by index.\n",
    "# Passing \"inplace=False\" will make a copy of the city_data DataFrame, which we call \"clean_city_data\".\n"
   ]
  },
  {
   "cell_type": "code",
   "execution_count": null,
   "metadata": {},
   "outputs": [],
   "source": [
    "\n"
   ]
  },
  {
   "cell_type": "markdown",
   "metadata": {},
   "source": [
    "## Plotting the Data\n",
    "* Use proper labeling of the plots using plot titles (including date of analysis) and axes labels.\n",
    "* Save the plotted figures as .pngs."
   ]
  },
  {
   "cell_type": "markdown",
   "metadata": {},
   "source": [
    "## Latitude vs. Temperature Plot"
   ]
  },
  {
   "cell_type": "code",
   "execution_count": null,
   "metadata": {
    "scrolled": true
   },
   "outputs": [],
   "source": []
  },
  {
   "cell_type": "markdown",
   "metadata": {},
   "source": [
    "## Latitude vs. Humidity Plot"
   ]
  },
  {
   "cell_type": "code",
   "execution_count": null,
   "metadata": {},
   "outputs": [],
   "source": []
  },
  {
   "cell_type": "markdown",
   "metadata": {},
   "source": [
    "## Latitude vs. Cloudiness Plot"
   ]
  },
  {
   "cell_type": "code",
   "execution_count": null,
   "metadata": {},
   "outputs": [],
   "source": []
  },
  {
   "cell_type": "markdown",
   "metadata": {},
   "source": [
    "## Latitude vs. Wind Speed Plot"
   ]
  },
  {
   "cell_type": "code",
   "execution_count": null,
   "metadata": {},
   "outputs": [],
   "source": []
  },
  {
   "cell_type": "markdown",
   "metadata": {},
   "source": [
    "## Linear Regression"
   ]
  },
  {
   "cell_type": "code",
   "execution_count": null,
   "metadata": {},
   "outputs": [],
   "source": []
  },
  {
   "cell_type": "markdown",
   "metadata": {},
   "source": [
    "####  Northern Hemisphere - Max Temp vs. Latitude Linear Regression"
   ]
  },
  {
   "cell_type": "code",
   "execution_count": null,
   "metadata": {},
   "outputs": [],
   "source": []
  },
  {
   "cell_type": "markdown",
   "metadata": {},
   "source": [
    "####  Southern Hemisphere - Max Temp vs. Latitude Linear Regression"
   ]
  },
  {
   "cell_type": "code",
   "execution_count": null,
   "metadata": {},
   "outputs": [],
   "source": []
  },
  {
   "cell_type": "markdown",
   "metadata": {},
   "source": [
    "####  Northern Hemisphere - Humidity (%) vs. Latitude Linear Regression"
   ]
  },
  {
   "cell_type": "code",
   "execution_count": null,
   "metadata": {},
   "outputs": [],
   "source": []
  },
  {
   "cell_type": "markdown",
   "metadata": {},
   "source": [
    "####  Southern Hemisphere - Humidity (%) vs. Latitude Linear Regression"
   ]
  },
  {
   "cell_type": "code",
   "execution_count": null,
   "metadata": {},
   "outputs": [],
   "source": []
  },
  {
   "cell_type": "markdown",
   "metadata": {},
   "source": [
    "####  Northern Hemisphere - Cloudiness (%) vs. Latitude Linear Regression"
   ]
  },
  {
   "cell_type": "code",
   "execution_count": null,
   "metadata": {},
   "outputs": [],
   "source": []
  },
  {
   "cell_type": "markdown",
   "metadata": {},
   "source": [
    "####  Southern Hemisphere - Cloudiness (%) vs. Latitude Linear Regression"
   ]
  },
  {
   "cell_type": "code",
   "execution_count": null,
   "metadata": {},
   "outputs": [],
   "source": []
  },
  {
   "cell_type": "markdown",
   "metadata": {},
   "source": [
    "####  Northern Hemisphere - Wind Speed (mph) vs. Latitude Linear Regression"
   ]
  },
  {
   "cell_type": "code",
   "execution_count": null,
   "metadata": {},
   "outputs": [],
   "source": []
  },
  {
   "cell_type": "markdown",
   "metadata": {},
   "source": [
    "####  Southern Hemisphere - Wind Speed (mph) vs. Latitude Linear Regression"
   ]
  },
  {
   "cell_type": "code",
   "execution_count": null,
   "metadata": {},
   "outputs": [],
   "source": []
  },
  {
   "cell_type": "code",
   "execution_count": null,
   "metadata": {},
   "outputs": [],
   "source": []
  }
 ],
 "metadata": {
  "anaconda-cloud": {},
  "kernel_info": {
   "name": "python3"
  },
  "kernelspec": {
   "name": "python385jvsc74a57bd0b75be9ad71603c40476c6c8216298ace4da278de65ecdbf5da31753ceef4d599",
   "display_name": "Python 3.8.5 64-bit ('base': conda)"
  },
  "language_info": {
   "codemirror_mode": {
    "name": "ipython",
    "version": 3
   },
   "file_extension": ".py",
   "mimetype": "text/x-python",
   "name": "python",
   "nbconvert_exporter": "python",
   "pygments_lexer": "ipython3",
   "version": "3.8.5"
  },
  "latex_envs": {
   "LaTeX_envs_menu_present": true,
   "autoclose": false,
   "autocomplete": true,
   "bibliofile": "biblio.bib",
   "cite_by": "apalike",
   "current_citInitial": 1,
   "eqLabelWithNumbers": true,
   "eqNumInitial": 1,
   "hotkeys": {
    "equation": "Ctrl-E",
    "itemize": "Ctrl-I"
   },
   "labels_anchors": false,
   "latex_user_defs": false,
   "report_style_numbering": false,
   "user_envs_cfg": false
  },
  "nteract": {
   "version": "0.12.3"
  }
 },
 "nbformat": 4,
 "nbformat_minor": 2
}