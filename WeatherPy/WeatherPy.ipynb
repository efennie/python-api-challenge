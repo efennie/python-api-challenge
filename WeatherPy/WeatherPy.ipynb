{
 "cells": [
  {
   "cell_type": "markdown",
   "metadata": {},
   "source": [
    "# WeatherPy\n",
    "----\n",
    "\n",
    "#### Note\n",
    "* Instructions have been included for each segment. You do not have to follow them exactly, but they are included to help you think through the steps."
   ]
  },
  {
   "cell_type": "code",
   "execution_count": 48,
   "metadata": {
    "scrolled": true
   },
   "outputs": [],
   "source": [
    "# Dependencies and Setup\n",
    "import matplotlib.pyplot as plt\n",
    "import pandas as pd\n",
    "import numpy as np\n",
    "import requests\n",
    "import time\n",
    "from scipy.stats import linregress\n",
    "\n",
    "# Import API key\n",
    "from api_keys import weather_api_key\n",
    "\n",
    "# Incorporated citipy to determine city based on latitude and longitude\n",
    "from citipy import citipy\n",
    "\n",
    "# Output File (CSV)\n",
    "output_data_file = \"output_data/cities.csv\"\n",
    "\n",
    "# Range of latitudes and longitudes\n",
    "lat_range = (-90, 90)\n",
    "lng_range = (-180, 180)"
   ]
  },
  {
   "cell_type": "markdown",
   "metadata": {},
   "source": [
    "## Generate Cities List"
   ]
  },
  {
   "cell_type": "code",
   "execution_count": 49,
   "metadata": {},
   "outputs": [
    {
     "output_type": "execute_result",
     "data": {
      "text/plain": [
       "619"
      ]
     },
     "metadata": {},
     "execution_count": 49
    }
   ],
   "source": [
    "# List for holding lat_lngs and cities\n",
    "lat_lngs = []\n",
    "cities = []\n",
    "\n",
    "# Create a set of random lat and lng combinations\n",
    "lats = np.random.uniform(lat_range[0], lat_range[1], size=1500)\n",
    "lngs = np.random.uniform(lng_range[0], lng_range[1], size=1500)\n",
    "lat_lngs = zip(lats, lngs)\n",
    "\n",
    "# Identify nearest city for each lat, lng combination\n",
    "for lat_lng in lat_lngs:\n",
    "    city = citipy.nearest_city(lat_lng[0], lat_lng[1]).city_name\n",
    "    \n",
    "    # If the city is unique, then add it to a our cities list\n",
    "    if city not in cities:\n",
    "        cities.append(city)\n",
    "\n",
    "# Print the city count to confirm sufficient count\n",
    "len(cities)"
   ]
  },
  {
   "cell_type": "code",
   "execution_count": 50,
   "metadata": {},
   "outputs": [
    {
     "output_type": "stream",
     "name": "stdout",
     "text": [
      "['albany', 'arkadelphia', 'castro', 'broken hill', 'harper', 'esperance', 'souillac', 'bengkulu', 'gazojak', 'atuona', 'surgut', 'saskylakh', 'hermanus', 'mataura', 'vaini', 'tuktoyaktuk', 'hobart', 'halalo', 'bethel', 'ancud', 'ginir', 'saint-philippe', 'peace river', 'longyearbyen', 'kavieng', 'barentsburg', 'jamestown', 'ushuaia', 'harwich', 'sistranda', 'ridgecrest', 'bredasdorp', 'kerman', 'jiexiu', 'arraial do cabo', 'kodiak', 'pokhara', 'punta arenas', 'nikolskoye', 'vilyuysk', 'east london', 'rikitea', 'vestmannaeyjar', 'butaritari', 'belushya guba', 'lebu', 'palmares do sul', 'kungurtug', 'cape town', 'flinders', 'kapaa', 'codrington', 'ranot', 'mocambique', 'elizabeth city', 'illoqqortoormiut', 'lavrentiya', 'mehran', 'gat', 'talara', 'mar del plata', 'upernavik', 'laguna', 'taolanaro', 'provideniya', 'hilo', 'menzelinsk', 'bluff', 'buraydah', 'vostok', 'langres', 'talnakh', 'bhuvanagiri', 'geraldton', 'guaruja', 'port alfred', 'yerbogachen', 'comodoro rivadavia', 'praia da vitoria', 'antalaha', 'la gaulette', 'guerrero negro', 'yulara', 'yar-sale', 'constitucion', 'manta', 'burkhala', 'barrow', 'poum', 'sentyabrskiy', 'qasigiannguit', 'dikson', 'busselton', 'salinas', 'ambulu', 'port elizabeth', 'hithadhoo', 'mangai', 'ribeira grande', 'navolato', 'puro', 'moindou', 'umzimvubu', 'ambilobe', 'przasnysz', 'olafsvik', 'saldanha', 'vardo', 'mogocha', 'ust-karsk', 'manicore', 'grand river south east', 'pangody', 'ponta do sol', 'aiyina', 'khatanga', 'ahipara', 'bambous virieux', 'tigzirt', 'norman wells', 'nanortalik', 'bolungarvik', 'utinga', 'mandiana', 'moree', 'warri', 'lagoa', 'torbay', 'hanna', 'san cristobal', 'tasiilaq', 'veraval', 'soyo', 'la orilla', 'carutapera', 'carnarvon', 'sao filipe', 'kaeo', 'yamethin', 'alekseyevskaya', 'richards bay', 'grand gaube', 'luau', 'aripuana', 'port keats', 'decatur', 'klaksvik', 'anadyr', 'narsaq', 'debre tabor', 'gouloure', 'cabo san lucas', 'cherskiy', 'stara vyzhivka', 'letpadan', 'pisco', 'port lincoln', 'qaanaaq', 'mahebourg', 'sur', 'rajpur', 'avarua', 'ucluelet', 'huancabamba', 'floro', 'dunedin', 'nouadhibou', 'belize', 'lerwick', 'mehamn', 'banda aceh', 'kurdzhinovo', 'shieli', 'cabedelo', 'aksarka', 'uppsala', 'rocha', 'chunar', 'la ronge', 'fallon', 'kita', 'fortuna', 'bac lieu', 'nabire', 'kjopsvik', 'monte gordo', 'padang', 'cidreira', 'komsomolskiy', 'thompson', 'buchanan', 'maple creek', 'saint-pierre', 'new norfolk', 'general roca', 'port blair', 'amderma', 'seoul', 'nauta', 'vaitupu', 'storsteinnes', 'hudiksvall', 'wajid', 'port shepstone', 'atar', 'kochubey', 'sisimiut', 'opuwo', 'katsuura', 'lazaro cardenas', 'los llanos de aridane', 'cam ranh', 'saint george', 'punta gorda', 'ixtapa', 'lorengau', 'kabakovo', 'zyryanka', 'kununurra', 'piopio', 'tarko-sale', 'mizdah', 'barmer', 'camacha', 'neryungri', 'ongandjera', 'kisangani', 'rincon', 'touros', 'dingle', 'barra do garcas', 'kostomuksha', 'kodinsk', 'airai', 'fairbanks', 'aswan', 'puerto palomas', 'micheweni', 'hami', 'gazli', 'luderitz', 'palmer', 'christchurch', 'yarmouth', 'leningradskiy', 'severodvinsk', 'healesville', 'ivdel', 'kavaratti', 'pekan', 'kahului', 'gorgan', 'te anau', 'morant bay', 'chokurdakh', 'beberibe', 'thanh hoa', 'huangpi', 'carballo', 'kupang', 'ziro', 'mount isa', 'rungata', 'lompoc', 'egvekinot', 'havoysund', 'arlit', 'sao gabriel da cachoeira', 'puerto ayora', 'arman', 'mayumba', 'concepcion del oro', 'general pico', 'mandalgovi', 'sola', 'sakakah', 'tiksi', 'sabha', 'sitka', 'yellowknife', 'henties bay', 'ostrovnoy', 'caravelas', 'sinnamary', 'nishihara', 'beidaud', 'liverpool', 'tarudant', 'lalibela', 'krishnarajpet', 'one hundred mile house', 'rathdrum', 'birao', 'ondorhaan', 'hofn', 'peniche', 'arandis', 'bintulu', 'itarema', 'siderno', 'san policarpo', 'srednekolymsk', 'hasaki', 'kloulklubed', 'bolshegrivskoye', 'ketchikan', 'nelson bay', 'yanam', 'sabang', 'avera', 'sao joao da barra', 'iquique', 'bayir', 'chifeng', 'stantsiya gorchakovo', 'svetlyy', 'show low', 'vazante', 'chuy', 'batagay', 'nukus', 'sorland', 'lodja', 'nhulunbuy', 'nemuro', 'chara', 'mbini', 'marystown', 'camocim', 'cascais', 'lumberton', 'songjianghe', 'utmanzai', 'guacui', 'san joaquin', 'vanimo', 'djibo', 'kalmunai', 'jaleswar', 'nizhneyansk', 'margate', 'beloha', 'orlik', 'hienghene', 'elat', 'meadow lake', 'balkhash', 'onalaska', 'la asuncion', 'clyde river', 'chom bung', 'constantine', 'nome', 'angono', 'isabela', 'traralgon', 'kristinehamn', 'camopi', 'tando muhammad khan', 'coquimbo', 'deputatskiy', 'tsihombe', 'brae', 'santa marinella', 'half moon bay', 'pacific grove', 'nouakchott', 'bathsheba', 'maunabo', 'aasiaat', 'samusu', 'svetlogorsk', 'evensk', 'usinsk', 'lubango', 'seydi', 'viligili', 'saryshagan', 'attawapiskat', 'azare', 'aykhal', 'naze', 'shingu', 'hamilton', 'moletai', 'palabuhanratu', 'port hardy', 'mount gambier', 'marcona', 'tsumeb', 'george town', 'ribeira brava', 'tombouctou', 'marang', 'praia', 'zinder', 'plaiesii-de-jos', 'sturgeon bay', 'georgetown', 'cayenne', 'goderich', 'gaogou', 'burnie', 'pasaje', 'cuamba', 'nuevo casas grandes', 'piney green', 'huarmey', 'pevek', 'ippy', 'tabas', 'oktyabrskoye', 'along', 'iracoubo', 'porgera', 'suchil', 'victoria', 'mareeba', 'prince rupert', 'bowen', 'okhotsk', 'sabya', 'ndele', 'sao felix do xingu', 'hay river', 'filingue', 'igarka', 'baykit', 'borama', 'nalut', 'panzhihua', 'inhambane', 'lar gerd', 'lata', 'qandala', 'tucuman', 'stornoway', 'mantua', 'korla', 'waingapu', 'kozhevnikovo', 'xingyi', 'shinpokh', 'tsentralnyy', 'riaba', 'biak', 'zhanakorgan', 'smidovich', 'forestville', 'coruripe', 'martin', 'harqalah', 'severo-kurilsk', 'faro', 'ortigueira', 'sapa', 'kaitong', 'winnemucca', 'nador', 'astara', 'daru', 'oron', 'dwarka', 'novikovo', 'jocoro', 'samalaeulu', 'dhidhdhoo', 'cururupu', 'morondava', 'san quintin', 'sotouboua', 'fenoarivo', 'illapel', 'gidole', 'saint-augustin', 'thomaston', 'kuito', 'riohacha', 'loei', 'tete', 'meulaboh', 'reshetylivka', 'el rosario', 'havre-saint-pierre', 'barcelos', 'praya', 'bushehr', 'oussouye', 'muroto', 'wad madani', 'maniitsoq', 'sampit', 'grants', 'kaiyuan', 'austin', 'oranjestad', 'hervey bay', 'mao', 'trogir', 'santa maria da vitoria', 'sakaraha', 'santa isabel do rio negro', 'umm lajj', 'san antonio', 'san martin', 'salgueiro', 'halifax', 'nicoya', 'hovd', 'makakilo city', 'shubarkuduk', 'pangnirtung', 'vallenar', 'bitkine', 'kintinku', 'lavumisa', 'shasta lake', 'nsanje', 'mae sot', 'rovaniemi', 'altay', 'oskarshamn', 'rochegda', 'bodden town', 'namatanai', 'tommot', 'khasan', 'umm kaddadah', 'port hedland', 'the valley', 'lilongwe', 'antofagasta', 'saleaula', 'puerto baquerizo moreno', 'puerto penasco', 'sioux lookout', 'kaura namoda', 'mys shmidta', 'aras', 'stokmarknes', 'chinhoyi', 'ilulissat', 'toftir', 'almaznyy', 'hondo', 'cabra', 'mangrol', 'tahe', 'beringovskiy', 'san patricio', 'lasa', 'yagodnoye', 'tura', 'manbij', 'frutigen', 'kidal', 'irapuato', 'pilot butte', 'oyem', 'lluta', 'neiafu', 'ciudad guayana', 'sao raimundo das mangabeiras', 'college', 'saint-andre-les-vergers', 'faya', 'dalinghe', 'bilibino', 'matagami', 'beidao', 'severo-yeniseyskiy', 'north bend', 'blackwater', 'tocopilla', 'kalianget', 'santa lucia', 'rawson', 'udachnyy', 'manokwari', 'kosh-agach', 'hikari', 'kannangad', 'labuhan', 'goroka', 'fukue', 'weligama', 'simoes', 'pocone', 'reconquista', 'lakhisarai', 'necochea', 'caramay', 'tulsipur', 'hualmay', 'roald', 'vila', 'chagda', 'honningsvag', 'karaton', 'kaseda', 'nuuk', 'alice springs', 'san juan', 'kiama', 'kalomo', 'maldonado', 'girard', 'ngukurr', 'tiznit', 'bireun', 'badarpur', 'athabasca', 'khonuu', 'cazaje', 'meyungs', 'zanesville', 'kudahuvadhoo', 'manaus', 'colquiri']\n"
     ]
    }
   ],
   "source": [
    "#print cities for sanity check\n",
    "print(cities)"
   ]
  },
  {
   "cell_type": "code",
   "execution_count": 51,
   "metadata": {},
   "outputs": [
    {
     "output_type": "stream",
     "name": "stdout",
     "text": [
      "processing record for: hilo\n",
      "city record not found...skipping..\n",
      "processing record for: samusu\n",
      "city record not found...skipping..\n",
      "processing record for: caravelas\n",
      "city record not found...skipping..\n",
      "processing record for: castro\n",
      "city record not found...skipping..\n",
      "processing record for: bredasdorp\n",
      "city record not found...skipping..\n",
      "processing record for: albany\n",
      "city record not found...skipping..\n",
      "done\n"
     ]
    }
   ],
   "source": [
    "#weather checks\n",
    "url = \"http://api.openweathermap.org/data/2.5/weather?\"\n",
    "units = \"metric\"\n",
    "\n",
    "query_url = f\"{url}appid={weather_api_key}&units={units}&q=\"\n",
    "\n",
    "#loop set up\n",
    "lat=[]\n",
    "lng=[]\n",
    "max_temp=[]\n",
    "humidity=[]\n",
    "cloudiness=[]\n",
    "windspeed=[]\n",
    "country=[]\n",
    "date=[]\n",
    "city_sample = [\"hilo\", \"samusu\", \"caravelas\", \"castro\", \"bredasdorp\", \"albany\"]\n",
    "\n",
    "#loop\n",
    "for city in city_sample:\n",
    "    try:\n",
    "        response = requests.get(query_url + city).json()\n",
    "        print(f'processing record for: {city}')\n",
    "        lat.append(response['coord']['lat'])\n",
    "        lng.append(response['coord']['lng'])\n",
    "        max_temp.append(response['main']['temp_max'])\n",
    "        cloudiness.append(response['weather']['description'])\n",
    "        windspeed.append(response['wind']['speed'])\n",
    "        country.append(response['sys']['country'])\n",
    "        date.append(response['dt'])\n",
    "\n",
    "    except KeyError:\n",
    "        print(\"city record not found...skipping..\")\n",
    "    \n",
    "print('done')\n"
   ]
  },
  {
   "cell_type": "markdown",
   "metadata": {},
   "source": [
    "### Perform API Calls\n",
    "* Perform a weather check on each city using a series of successive API calls.\n",
    "* Include a print log of each city as it'sbeing processed (with the city number and city name).\n"
   ]
  },
  {
   "cell_type": "code",
   "execution_count": 52,
   "metadata": {},
   "outputs": [],
   "source": [
    "#df creation!!!!!!!!!!!!!!!\n",
    "# weather_dict = {\n",
    "    #\"city\": cities,\n",
    "    #\"lat\": lat,\n",
    "    #\"temp\": temp\n",
    "#}\n",
    "#weather_data = pd.DataFrame(weather_dict)\n",
    "#weather_data.head()"
   ]
  },
  {
   "cell_type": "code",
   "execution_count": null,
   "metadata": {
    "scrolled": true
   },
   "outputs": [],
   "source": []
  },
  {
   "cell_type": "markdown",
   "metadata": {},
   "source": [
    "### Convert Raw Data to DataFrame\n",
    "* Export the city data into a .csv.\n",
    "* Display the DataFrame"
   ]
  },
  {
   "cell_type": "code",
   "execution_count": null,
   "metadata": {},
   "outputs": [],
   "source": []
  },
  {
   "cell_type": "code",
   "execution_count": null,
   "metadata": {},
   "outputs": [],
   "source": []
  },
  {
   "cell_type": "markdown",
   "metadata": {},
   "source": [
    "## Inspect the data and remove the cities where the humidity > 100%.\n",
    "----\n",
    "Skip this step if there are no cities that have humidity > 100%. "
   ]
  },
  {
   "cell_type": "code",
   "execution_count": null,
   "metadata": {},
   "outputs": [],
   "source": []
  },
  {
   "cell_type": "code",
   "execution_count": 53,
   "metadata": {},
   "outputs": [],
   "source": [
    "#  Get the indices of cities that have humidity over 100%.\n"
   ]
  },
  {
   "cell_type": "code",
   "execution_count": 54,
   "metadata": {},
   "outputs": [],
   "source": [
    "# Make a new DataFrame equal to the city data to drop all humidity outliers by index.\n",
    "# Passing \"inplace=False\" will make a copy of the city_data DataFrame, which we call \"clean_city_data\".\n"
   ]
  },
  {
   "cell_type": "code",
   "execution_count": 54,
   "metadata": {},
   "outputs": [],
   "source": [
    "\n"
   ]
  },
  {
   "cell_type": "markdown",
   "metadata": {},
   "source": [
    "## Plotting the Data\n",
    "* Use proper labeling of the plots using plot titles (including date of analysis) and axes labels.\n",
    "* Save the plotted figures as .pngs."
   ]
  },
  {
   "cell_type": "markdown",
   "metadata": {},
   "source": [
    "## Latitude vs. Temperature Plot"
   ]
  },
  {
   "cell_type": "code",
   "execution_count": null,
   "metadata": {
    "scrolled": true
   },
   "outputs": [],
   "source": []
  },
  {
   "cell_type": "markdown",
   "metadata": {},
   "source": [
    "## Latitude vs. Humidity Plot"
   ]
  },
  {
   "cell_type": "code",
   "execution_count": null,
   "metadata": {},
   "outputs": [],
   "source": []
  },
  {
   "cell_type": "markdown",
   "metadata": {},
   "source": [
    "## Latitude vs. Cloudiness Plot"
   ]
  },
  {
   "cell_type": "code",
   "execution_count": null,
   "metadata": {},
   "outputs": [],
   "source": []
  },
  {
   "cell_type": "markdown",
   "metadata": {},
   "source": [
    "## Latitude vs. Wind Speed Plot"
   ]
  },
  {
   "cell_type": "code",
   "execution_count": null,
   "metadata": {},
   "outputs": [],
   "source": []
  },
  {
   "cell_type": "markdown",
   "metadata": {},
   "source": [
    "## Linear Regression"
   ]
  },
  {
   "cell_type": "code",
   "execution_count": null,
   "metadata": {},
   "outputs": [],
   "source": []
  },
  {
   "cell_type": "markdown",
   "metadata": {},
   "source": [
    "####  Northern Hemisphere - Max Temp vs. Latitude Linear Regression"
   ]
  },
  {
   "cell_type": "code",
   "execution_count": null,
   "metadata": {},
   "outputs": [],
   "source": []
  },
  {
   "cell_type": "markdown",
   "metadata": {},
   "source": [
    "####  Southern Hemisphere - Max Temp vs. Latitude Linear Regression"
   ]
  },
  {
   "cell_type": "code",
   "execution_count": null,
   "metadata": {},
   "outputs": [],
   "source": []
  },
  {
   "cell_type": "markdown",
   "metadata": {},
   "source": [
    "####  Northern Hemisphere - Humidity (%) vs. Latitude Linear Regression"
   ]
  },
  {
   "cell_type": "code",
   "execution_count": null,
   "metadata": {},
   "outputs": [],
   "source": []
  },
  {
   "cell_type": "markdown",
   "metadata": {},
   "source": [
    "####  Southern Hemisphere - Humidity (%) vs. Latitude Linear Regression"
   ]
  },
  {
   "cell_type": "code",
   "execution_count": null,
   "metadata": {},
   "outputs": [],
   "source": []
  },
  {
   "cell_type": "markdown",
   "metadata": {},
   "source": [
    "####  Northern Hemisphere - Cloudiness (%) vs. Latitude Linear Regression"
   ]
  },
  {
   "cell_type": "code",
   "execution_count": null,
   "metadata": {},
   "outputs": [],
   "source": []
  },
  {
   "cell_type": "markdown",
   "metadata": {},
   "source": [
    "####  Southern Hemisphere - Cloudiness (%) vs. Latitude Linear Regression"
   ]
  },
  {
   "cell_type": "code",
   "execution_count": null,
   "metadata": {},
   "outputs": [],
   "source": []
  },
  {
   "cell_type": "markdown",
   "metadata": {},
   "source": [
    "####  Northern Hemisphere - Wind Speed (mph) vs. Latitude Linear Regression"
   ]
  },
  {
   "cell_type": "code",
   "execution_count": null,
   "metadata": {},
   "outputs": [],
   "source": []
  },
  {
   "cell_type": "markdown",
   "metadata": {},
   "source": [
    "####  Southern Hemisphere - Wind Speed (mph) vs. Latitude Linear Regression"
   ]
  },
  {
   "cell_type": "code",
   "execution_count": null,
   "metadata": {},
   "outputs": [],
   "source": []
  },
  {
   "cell_type": "code",
   "execution_count": null,
   "metadata": {},
   "outputs": [],
   "source": []
  }
 ],
 "metadata": {
  "anaconda-cloud": {},
  "kernel_info": {
   "name": "python3"
  },
  "kernelspec": {
   "name": "python379jvsc74a57bd003727d14a4c51d73d0b3641fd732c75024a55a3c0638ac3f8d6d33a3e1ad04f1",
   "display_name": "Python 3.7.9 64-bit ('PythonData': conda)"
  },
  "language_info": {
   "codemirror_mode": {
    "name": "ipython",
    "version": 3
   },
   "file_extension": ".py",
   "mimetype": "text/x-python",
   "name": "python",
   "nbconvert_exporter": "python",
   "pygments_lexer": "ipython3",
   "version": "3.7.9"
  },
  "latex_envs": {
   "LaTeX_envs_menu_present": true,
   "autoclose": false,
   "autocomplete": true,
   "bibliofile": "biblio.bib",
   "cite_by": "apalike",
   "current_citInitial": 1,
   "eqLabelWithNumbers": true,
   "eqNumInitial": 1,
   "hotkeys": {
    "equation": "Ctrl-E",
    "itemize": "Ctrl-I"
   },
   "labels_anchors": false,
   "latex_user_defs": false,
   "report_style_numbering": false,
   "user_envs_cfg": false
  },
  "nteract": {
   "version": "0.12.3"
  }
 },
 "nbformat": 4,
 "nbformat_minor": 2
}