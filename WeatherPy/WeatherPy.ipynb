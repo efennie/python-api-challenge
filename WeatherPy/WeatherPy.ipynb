{
 "cells": [
  {
   "cell_type": "markdown",
   "metadata": {},
   "source": [
    "# WeatherPy\n",
    "----\n",
    "\n",
    "#### Note\n",
    "* Instructions have been included for each segment. You do not have to follow them exactly, but they are included to help you think through the steps."
   ]
  },
  {
   "cell_type": "code",
   "execution_count": 9,
   "metadata": {
    "scrolled": true
   },
   "outputs": [],
   "source": [
    "# Dependencies and Setup\n",
    "import matplotlib.pyplot as plt\n",
    "import pandas as pd\n",
    "import numpy as np\n",
    "import requests\n",
    "import time\n",
    "from scipy.stats import linregress\n",
    "\n",
    "# Import API key\n",
    "from api_keys import weather_api_key\n",
    "\n",
    "# Incorporated citipy to determine city based on latitude and longitude\n",
    "from citipy import citipy\n",
    "\n",
    "# Output File (CSV)\n",
    "output_data_file = \"output_data/cities.csv\"\n",
    "\n",
    "# Range of latitudes and longitudes\n",
    "lat_range = (-90, 90)\n",
    "lng_range = (-180, 180)"
   ]
  },
  {
   "cell_type": "markdown",
   "metadata": {},
   "source": [
    "## Generate Cities List"
   ]
  },
  {
   "cell_type": "code",
   "execution_count": 10,
   "metadata": {},
   "outputs": [
    {
     "output_type": "execute_result",
     "data": {
      "text/plain": [
       "618"
      ]
     },
     "metadata": {},
     "execution_count": 10
    }
   ],
   "source": [
    "# List for holding lat_lngs and cities\n",
    "lat_lngs = []\n",
    "cities = []\n",
    "\n",
    "# Create a set of random lat and lng combinations\n",
    "lats = np.random.uniform(lat_range[0], lat_range[1], size=1500)\n",
    "lngs = np.random.uniform(lng_range[0], lng_range[1], size=1500)\n",
    "lat_lngs = zip(lats, lngs)\n",
    "\n",
    "# Identify nearest city for each lat, lng combination\n",
    "for lat_lng in lat_lngs:\n",
    "    city = citipy.nearest_city(lat_lng[0], lat_lng[1]).city_name\n",
    "    \n",
    "    # If the city is unique, then add it to a our cities list\n",
    "    if city not in cities:\n",
    "        cities.append(city)\n",
    "\n",
    "# Print the city count to confirm sufficient count\n",
    "len(cities)"
   ]
  },
  {
   "cell_type": "code",
   "execution_count": 11,
   "metadata": {},
   "outputs": [
    {
     "output_type": "stream",
     "name": "stdout",
     "text": [
      "['ushuaia', 'fort nelson', 'acapulco', 'longlac', 'khatanga', 'umm lajj', 'norman wells', 'busselton', 'touros', 'lebu', 'punta arenas', 'esperance', 'havoysund', 'maniitsoq', 'kodiak', 'hermanus', 'hilo', 'serebryanyy bor', 'verkhnyaya sinyachikha', 'bambous virieux', 'nikolskoye', 'turukhansk', 'avarua', 'rikitea', 'ribeira grande', 'luderitz', 'valley city', 'tame', 'nadym', 'hami', 'barentsburg', 'palmer', 'albany', 'jiancheng', 'torbay', 'kapaa', 'mataura', 'sergeyevka', 'amderma', 'belmonte', 'tiksi', 'samarai', 'nizwa', 'narsaq', 'iqaluit', 'tessalit', 'gushikawa', 'vaitupu', 'bur gabo', 'toliary', 'hithadhoo', 'islahiye', 'mahebourg', 'dikson', 'tautira', 'mys shmidta', 'huoqiu', 'irbil', 'abeche', 'jamestown', 'oranjemund', 'laguna', 'port elizabeth', 'hobart', 'neryungri', 'geraldton', 'lagoa', 'nova prata', 'kavieng', 'yellowknife', 'kununurra', 'paamiut', 'cairns', 'atuona', 'attawapiskat', 'westport', 'bathsheba', 'trairi', 'kaitangata', 'puerto ayora', 'talaya', 'southbridge', 'skagastrond', 'opuwo', 'dao', 'nizhneyansk', 'east london', 'luxor', 'arlit', 'lufilufi', 'mount gambier', 'roma', 'illoqqortoormiut', 'krasnousolskiy', 'taltal', 'portland', 'matay', 'port lincoln', 'new norfolk', 'marawi', 'cidreira', 'sao filipe', 'katsuura', 'mednogorsk', 'fortuna', 'krasnoselkup', 'leningradskiy', 'tucuman', 'emba', 'yulara', 'weatherford', 'sarkand', 'miramar', 'pevek', 'kalabo', 'banepa', 'irondequoit', 'lompoc', 'vedaranniyam', 'nanortalik', 'mutsamudu', 'butaritari', 'garhi khairo', 'bluff', 'kahului', 'lodhran', 'arraial do cabo', 'hambantota', 'sarai naurang', 'vaini', 'tiarei', 'klaksvik', 'sentyabrskiy', 'grand river south east', 'benguela', 'lorengau', 'bengkulu', 'taolanaro', 'cape town', 'tuktoyaktuk', 'san patricio', 'seoul', 'icod de los vinos', 'juneau', 'swidwin', 'cayenne', 'mogadishu', 'talnakh', 'chokurdakh', 'qaanaaq', 'cordoba', 'ancud', 'barrow', 'warqla', 'cabo san lucas', 'nome', 'klobuck', 'fontana', 'shenjiamen', 'clyde river', 'ulaangom', 'castro', 'misratah', 'ambon', 'tigil', 'wageningen', 'upernavik', 'bredasdorp', 'yanam', 'okahandja', 'port hedland', 'kuala terengganu', 'cap malheureux', 'guanica', 'souillac', 'talara', 'bronnoysund', 'rapid valley', 'sisimiut', 'hovd', 'ramjibanpur', 'umzimvubu', 'saint anthony', 'kismayo', 'gap', 'gidam', 'kholodnyy', 'pacific grove', 'zhireken', 'sur', 'hobyo', 'husavik', 'muros', 'saint-philippe', 'kavaratti', 'san cristobal', 'hearst', 'huejuquilla el alto', 'nouadhibou', 'chuy', 'verkhnetulomskiy', 'hualmay', 'emporia', 'thompson', 'mar del plata', 'georgetown', 'lodja', 'tasiilaq', 'cherskiy', 'havre-saint-pierre', 'longyearbyen', 'matagami', 'tomatlan', 'santa rosa', 'kenai', 'leshukonskoye', 'san policarpo', 'morgan city', 'cockburn town', 'floro', 'marsh harbour', 'peru', 'methoni', 'pontianak', 'richards bay', 'kloulklubed', 'harper', 'alofi', 'buffalo', 'kieta', 'buala', 'grand gaube', 'namatanai', 'puerto ayacucho', 'mehamn', 'daru', 'jurbarkas', 'louisbourg', 'saint george', 'ternate', 'tahe', 'salvacion', 'kamina', 'sheridan', 'arman', 'teguldet', 'ust-kuyga', 'warmbad', 'isla del bosque', 'sorong', 'kuche', 'whakatane', 'mirnyy', 'wulanhaote', 'umm kaddadah', 'port alfred', 'doka', 'okhotsk', 'muzhi', 'antofagasta', 'coracora', 'puerto maldonado', 'kirakira', 'ahipara', 'arinos', 'bajil', 'hibbing', 'liniere', 'biloela', 'burica', 'lakselv', 'jiddah', 'ginir', 'sao joao da barra', 'noumea', 'port blair', 'malinovoye ozero', 'margate', 'birjand', 'viramgam', 'mergui', 'severo-kurilsk', 'khokhryaki', 'healdsburg', 'ketchikan', 'haines junction', 'buenos aires', 'codrington', 'santa maria', 'kamenskoye', 'ambilobe', 'axim', 'victoria', 'mandalgovi', 'lolua', 'satitoa', 'namibe', 'deputatskiy', 'maues', 'yakeshi', 'broome', 'gawler', 'puerto colombia', 'sabha', 'khani', 'dvinskoy', 'campo alegre', 'chapleau', 'bougouni', 'gangotri', 'cabedelo', 'shieli', 'boa vista', 'papara', 'alice springs', 'san carlos del zulia', 'fenoarivo atsinanana', 'camargo', 'griffith', 'portoferraio', 'salalah', 'tondano', 'hargeysa', 'alexander city', 'san quintin', 'beloha', 'keffi', 'hervey bay', 'hasaki', 'tiznit', 'tumannyy', 'kashiwazaki', 'morant bay', 'puerto quijarro', 'saldanha', 'solton', 'malanje', 'athabasca', 'ust-kulom', 'phayakkhaphum phisai', 'camana', 'pisco', 'taoudenni', 'banes', 'boyolangu', 'jackson', 'rusape', 'warrnambool', 'egvekinot', 'komsomolskiy', 'flinders', 'marienburg', 'minas', 'batemans bay', 'chokwe', 'gulmarg', 'filingue', 'mecca', 'savannah bight', 'puerto baquerizo moreno', 'zdolbuniv', 'tocopilla', 'baherden', 'adrar', 'candido mendes', 'garbolovo', 'robertson', 'sitka', 'boende', 'brisbane', 'belushya guba', 'naze', 'green river', 'rogovatoye', 'mascote', 'lavrentiya', 'xichang', 'merauke', 'clarence town', 'valparaiso', 'fairbanks', 'banda aceh', 'yuzhno-yeniseyskiy', 'jiwani', 'rungata', 'ponta do sol', 'talawdi', 'ust-karsk', 'kita', 'lyantonde', 'ibra', 'codajas', 'debre sina', 'zhetysay', 'kachug', 'tuatapere', 'korla', 'sangar', 'bubaque', 'fort collins', 'waingapu', 'beringovskiy', 'barawe', 'airai', 'olinda', 'ambalavao', 'dong hoi', 'saleaula', 'labuhan', 'meyungs', 'veraval', 'oksfjord', 'belyy yar', 'kiunga', 'mungaoli', 'mayo', 'mucurapo', 'fairfield', 'dickinson', 'krechevitsy', 'mahon', 'pacifica', 'isangel', 'snezhnogorsk', 'vao', 'yar-sale', 'north bend', 'constitucion', 'roebourne', 'dharchula', 'bardiyah', 'chagda', 'kutum', 'faanui', 'la ronge', 'hamilton', 'tura', 'dhidhdhoo', 'murgab', 'kupang', 'beyneu', 'atherton', 'qazvin', 'townsville', 'lima', 'vilhena', 'muravlenko', 'thabazimbi', 'kawalu', 'pocos de caldas', 'aswan', 'teya', 'vostok', 'victor harbor', 'biltine', 'maun', 'huarmey', 'arona', 'tateyama', 'nagar', 'erzin', 'saskylakh', 'kalangala', 'nouakchott', 'coquimbo', 'vila franca do campo', 'agogo', 'barabai', 'bystrice nad pernstejnem', 'kemise', 'aleksandrovskoye', 'bhandara', 'mortka', 'miles city', 'novorzhev', 'ambulu', 'temaraia', 'kurilsk', 'port hardy', 'nago', 'nadvoitsy', 'carnarvon', 'kose', 'kerema', 'zhengjiatun', 'ilulissat', 'makakilo city', 'verkh-usugli', 'cururupu', 'comodoro rivadavia', 'mandera', 'atar', 'bethel', 'dunedin', 'winnemucca', 'paracuru', 'malkara', 'porto torres', 'saint-pierre', 'coahuayana', 'samarinda', 'peterborough', 'amazar', 'kon tum', 'bairiki', 'samalaeulu', 'port augusta', 'vestmannaeyjar', 'yandoon', 'naryan-mar', 'zhangye', 'manbij', 'arrecife', 'mana', 'martil', 'sabaudia', 'safwah', 'burns lake', 'sola', 'fort frances', 'guerrero negro', 'dingle', 'vestmanna', 'iberia', 'berlevag', 'emerald', 'belle fourche', 'iralaya', 'dubrovka', 'agva', 'itarantim', 'necochea', 'mawlaik', 'ongole', 'mkushi', 'chumikan', 'grindavik', 'provideniya', 'mabaruma', 'buluang', 'longview', 'bud', 'yaan', 'zharkent', 'labutta', 'byron bay', 'kendari', 'russell', 'shitanjing', 'nampula', 'zhigansk', 'samusu', 'manggar', 'half moon bay', 'zonguldak', 'pochutla', 'yenagoa', 'mount isa', 'marcona', 'brae', 'buraydah', 'moranbah', 'meulaboh', 'tual', 'evensk', 'nalut', 'ust-bolsheretsk', 'quatre cocos', 'bobosevo', 'thunder bay', 'formoso do araguaia', 'dalbandin', 'penzance', 'primero de marzo', 'fuerte olimpo', 'chicama', 'quelimane', 'sinnamary', 'davila', 'sokolo', 'veere', 'dudinka', 'andilamena', 'flin flon', 'mosalsk', 'berkak', 'yetkul', 'srednekolymsk', 'bontang', 'onega', 'vanimo', 'reading', 'yerbogachen', 'palabuhanratu', 'araouane', 'gornopravdinsk', 'wasilla', 'yarmouth', 'soro', 'rawson', 'nelson bay', 'eyl', 'san carlos', 'tabukiniberu', 'presidencia roque saenz pena', 'kruisfontein', 'kudahuvadhoo', 'ankara', 'sal rei', 'ondangwa', 'seewalchen', 'desaguadero', 'hihifo', 'falmouth', 'general pico', 'beisfjord', 'chulym', 'laibin']\n"
     ]
    }
   ],
   "source": [
    "#print cities for sanity check\n",
    "print(cities)"
   ]
  },
  {
   "cell_type": "code",
   "execution_count": 12,
   "metadata": {},
   "outputs": [
    {
     "output_type": "error",
     "ename": "SyntaxError",
     "evalue": "invalid character in identifier (<ipython-input-12-d15975371e3f>, line 19)",
     "traceback": [
      "\u001b[0;36m  File \u001b[0;32m\"<ipython-input-12-d15975371e3f>\"\u001b[0;36m, line \u001b[0;32m19\u001b[0m\n\u001b[0;31m    for city in city_sample:\u001b[0m\n\u001b[0m                          ^\u001b[0m\n\u001b[0;31mSyntaxError\u001b[0m\u001b[0;31m:\u001b[0m invalid character in identifier\n"
     ]
    }
   ],
   "source": [
    "#weather checks\n",
    "url = \"http://api.openweathermap.org/data/2.5/weather?\"\n",
    "units = \"metric\"\n",
    "\n",
    "query_url = f\"{url}appid={weather_api_key}&units={units}&q=\"\n",
    "\n",
    "#loop set up\n",
    "lat=[]\n",
    "lng=[]\n",
    "max_temp=[]\n",
    "humidity=[]\n",
    "cloudiness=[]\n",
    "windspeed=[]\n",
    "country=[]\n",
    "date=[]\n",
    "city_sample = ['hilo', 'samusu', 'caravelas', 'castro', 'bredasdorp', 'albany']\n",
    "\n",
    "#loop\n",
    "for city in city_sample:\n",
    "    try:\n",
    "        response = requests.get(query_url + city).json()\n",
    "        print(f'processing record for: {city}')\n",
    "        lat.append(response['coord']['lat'])\n",
    "        lng.append(response['coord']['lng'])\n",
    "        max_temp.append(response['main']['temp_max'])\n",
    "        cloudiness.append(response['weather']['description'])\n",
    "        windspeed.append(response['wind']['speed'])\n",
    "        country.append(response['sys']['country'])\n",
    "        date.append(response['dt'])\n",
    "\n",
    "    except KeyError:\n",
    "        print(\"city record not found...skipping..\")\n",
    "\n",
    "print('done')\n"
   ]
  },
  {
   "cell_type": "markdown",
   "metadata": {},
   "source": [
    "### Perform API Calls\n",
    "* Perform a weather check on each city using a series of successive API calls.\n",
    "* Include a print log of each city as it'sbeing processed (with the city number and city name).\n"
   ]
  },
  {
   "cell_type": "code",
   "execution_count": null,
   "metadata": {},
   "outputs": [],
   "source": [
    "#df creation!!!!!!!!!!!!!!!\n",
    "# weather_dict = {\n",
    "    #\"city\": cities,\n",
    "    #\"lat\": lat,\n",
    "    #\"temp\": temp\n",
    "#}\n",
    "#weather_data = pd.DataFrame(weather_dict)\n",
    "#weather_data.head()"
   ]
  },
  {
   "cell_type": "code",
   "execution_count": null,
   "metadata": {
    "scrolled": true
   },
   "outputs": [],
   "source": []
  },
  {
   "cell_type": "markdown",
   "metadata": {},
   "source": [
    "### Convert Raw Data to DataFrame\n",
    "* Export the city data into a .csv.\n",
    "* Display the DataFrame"
   ]
  },
  {
   "cell_type": "code",
   "execution_count": null,
   "metadata": {},
   "outputs": [],
   "source": []
  },
  {
   "cell_type": "code",
   "execution_count": null,
   "metadata": {},
   "outputs": [],
   "source": []
  },
  {
   "cell_type": "markdown",
   "metadata": {},
   "source": [
    "## Inspect the data and remove the cities where the humidity > 100%.\n",
    "----\n",
    "Skip this step if there are no cities that have humidity > 100%. "
   ]
  },
  {
   "cell_type": "code",
   "execution_count": null,
   "metadata": {},
   "outputs": [],
   "source": []
  },
  {
   "cell_type": "code",
   "execution_count": null,
   "metadata": {},
   "outputs": [],
   "source": [
    "#  Get the indices of cities that have humidity over 100%.\n"
   ]
  },
  {
   "cell_type": "code",
   "execution_count": null,
   "metadata": {},
   "outputs": [],
   "source": [
    "# Make a new DataFrame equal to the city data to drop all humidity outliers by index.\n",
    "# Passing \"inplace=False\" will make a copy of the city_data DataFrame, which we call \"clean_city_data\".\n"
   ]
  },
  {
   "cell_type": "code",
   "execution_count": null,
   "metadata": {},
   "outputs": [],
   "source": [
    "\n"
   ]
  },
  {
   "cell_type": "markdown",
   "metadata": {},
   "source": [
    "## Plotting the Data\n",
    "* Use proper labeling of the plots using plot titles (including date of analysis) and axes labels.\n",
    "* Save the plotted figures as .pngs."
   ]
  },
  {
   "cell_type": "markdown",
   "metadata": {},
   "source": [
    "## Latitude vs. Temperature Plot"
   ]
  },
  {
   "cell_type": "code",
   "execution_count": null,
   "metadata": {
    "scrolled": true
   },
   "outputs": [],
   "source": []
  },
  {
   "cell_type": "markdown",
   "metadata": {},
   "source": [
    "## Latitude vs. Humidity Plot"
   ]
  },
  {
   "cell_type": "code",
   "execution_count": null,
   "metadata": {},
   "outputs": [],
   "source": []
  },
  {
   "cell_type": "markdown",
   "metadata": {},
   "source": [
    "## Latitude vs. Cloudiness Plot"
   ]
  },
  {
   "cell_type": "code",
   "execution_count": null,
   "metadata": {},
   "outputs": [],
   "source": []
  },
  {
   "cell_type": "markdown",
   "metadata": {},
   "source": [
    "## Latitude vs. Wind Speed Plot"
   ]
  },
  {
   "cell_type": "code",
   "execution_count": null,
   "metadata": {},
   "outputs": [],
   "source": []
  },
  {
   "cell_type": "markdown",
   "metadata": {},
   "source": [
    "## Linear Regression"
   ]
  },
  {
   "cell_type": "code",
   "execution_count": null,
   "metadata": {},
   "outputs": [],
   "source": []
  },
  {
   "cell_type": "markdown",
   "metadata": {},
   "source": [
    "####  Northern Hemisphere - Max Temp vs. Latitude Linear Regression"
   ]
  },
  {
   "cell_type": "code",
   "execution_count": null,
   "metadata": {},
   "outputs": [],
   "source": []
  },
  {
   "cell_type": "markdown",
   "metadata": {},
   "source": [
    "####  Southern Hemisphere - Max Temp vs. Latitude Linear Regression"
   ]
  },
  {
   "cell_type": "code",
   "execution_count": null,
   "metadata": {},
   "outputs": [],
   "source": []
  },
  {
   "cell_type": "markdown",
   "metadata": {},
   "source": [
    "####  Northern Hemisphere - Humidity (%) vs. Latitude Linear Regression"
   ]
  },
  {
   "cell_type": "code",
   "execution_count": null,
   "metadata": {},
   "outputs": [],
   "source": []
  },
  {
   "cell_type": "markdown",
   "metadata": {},
   "source": [
    "####  Southern Hemisphere - Humidity (%) vs. Latitude Linear Regression"
   ]
  },
  {
   "cell_type": "code",
   "execution_count": null,
   "metadata": {},
   "outputs": [],
   "source": []
  },
  {
   "cell_type": "markdown",
   "metadata": {},
   "source": [
    "####  Northern Hemisphere - Cloudiness (%) vs. Latitude Linear Regression"
   ]
  },
  {
   "cell_type": "code",
   "execution_count": null,
   "metadata": {},
   "outputs": [],
   "source": []
  },
  {
   "cell_type": "markdown",
   "metadata": {},
   "source": [
    "####  Southern Hemisphere - Cloudiness (%) vs. Latitude Linear Regression"
   ]
  },
  {
   "cell_type": "code",
   "execution_count": null,
   "metadata": {},
   "outputs": [],
   "source": []
  },
  {
   "cell_type": "markdown",
   "metadata": {},
   "source": [
    "####  Northern Hemisphere - Wind Speed (mph) vs. Latitude Linear Regression"
   ]
  },
  {
   "cell_type": "code",
   "execution_count": null,
   "metadata": {},
   "outputs": [],
   "source": []
  },
  {
   "cell_type": "markdown",
   "metadata": {},
   "source": [
    "####  Southern Hemisphere - Wind Speed (mph) vs. Latitude Linear Regression"
   ]
  },
  {
   "cell_type": "code",
   "execution_count": null,
   "metadata": {},
   "outputs": [],
   "source": []
  },
  {
   "cell_type": "code",
   "execution_count": null,
   "metadata": {},
   "outputs": [],
   "source": []
  }
 ],
 "metadata": {
  "anaconda-cloud": {},
  "kernel_info": {
   "name": "python3"
  },
  "kernelspec": {
   "name": "python385jvsc74a57bd0b75be9ad71603c40476c6c8216298ace4da278de65ecdbf5da31753ceef4d599",
   "display_name": "Python 3.8.5 64-bit ('base': conda)"
  },
  "language_info": {
   "codemirror_mode": {
    "name": "ipython",
    "version": 3
   },
   "file_extension": ".py",
   "mimetype": "text/x-python",
   "name": "python",
   "nbconvert_exporter": "python",
   "pygments_lexer": "ipython3",
   "version": "3.8.5"
  },
  "latex_envs": {
   "LaTeX_envs_menu_present": true,
   "autoclose": false,
   "autocomplete": true,
   "bibliofile": "biblio.bib",
   "cite_by": "apalike",
   "current_citInitial": 1,
   "eqLabelWithNumbers": true,
   "eqNumInitial": 1,
   "hotkeys": {
    "equation": "Ctrl-E",
    "itemize": "Ctrl-I"
   },
   "labels_anchors": false,
   "latex_user_defs": false,
   "report_style_numbering": false,
   "user_envs_cfg": false
  },
  "nteract": {
   "version": "0.12.3"
  }
 },
 "nbformat": 4,
 "nbformat_minor": 2
}