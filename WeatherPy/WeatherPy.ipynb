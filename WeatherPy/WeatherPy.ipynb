{
 "cells": [
  {
   "cell_type": "markdown",
   "metadata": {},
   "source": [
    "# WeatherPy\n",
    "----\n",
    "\n",
    "#### Note\n",
    "* Instructions have been included for each segment. You do not have to follow them exactly, but they are included to help you think through the steps."
   ]
  },
  {
   "cell_type": "code",
   "execution_count": 23,
   "metadata": {
    "scrolled": true
   },
   "outputs": [],
   "source": [
    "# Dependencies and Setup\n",
    "import matplotlib.pyplot as plt\n",
    "import pandas as pd\n",
    "import numpy as np\n",
    "import requests\n",
    "import time\n",
    "from scipy.stats import linregress\n",
    "\n",
    "# Import API key\n",
    "from api_keys import weather_api_key\n",
    "\n",
    "# Incorporated citipy to determine city based on latitude and longitude\n",
    "from citipy import citipy\n",
    "\n",
    "# Output File (CSV)\n",
    "output_data_file = \"output_data/cities.csv\"\n",
    "\n",
    "# Range of latitudes and longitudes\n",
    "lat_range = (-90, 90)\n",
    "lng_range = (-180, 180)"
   ]
  },
  {
   "cell_type": "markdown",
   "metadata": {},
   "source": [
    "## Generate Cities List"
   ]
  },
  {
   "cell_type": "code",
   "execution_count": 24,
   "metadata": {},
   "outputs": [
    {
     "output_type": "execute_result",
     "data": {
      "text/plain": [
       "610"
      ]
     },
     "metadata": {},
     "execution_count": 24
    }
   ],
   "source": [
    "# List for holding lat_lngs and cities\n",
    "lat_lngs = []\n",
    "cities = []\n",
    "\n",
    "# Create a set of random lat and lng combinations\n",
    "lats = np.random.uniform(lat_range[0], lat_range[1], size=1500)\n",
    "lngs = np.random.uniform(lng_range[0], lng_range[1], size=1500)\n",
    "lat_lngs = zip(lats, lngs)\n",
    "\n",
    "# Identify nearest city for each lat, lng combination\n",
    "for lat_lng in lat_lngs:\n",
    "    city = citipy.nearest_city(lat_lng[0], lat_lng[1]).city_name\n",
    "    \n",
    "    # If the city is unique, then add it to a our cities list\n",
    "    if city not in cities:\n",
    "        cities.append(city)\n",
    "\n",
    "# Print the city count to confirm sufficient count\n",
    "len(cities)"
   ]
  },
  {
   "cell_type": "code",
   "execution_count": 25,
   "metadata": {},
   "outputs": [
    {
     "output_type": "stream",
     "name": "stdout",
     "text": [
      "['ushuaia', 'yomitan', 'bandarbeyla', 'cape town', 'katsuura', 'kurchum', 'barrow', 'rawlins', 'tasiilaq', 'killybegs', 'kodiak', 'necochea', 'robertsport', 'sur', 'punta arenas', 'rikitea', 'constitucion', 'longyearbyen', 'egvekinot', 'dikson', 'tumannyy', 'sentyabrskiy', 'hobart', 'bluff', 'freeport', 'busselton', 'atuona', 'najran', 'hithadhoo', 'geraldton', 'kapaa', 'saint-philippe', 'digras', 'cap-aux-meules', 'lebu', 'thompson', 'khatanga', 'belushya guba', 'taolanaro', 'torbay', 'ciras', 'severo-kurilsk', 'gornyye klyuchi', 'albany', 'hermanus', 'nikolskoye', 'freiberg', 'mar del plata', 'mataura', 'majene', 'zhigansk', 'ponta do sol', 'cherskiy', 'souillac', 'tsihombe', 'vaini', 'dangriga', 'samusu', 'broome', 'avarua', 'ahipara', 'barentsburg', 'ribeira grande', 'mount isa', 'requena', 'seddon', 'sosua', 'alekseyevsk', 'puerto ayora', 'bud', 'tessalit', 'port blair', 'east london', 'bredasdorp', 'zaozerne', 'tabiauea', 'te anau', 'marsh harbour', 'port-cartier', 'butaritari', 'jamestown', 'hegang', 'saleaula', 'yuli', 'kavieng', 'georgetown', 'kindu', 'viligili', 'tomatlan', 'carnarvon', 'gimli', 'namatanai', 'sadowara', 'saint george', 'poum', 'coquimbo', 'beloha', 'saskylakh', 'barreirinha', 'gazojak', 'grand river south east', 'mackay', 'san lorenzo', 'meulaboh', 'le moule', 'am timan', 'tiszabura', 'tarogong', 'awjilah', 'khilok', 'maceio', 'kudahuvadhoo', 'mahebourg', 'hanzhong', 'saldanha', 'port alfred', 'namibe', 'chokurdakh', 'itupiranga', 'dingle', 'sorland', 'esperance', 'margate', 'yuci', 'talara', 'mehamn', 'komsomolskiy', 'narsaq', 'canar', 'jinchang', 'nizhneyansk', 'karratha', 'shihezi', 'san patricio', 'ballina', 'tuktoyaktuk', 'evensk', 'mys shmidta', 'hasaki', 'banda aceh', 'yerbogachen', 'aykhal', 'hilo', 'airai', 'morgan city', 'lucapa', 'stornoway', 'saint anthony', 'qaanaaq', 'cabo san lucas', 'nome', 'arraial do cabo', 'kaitangata', 'nouakchott', 'illoqqortoormiut', 'amapa', 'sorvag', 'virginia beach', 'kiama', 'ust-nera', 'laguna', 'novoyegoryevskoye', 'sao joao da barra', 'henties bay', 'mme', 'tiksi', 'lavrentiya', 'livingstone', 'zhuji', 'makubetsu', 'yellowknife', 'port elizabeth', 'pevek', 'lata', 'port lincoln', 'kyzyl-suu', 'dandong', 'cabra', 'heihe', 'hofn', 'new norfolk', 'pasighat', 'acajutla', 'paamiut', 'dzhusaly', 'mergui', 'flinders', 'arlit', 'makakilo city', 'kuche', 'taltal', 'ketchikan', 'tocopilla', 'abha', 'varzelandia', 'pueblo', 'kondinskoye', 'havre-saint-pierre', 'castro', 'lasa', 'upernavik', 'buchanan', 'mana', 'avera', 'la ceiba', 'honiara', 'suzu', 'saint-francois', 'great yarmouth', 'linjiang', 'port washington', 'kirakira', 'yazman', 'donskoye', 'bethel', 'mayo', 'byron bay', 'kasempa', 'ancud', 'ucluelet', 'poronaysk', 'yunjinghong', 'yar-sale', 'nara', 'kieta', 'balrampur', 'eureka', 'wadi maliz', 'bontang', 'petropavlovka', 'modasa', 'vardo', 'goderich', 'bilma', 'tuatapere', 'khani', 'ilulissat', 'victoria', 'pisco', 'pemba', 'seoul', 'klaksvik', 'petrozavodsk', 'batagay-alyta', 'misratah', 'okha', 'zyryanka', 'san policarpo', 'sitka', 'ekibastuz', 'kavaratti', 'zhanakorgan', 'shelui', 'kochubey', 'touros', 'wildberg', 'tommot', 'grafton', 'adrar', 'maniitsoq', 'nakusp', 'vaitupu', 'kaduqli', 'aukra', 'sylvania', 'ammon', 'batagay', 'benguela', 'izumo', 'sulangan', 'eyl', 'bokspits', 'nhulunbuy', 'banmo', 'perth', 'attawapiskat', 'coahuayana', 'amderma', 'fukue', 'opuwo', 'liwale', 'west wendover', 'clyde river', 'mokhsogollokh', 'vostok', 'faya', 'meschede', 'nabire', 'codrington', 'harper', 'sao filipe', 'salalah', 'stykkisholmur', 'morondava', 'alofi', 'muisne', 'nyurba', 'bosobolo', 'arman', 'griffith', 'balti', 'hailey', 'sulphur springs', 'fairbanks', 'san carlos de bariloche', 'vao', 'jumla', 'walvis bay', 'clovis', 'sinnamary', 'kenai', 'praya', 'karwar', 'luena', 'aksu', 'beringovskiy', 'longkou', 'general roca', 'bose', 'mbengwi', 'cortez', 'havelock', 'hit', 'la primavera', 'bilibino', 'thunder bay', 'toftir', 'mezen', 'norman wells', 'abancay', 'panshi', 'zolotinka', 'taoudenni', 'srednekolymsk', 'kumhari', 'palabuhanratu', 'la libertad', 'santana do ipanema', 'tilichiki', 'waingapu', 'olafsvik', 'novikovo', 'juelsminde', 'ayutla', 'tobane', 'pangnirtung', 'achacachi', 'chuy', 'beruni', 'fortuna', 'manakara', 'port hedland', 'kerteh', 'bonnyville', 'bambous virieux', 'nioro', 'kyzyl-mazhalyk', 'kalmunai', 'nanortalik', 'krutinka', 'petropavlovsk-kamchatskiy', 'huarmey', 'samarai', 'ban nahin', 'kununurra', 'bacuit', 'cidreira', 'los llanos de aridane', 'stromness', 'iskandar', 'chaozhou', 'fare', 'birao', 'tura', 'chesma', 'jijiga', 'koslan', 'kloulklubed', 'yulara', 'bella vista', 'sydney', 'bairiki', 'launceston', 'san cristobal', 'hemnesberget', 'wad madani', 'nouadhibou', 'ouricuri', 'surgut', 'ola', 'lufilufi', 'tabuk', 'aklavik', 'kaka', 'kefamenanu', 'mamakan', 'kaliua', 'bosanska kostajnica', 'aranos', 'santa fe', 'solnechnyy', 'sergiyevsk', 'odweyne', 'coihaique', 'buala', 'lompoc', 'antofagasta', 'porto novo', 'karamea', 'sola', 'cape coral', 'lagos', 'tsementnozavodskiy', 'inhambane', 'mareeba', 'ercis', 'provideniya', 'bassano', 'bhitarwar', 'jamame', 'warwick', 'ambon', 'surman', 'havoysund', 'husavik', 'pocri', 'zhenlai', 'leningradskiy', 'wuxi', 'owando', 'north bend', 'nata', 'ziro', 'valparaiso', 'katobu', 'totkomlos', 'longlac', 'rio grande', 'anloga', 'changji', 'caravelas', 'mrirt', 'tual', 'hami', 'biak', 'melfi', 'norfolk', 'thanh hoa', 'saint-pierre', 'haibowan', 'la spezia', 'kahului', 'kruisfontein', 'lorengau', 'cordoba', 'port-gentil', 'mocuba', 'dubasari', 'moroni', 'mananjary', 'itaueira', 'luderitz', 'svetlogorsk', 'muros', 'kulgam', 'atar', 'baykit', 'lidzbark warminski', 'novi sanzhary', 'zhangye', 'miragoane', 'pemangkat', 'hirara', 'la palma', 'shahr-e babak', 'ishigaki', 'kamenskoye', 'boa vista', 'salaga', 'iqaluit', 'jinka', 'topolobampo', 'kenora', 'saraland', 'saravan', 'colquechaca', 'varhaug', 'mponela', 'guerrero negro', 'isangel', 'la ronge', 'itauna', 'cochabamba', 'black forest', 'kariba', 'forbes', 'ciudad bolivar', 'vestmannaeyjar', 'faanui', 'platanos', 'kasongo-lunda', 'chenzhou', 'buraydah', 'xam nua', 'acapulco', 'dhidhdhoo', 'jabiru', 'barinas', 'novyy urengoy', 'fernie', 'bathsheba', 'bodden town', 'marsabit', 'halalo', 'kijang', 'midleton', 'praia da vitoria', 'humaita', 'glace bay', 'totoral', 'shaunavon', 'imari', 'quelimane', 'paoua', 'hede', 'rosa zarate', 'gelibolu', 'grand centre', 'lagoa', 'bereda', 'rongcheng', 'port moresby', 'nanakuli', 'mujiayingzi', 'pacific grove', 'catuday', 'itarantim', 'grand-lahou', 'kharitonovo', 'strangnas', 'quatis', 'cockburn town', 'ivanteyevka', 'roi et', 'bengkulu', 'vila do maio', 'iskilip', 'moss vale', 'baker city', 'lluta', 'watford', 'meyungs', 'asau', 'chapais', 'rosarito', 'sisimiut', 'shanhetun', 'ambilobe', 'ganzhou', 'tiznit', 'shelburne', 'roald', 'chiriguana', 'mwense', 'axim', 'college', 'ostrovnoy', 'rapid valley', 'teya', 'koungheul', 'wukari', 'brae', 'kushmurun', 'charters towers', 'gawler', 'kirovskiy', 'bantry', 'umzimvubu', 'ust-maya', 'naze', 'itapirapua', 'tandalti', 'puerto ayacucho', 'cockburn harbour', 'harbour breton', 'mineros', 'kokoda', 'korla', 'camacha', 'krems', 'tirumullaivasal', 'effium', 'arona', 'menongue', 'conde', 'sfantu gheorghe', 'marawi', 'scranton', 'omsukchan', 'prieska', 'belousovka', 'okhotsk', 'cabedelo', 'portland', 'longyan', 'thinadhoo', 'sungaipenuh', 'safakulevo', 'nemuro', 'keta']\n"
     ]
    }
   ],
   "source": [
    "#print cities for sanity check\n",
    "print(cities)"
   ]
  },
  {
   "cell_type": "code",
   "execution_count": 26,
   "metadata": {},
   "outputs": [
    {
     "output_type": "error",
     "ename": "SyntaxError",
     "evalue": "invalid character in identifier (<ipython-input-26-dbdf57a5e8d5>, line 19)",
     "traceback": [
      "\u001b[0;36m  File \u001b[0;32m\"<ipython-input-26-dbdf57a5e8d5>\"\u001b[0;36m, line \u001b[0;32m19\u001b[0m\n\u001b[0;31m    for city in city_sample:\u001b[0m\n\u001b[0m                          ^\u001b[0m\n\u001b[0;31mSyntaxError\u001b[0m\u001b[0;31m:\u001b[0m invalid character in identifier\n"
     ]
    }
   ],
   "source": [
    "#weather checks\n",
    "url = \"http://api.openweathermap.org/data/2.5/weather?\"\n",
    "units = \"metric\"\n",
    "\n",
    "query_url = f\"{url}appid={weather_api_key}&units={units}&q=\"\n",
    "\n",
    "#loop set up\n",
    "lat=[]\n",
    "lng=[]\n",
    "max_temp=[]\n",
    "humidity=[]\n",
    "cloudiness=[]\n",
    "windspeed=[]\n",
    "country=[]\n",
    "date=[]\n",
    "city_sample = [\"hilo\", \"samusu\", \"caravelas\", \"castro\", \"bredasdorp\", \"albany\"]\n",
    "\n",
    "#loop\n",
    "for city in city_sample:\n",
    "    try:\n",
    "        response = requests.get(query_url + city).json()\n",
    "        print(f'processing record for: {city}')\n",
    "        lat.append(response['coord']['lat'])\n",
    "        lng.append(response['coord']['lng'])\n",
    "        max_temp.append(response['main']['temp_max'])\n",
    "        cloudiness.append(response['weather']['description'])\n",
    "        windspeed.append(response['wind']['speed'])\n",
    "        country.append(response['sys']['country'])\n",
    "        date.append(response['dt'])\n",
    "\n",
    "    except KeyError:\n",
    "        print(\"city record not found...skipping..\")\n",
    "\n",
    "print('done')\n"
   ]
  },
  {
   "cell_type": "markdown",
   "metadata": {},
   "source": [
    "### Perform API Calls\n",
    "* Perform a weather check on each city using a series of successive API calls.\n",
    "* Include a print log of each city as it'sbeing processed (with the city number and city name).\n"
   ]
  },
  {
   "cell_type": "code",
   "execution_count": null,
   "metadata": {},
   "outputs": [],
   "source": [
    "#df creation!!!!!!!!!!!!!!!\n",
    "# weather_dict = {\n",
    "    #\"city\": cities,\n",
    "    #\"lat\": lat,\n",
    "    #\"temp\": temp\n",
    "#}\n",
    "#weather_data = pd.DataFrame(weather_dict)\n",
    "#weather_data.head()"
   ]
  },
  {
   "cell_type": "code",
   "execution_count": null,
   "metadata": {
    "scrolled": true
   },
   "outputs": [],
   "source": []
  },
  {
   "cell_type": "markdown",
   "metadata": {},
   "source": [
    "### Convert Raw Data to DataFrame\n",
    "* Export the city data into a .csv.\n",
    "* Display the DataFrame"
   ]
  },
  {
   "cell_type": "code",
   "execution_count": null,
   "metadata": {},
   "outputs": [],
   "source": []
  },
  {
   "cell_type": "code",
   "execution_count": null,
   "metadata": {},
   "outputs": [],
   "source": []
  },
  {
   "cell_type": "markdown",
   "metadata": {},
   "source": [
    "## Inspect the data and remove the cities where the humidity > 100%.\n",
    "----\n",
    "Skip this step if there are no cities that have humidity > 100%. "
   ]
  },
  {
   "cell_type": "code",
   "execution_count": null,
   "metadata": {},
   "outputs": [],
   "source": []
  },
  {
   "cell_type": "code",
   "execution_count": null,
   "metadata": {},
   "outputs": [],
   "source": [
    "#  Get the indices of cities that have humidity over 100%.\n"
   ]
  },
  {
   "cell_type": "code",
   "execution_count": null,
   "metadata": {},
   "outputs": [],
   "source": [
    "# Make a new DataFrame equal to the city data to drop all humidity outliers by index.\n",
    "# Passing \"inplace=False\" will make a copy of the city_data DataFrame, which we call \"clean_city_data\".\n"
   ]
  },
  {
   "cell_type": "code",
   "execution_count": null,
   "metadata": {},
   "outputs": [],
   "source": [
    "\n"
   ]
  },
  {
   "cell_type": "markdown",
   "metadata": {},
   "source": [
    "## Plotting the Data\n",
    "* Use proper labeling of the plots using plot titles (including date of analysis) and axes labels.\n",
    "* Save the plotted figures as .pngs."
   ]
  },
  {
   "cell_type": "markdown",
   "metadata": {},
   "source": [
    "## Latitude vs. Temperature Plot"
   ]
  },
  {
   "cell_type": "code",
   "execution_count": null,
   "metadata": {
    "scrolled": true
   },
   "outputs": [],
   "source": []
  },
  {
   "cell_type": "markdown",
   "metadata": {},
   "source": [
    "## Latitude vs. Humidity Plot"
   ]
  },
  {
   "cell_type": "code",
   "execution_count": null,
   "metadata": {},
   "outputs": [],
   "source": []
  },
  {
   "cell_type": "markdown",
   "metadata": {},
   "source": [
    "## Latitude vs. Cloudiness Plot"
   ]
  },
  {
   "cell_type": "code",
   "execution_count": null,
   "metadata": {},
   "outputs": [],
   "source": []
  },
  {
   "cell_type": "markdown",
   "metadata": {},
   "source": [
    "## Latitude vs. Wind Speed Plot"
   ]
  },
  {
   "cell_type": "code",
   "execution_count": null,
   "metadata": {},
   "outputs": [],
   "source": []
  },
  {
   "cell_type": "markdown",
   "metadata": {},
   "source": [
    "## Linear Regression"
   ]
  },
  {
   "cell_type": "code",
   "execution_count": null,
   "metadata": {},
   "outputs": [],
   "source": []
  },
  {
   "cell_type": "markdown",
   "metadata": {},
   "source": [
    "####  Northern Hemisphere - Max Temp vs. Latitude Linear Regression"
   ]
  },
  {
   "cell_type": "code",
   "execution_count": null,
   "metadata": {},
   "outputs": [],
   "source": []
  },
  {
   "cell_type": "markdown",
   "metadata": {},
   "source": [
    "####  Southern Hemisphere - Max Temp vs. Latitude Linear Regression"
   ]
  },
  {
   "cell_type": "code",
   "execution_count": null,
   "metadata": {},
   "outputs": [],
   "source": []
  },
  {
   "cell_type": "markdown",
   "metadata": {},
   "source": [
    "####  Northern Hemisphere - Humidity (%) vs. Latitude Linear Regression"
   ]
  },
  {
   "cell_type": "code",
   "execution_count": null,
   "metadata": {},
   "outputs": [],
   "source": []
  },
  {
   "cell_type": "markdown",
   "metadata": {},
   "source": [
    "####  Southern Hemisphere - Humidity (%) vs. Latitude Linear Regression"
   ]
  },
  {
   "cell_type": "code",
   "execution_count": null,
   "metadata": {},
   "outputs": [],
   "source": []
  },
  {
   "cell_type": "markdown",
   "metadata": {},
   "source": [
    "####  Northern Hemisphere - Cloudiness (%) vs. Latitude Linear Regression"
   ]
  },
  {
   "cell_type": "code",
   "execution_count": null,
   "metadata": {},
   "outputs": [],
   "source": []
  },
  {
   "cell_type": "markdown",
   "metadata": {},
   "source": [
    "####  Southern Hemisphere - Cloudiness (%) vs. Latitude Linear Regression"
   ]
  },
  {
   "cell_type": "code",
   "execution_count": null,
   "metadata": {},
   "outputs": [],
   "source": []
  },
  {
   "cell_type": "markdown",
   "metadata": {},
   "source": [
    "####  Northern Hemisphere - Wind Speed (mph) vs. Latitude Linear Regression"
   ]
  },
  {
   "cell_type": "code",
   "execution_count": null,
   "metadata": {},
   "outputs": [],
   "source": []
  },
  {
   "cell_type": "markdown",
   "metadata": {},
   "source": [
    "####  Southern Hemisphere - Wind Speed (mph) vs. Latitude Linear Regression"
   ]
  },
  {
   "cell_type": "code",
   "execution_count": null,
   "metadata": {},
   "outputs": [],
   "source": []
  },
  {
   "cell_type": "code",
   "execution_count": null,
   "metadata": {},
   "outputs": [],
   "source": []
  }
 ],
 "metadata": {
  "anaconda-cloud": {},
  "kernel_info": {
   "name": "python3"
  },
  "kernelspec": {
   "name": "python385jvsc74a57bd0b75be9ad71603c40476c6c8216298ace4da278de65ecdbf5da31753ceef4d599",
   "display_name": "Python 3.8.5 64-bit ('base': conda)"
  },
  "language_info": {
   "codemirror_mode": {
    "name": "ipython",
    "version": 3
   },
   "file_extension": ".py",
   "mimetype": "text/x-python",
   "name": "python",
   "nbconvert_exporter": "python",
   "pygments_lexer": "ipython3",
   "version": "3.8.5"
  },
  "latex_envs": {
   "LaTeX_envs_menu_present": true,
   "autoclose": false,
   "autocomplete": true,
   "bibliofile": "biblio.bib",
   "cite_by": "apalike",
   "current_citInitial": 1,
   "eqLabelWithNumbers": true,
   "eqNumInitial": 1,
   "hotkeys": {
    "equation": "Ctrl-E",
    "itemize": "Ctrl-I"
   },
   "labels_anchors": false,
   "latex_user_defs": false,
   "report_style_numbering": false,
   "user_envs_cfg": false
  },
  "nteract": {
   "version": "0.12.3"
  }
 },
 "nbformat": 4,
 "nbformat_minor": 2
}