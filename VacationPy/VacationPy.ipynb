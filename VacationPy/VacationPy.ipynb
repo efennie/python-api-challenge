{
 "cells": [
  {
   "cell_type": "markdown",
   "metadata": {},
   "source": [
    "# VacationPy\n",
    "----\n",
    "\n",
    "#### Note\n",
    "* Keep an eye on your API usage. Use https://developers.google.com/maps/reporting/gmp-reporting as reference for how to monitor your usage and billing.\n",
    "\n",
    "* Instructions have been included for each segment. You do not have to follow them exactly, but they are included to help you think through the steps."
   ]
  },
  {
   "cell_type": "code",
   "execution_count": 98,
   "metadata": {},
   "outputs": [],
   "source": [
    "# Dependencies and Setup\n",
    "import matplotlib.pyplot as plt\n",
    "import pandas as pd\n",
    "import numpy as np\n",
    "import requests\n",
    "import gmaps\n",
    "import os\n",
    "import csv\n",
    "import json\n",
    "# Import API key\n",
    "from api_keys import g_key\n",
    "gmaps.configure(api_key=g_key)"
   ]
  },
  {
   "cell_type": "markdown",
   "metadata": {},
   "source": [
    "### Store Part I results into DataFrame\n",
    "* Load the csv exported in Part I to a DataFrame"
   ]
  },
  {
   "cell_type": "code",
   "execution_count": 99,
   "metadata": {},
   "outputs": [
    {
     "output_type": "execute_result",
     "data": {
      "text/plain": [
       "   Unnamed: 0          city  latitude  longitude  max_temperature  cloudiness  \\\n",
       "0           0  Punta Arenas  -53.1500   -70.9167            42.80           0   \n",
       "1           1         Praia   14.9215   -23.5087            69.80          75   \n",
       "2           2       Rikitea  -23.1203  -134.9692            78.66         100   \n",
       "3           3        Kuytun   54.3419   101.5036            43.41          97   \n",
       "4           4        Yining   29.0361   114.5636            61.52         100   \n",
       "\n",
       "   wind_speed  humidity country        date  \n",
       "0        3.44        75      CL  1619326413  \n",
       "1       12.66        73      CV  1619326413  \n",
       "2       12.82        76      PF  1619326414  \n",
       "3        8.70        55      RU  1619326414  \n",
       "4        3.71        91      CN  1619326414  "
      ],
      "text/html": "<div>\n<style scoped>\n    .dataframe tbody tr th:only-of-type {\n        vertical-align: middle;\n    }\n\n    .dataframe tbody tr th {\n        vertical-align: top;\n    }\n\n    .dataframe thead th {\n        text-align: right;\n    }\n</style>\n<table border=\"1\" class=\"dataframe\">\n  <thead>\n    <tr style=\"text-align: right;\">\n      <th></th>\n      <th>Unnamed: 0</th>\n      <th>city</th>\n      <th>latitude</th>\n      <th>longitude</th>\n      <th>max_temperature</th>\n      <th>cloudiness</th>\n      <th>wind_speed</th>\n      <th>humidity</th>\n      <th>country</th>\n      <th>date</th>\n    </tr>\n  </thead>\n  <tbody>\n    <tr>\n      <th>0</th>\n      <td>0</td>\n      <td>Punta Arenas</td>\n      <td>-53.1500</td>\n      <td>-70.9167</td>\n      <td>42.80</td>\n      <td>0</td>\n      <td>3.44</td>\n      <td>75</td>\n      <td>CL</td>\n      <td>1619326413</td>\n    </tr>\n    <tr>\n      <th>1</th>\n      <td>1</td>\n      <td>Praia</td>\n      <td>14.9215</td>\n      <td>-23.5087</td>\n      <td>69.80</td>\n      <td>75</td>\n      <td>12.66</td>\n      <td>73</td>\n      <td>CV</td>\n      <td>1619326413</td>\n    </tr>\n    <tr>\n      <th>2</th>\n      <td>2</td>\n      <td>Rikitea</td>\n      <td>-23.1203</td>\n      <td>-134.9692</td>\n      <td>78.66</td>\n      <td>100</td>\n      <td>12.82</td>\n      <td>76</td>\n      <td>PF</td>\n      <td>1619326414</td>\n    </tr>\n    <tr>\n      <th>3</th>\n      <td>3</td>\n      <td>Kuytun</td>\n      <td>54.3419</td>\n      <td>101.5036</td>\n      <td>43.41</td>\n      <td>97</td>\n      <td>8.70</td>\n      <td>55</td>\n      <td>RU</td>\n      <td>1619326414</td>\n    </tr>\n    <tr>\n      <th>4</th>\n      <td>4</td>\n      <td>Yining</td>\n      <td>29.0361</td>\n      <td>114.5636</td>\n      <td>61.52</td>\n      <td>100</td>\n      <td>3.71</td>\n      <td>91</td>\n      <td>CN</td>\n      <td>1619326414</td>\n    </tr>\n  </tbody>\n</table>\n</div>"
     },
     "metadata": {},
     "execution_count": 99
    }
   ],
   "source": [
    "csv_file = '/Users/bitty/python-api-challenge/python-api-challenge/WeatherPy/cities.csv'\n",
    "city_data = pd.read_csv(csv_file)\n",
    "city_data.head()\n"
   ]
  },
  {
   "cell_type": "markdown",
   "metadata": {},
   "source": [
    "### Humidity Heatmap\n",
    "* Configure gmaps.\n",
    "* Use the Lat and Lng as locations and Humidity as the weight.\n",
    "* Add Heatmap layer to map."
   ]
  },
  {
   "cell_type": "code",
   "execution_count": 100,
   "metadata": {},
   "outputs": [
    {
     "output_type": "display_data",
     "data": {
      "text/plain": "Figure(layout=FigureLayout(height='420px'))",
      "application/vnd.jupyter.widget-view+json": {
       "version_major": 2,
       "version_minor": 0,
       "model_id": "a9dab7266fee4da5ae0f42b025ca9d7a"
      }
     },
     "metadata": {}
    }
   ],
   "source": [
    "# Create a Heatmap layer\n",
    "\n",
    "locations = city_data[[\"latitude\", \"longitude\"]].astype(float)\n",
    "weights = city_data[\"humidity\"].astype(float)\n",
    "\n",
    "fig = gmaps.figure()\n",
    "\n",
    "heat_layer = gmaps.heatmap_layer(locations, weights=weights, \n",
    "                                 dissipating=False, max_intensity=100,\n",
    "                                 point_radius = 1)\n",
    "\n",
    "\n",
    "fig.add_layer(heat_layer)\n",
    "\n",
    "fig"
   ]
  },
  {
   "cell_type": "markdown",
   "metadata": {},
   "source": [
    "### Create new DataFrame fitting weather criteria\n",
    "* Narrow down the cities to fit weather conditions.\n",
    "* Drop any rows will null values."
   ]
  },
  {
   "cell_type": "code",
   "execution_count": 101,
   "metadata": {},
   "outputs": [
    {
     "output_type": "execute_result",
     "data": {
      "text/plain": [
       "     Unnamed: 0            city  latitude  longitude  max_temperature  \\\n",
       "0             0    Punta Arenas  -53.1500   -70.9167            42.80   \n",
       "1             1           Praia   14.9215   -23.5087            69.80   \n",
       "2             2         Rikitea  -23.1203  -134.9692            78.66   \n",
       "3             3          Kuytun   54.3419   101.5036            43.41   \n",
       "4             4          Yining   29.0361   114.5636            61.52   \n",
       "..          ...             ...       ...        ...              ...   \n",
       "579         579         Sawtell  -30.3833   153.1000            71.60   \n",
       "580         580      Portlethen   57.0547    -2.1307            32.00   \n",
       "581         581        Balkhash   46.8440    74.9804            48.20   \n",
       "582         582       Boyolangu   -8.1181   111.8935            85.26   \n",
       "583         583  Manjakandriana  -18.9167    47.8000            64.40   \n",
       "\n",
       "     cloudiness  wind_speed  humidity country        date  \n",
       "0             0        3.44        75      CL  1619326413  \n",
       "1            75       12.66        73      CV  1619326413  \n",
       "2           100       12.82        76      PF  1619326414  \n",
       "3            97        8.70        55      RU  1619326414  \n",
       "4           100        3.71        91      CN  1619326414  \n",
       "..          ...         ...       ...     ...         ...  \n",
       "579           3       10.36        64      AU  1619326640  \n",
       "580         100        1.14       100      GB  1619326640  \n",
       "581           0       29.08        34      KZ  1619326641  \n",
       "582          12        6.67        64      ID  1619326641  \n",
       "583          75        5.75        82      MG  1619326642  \n",
       "\n",
       "[579 rows x 10 columns]"
      ],
      "text/html": "<div>\n<style scoped>\n    .dataframe tbody tr th:only-of-type {\n        vertical-align: middle;\n    }\n\n    .dataframe tbody tr th {\n        vertical-align: top;\n    }\n\n    .dataframe thead th {\n        text-align: right;\n    }\n</style>\n<table border=\"1\" class=\"dataframe\">\n  <thead>\n    <tr style=\"text-align: right;\">\n      <th></th>\n      <th>Unnamed: 0</th>\n      <th>city</th>\n      <th>latitude</th>\n      <th>longitude</th>\n      <th>max_temperature</th>\n      <th>cloudiness</th>\n      <th>wind_speed</th>\n      <th>humidity</th>\n      <th>country</th>\n      <th>date</th>\n    </tr>\n  </thead>\n  <tbody>\n    <tr>\n      <th>0</th>\n      <td>0</td>\n      <td>Punta Arenas</td>\n      <td>-53.1500</td>\n      <td>-70.9167</td>\n      <td>42.80</td>\n      <td>0</td>\n      <td>3.44</td>\n      <td>75</td>\n      <td>CL</td>\n      <td>1619326413</td>\n    </tr>\n    <tr>\n      <th>1</th>\n      <td>1</td>\n      <td>Praia</td>\n      <td>14.9215</td>\n      <td>-23.5087</td>\n      <td>69.80</td>\n      <td>75</td>\n      <td>12.66</td>\n      <td>73</td>\n      <td>CV</td>\n      <td>1619326413</td>\n    </tr>\n    <tr>\n      <th>2</th>\n      <td>2</td>\n      <td>Rikitea</td>\n      <td>-23.1203</td>\n      <td>-134.9692</td>\n      <td>78.66</td>\n      <td>100</td>\n      <td>12.82</td>\n      <td>76</td>\n      <td>PF</td>\n      <td>1619326414</td>\n    </tr>\n    <tr>\n      <th>3</th>\n      <td>3</td>\n      <td>Kuytun</td>\n      <td>54.3419</td>\n      <td>101.5036</td>\n      <td>43.41</td>\n      <td>97</td>\n      <td>8.70</td>\n      <td>55</td>\n      <td>RU</td>\n      <td>1619326414</td>\n    </tr>\n    <tr>\n      <th>4</th>\n      <td>4</td>\n      <td>Yining</td>\n      <td>29.0361</td>\n      <td>114.5636</td>\n      <td>61.52</td>\n      <td>100</td>\n      <td>3.71</td>\n      <td>91</td>\n      <td>CN</td>\n      <td>1619326414</td>\n    </tr>\n    <tr>\n      <th>...</th>\n      <td>...</td>\n      <td>...</td>\n      <td>...</td>\n      <td>...</td>\n      <td>...</td>\n      <td>...</td>\n      <td>...</td>\n      <td>...</td>\n      <td>...</td>\n      <td>...</td>\n    </tr>\n    <tr>\n      <th>579</th>\n      <td>579</td>\n      <td>Sawtell</td>\n      <td>-30.3833</td>\n      <td>153.1000</td>\n      <td>71.60</td>\n      <td>3</td>\n      <td>10.36</td>\n      <td>64</td>\n      <td>AU</td>\n      <td>1619326640</td>\n    </tr>\n    <tr>\n      <th>580</th>\n      <td>580</td>\n      <td>Portlethen</td>\n      <td>57.0547</td>\n      <td>-2.1307</td>\n      <td>32.00</td>\n      <td>100</td>\n      <td>1.14</td>\n      <td>100</td>\n      <td>GB</td>\n      <td>1619326640</td>\n    </tr>\n    <tr>\n      <th>581</th>\n      <td>581</td>\n      <td>Balkhash</td>\n      <td>46.8440</td>\n      <td>74.9804</td>\n      <td>48.20</td>\n      <td>0</td>\n      <td>29.08</td>\n      <td>34</td>\n      <td>KZ</td>\n      <td>1619326641</td>\n    </tr>\n    <tr>\n      <th>582</th>\n      <td>582</td>\n      <td>Boyolangu</td>\n      <td>-8.1181</td>\n      <td>111.8935</td>\n      <td>85.26</td>\n      <td>12</td>\n      <td>6.67</td>\n      <td>64</td>\n      <td>ID</td>\n      <td>1619326641</td>\n    </tr>\n    <tr>\n      <th>583</th>\n      <td>583</td>\n      <td>Manjakandriana</td>\n      <td>-18.9167</td>\n      <td>47.8000</td>\n      <td>64.40</td>\n      <td>75</td>\n      <td>5.75</td>\n      <td>82</td>\n      <td>MG</td>\n      <td>1619326642</td>\n    </tr>\n  </tbody>\n</table>\n<p>579 rows × 10 columns</p>\n</div>"
     },
     "metadata": {},
     "execution_count": 101
    }
   ],
   "source": [
    "#dropping rows with missing info\n",
    "city_data.head()\n",
    "city_data = city_data.dropna(how='any')\n",
    "city_data"
   ]
  },
  {
   "cell_type": "code",
   "execution_count": 102,
   "metadata": {},
   "outputs": [
    {
     "output_type": "execute_result",
     "data": {
      "text/plain": [
       "     Unnamed: 0       city  latitude  longitude  max_temperature  cloudiness  \\\n",
       "197         197  Caravelas  -17.7125   -39.2481            73.00           0   \n",
       "323         323    Pitimbu   -7.4706   -34.8086            73.40           0   \n",
       "362         362   Sakaraha  -22.9000    44.5333            71.33           0   \n",
       "448         448      Prado  -17.3411   -39.2208            73.60           0   \n",
       "\n",
       "     wind_speed  humidity country        date  \n",
       "197        4.76        90      BR  1619326490  \n",
       "323        4.61       100      BR  1619326540  \n",
       "362        3.89        67      MG  1619326556  \n",
       "448        5.95        89      BR  1619326588  "
      ],
      "text/html": "<div>\n<style scoped>\n    .dataframe tbody tr th:only-of-type {\n        vertical-align: middle;\n    }\n\n    .dataframe tbody tr th {\n        vertical-align: top;\n    }\n\n    .dataframe thead th {\n        text-align: right;\n    }\n</style>\n<table border=\"1\" class=\"dataframe\">\n  <thead>\n    <tr style=\"text-align: right;\">\n      <th></th>\n      <th>Unnamed: 0</th>\n      <th>city</th>\n      <th>latitude</th>\n      <th>longitude</th>\n      <th>max_temperature</th>\n      <th>cloudiness</th>\n      <th>wind_speed</th>\n      <th>humidity</th>\n      <th>country</th>\n      <th>date</th>\n    </tr>\n  </thead>\n  <tbody>\n    <tr>\n      <th>197</th>\n      <td>197</td>\n      <td>Caravelas</td>\n      <td>-17.7125</td>\n      <td>-39.2481</td>\n      <td>73.00</td>\n      <td>0</td>\n      <td>4.76</td>\n      <td>90</td>\n      <td>BR</td>\n      <td>1619326490</td>\n    </tr>\n    <tr>\n      <th>323</th>\n      <td>323</td>\n      <td>Pitimbu</td>\n      <td>-7.4706</td>\n      <td>-34.8086</td>\n      <td>73.40</td>\n      <td>0</td>\n      <td>4.61</td>\n      <td>100</td>\n      <td>BR</td>\n      <td>1619326540</td>\n    </tr>\n    <tr>\n      <th>362</th>\n      <td>362</td>\n      <td>Sakaraha</td>\n      <td>-22.9000</td>\n      <td>44.5333</td>\n      <td>71.33</td>\n      <td>0</td>\n      <td>3.89</td>\n      <td>67</td>\n      <td>MG</td>\n      <td>1619326556</td>\n    </tr>\n    <tr>\n      <th>448</th>\n      <td>448</td>\n      <td>Prado</td>\n      <td>-17.3411</td>\n      <td>-39.2208</td>\n      <td>73.60</td>\n      <td>0</td>\n      <td>5.95</td>\n      <td>89</td>\n      <td>BR</td>\n      <td>1619326588</td>\n    </tr>\n  </tbody>\n</table>\n</div>"
     },
     "metadata": {},
     "execution_count": 102
    }
   ],
   "source": [
    "#using loc to pull rows with ideal weather conditions\n",
    "#conditions:\n",
    "    #A max temperature lower than 80 degrees but higher than 70.\n",
    "    #Wind speed less than 10 mph.\n",
    "    #Zero cloudiness.\n",
    "ideal_weather = city_data.loc[city_data['max_temperature'] > 70, :] \n",
    "ideal_weather = ideal_weather.loc[ideal_weather['max_temperature'] < 80, :]\n",
    "ideal_weather = ideal_weather.loc[ideal_weather['wind_speed'] < 10, :]\n",
    "ideal_weather = ideal_weather.loc[ideal_weather['cloudiness'] == 0, :]\n",
    "ideal_weather"
   ]
  },
  {
   "cell_type": "markdown",
   "metadata": {},
   "source": [
    "### Hotel Map\n",
    "* Store into variable named `hotel_df`.\n",
    "* Add a \"Hotel Name\" column to the DataFrame.\n",
    "* Set parameters to search for hotels with 5000 meters.\n",
    "* Hit the Google Places API for each city's coordinates.\n",
    "* Store the first Hotel result into the DataFrame.\n",
    "* Plot markers on top of the heatmap."
   ]
  },
  {
   "cell_type": "code",
   "execution_count": 112,
   "metadata": {},
   "outputs": [
    {
     "output_type": "execute_result",
     "data": {
      "text/plain": [
       "     Unnamed: 0       city  latitude  longitude  max_temperature  cloudiness  \\\n",
       "197         197  Caravelas  -17.7125   -39.2481            73.00           0   \n",
       "323         323    Pitimbu   -7.4706   -34.8086            73.40           0   \n",
       "362         362   Sakaraha  -22.9000    44.5333            71.33           0   \n",
       "448         448      Prado  -17.3411   -39.2208            73.60           0   \n",
       "\n",
       "     wind_speed  humidity country        date hotel name  \n",
       "197        4.76        90      BR  1619326490             \n",
       "323        4.61       100      BR  1619326540             \n",
       "362        3.89        67      MG  1619326556             \n",
       "448        5.95        89      BR  1619326588             "
      ],
      "text/html": "<div>\n<style scoped>\n    .dataframe tbody tr th:only-of-type {\n        vertical-align: middle;\n    }\n\n    .dataframe tbody tr th {\n        vertical-align: top;\n    }\n\n    .dataframe thead th {\n        text-align: right;\n    }\n</style>\n<table border=\"1\" class=\"dataframe\">\n  <thead>\n    <tr style=\"text-align: right;\">\n      <th></th>\n      <th>Unnamed: 0</th>\n      <th>city</th>\n      <th>latitude</th>\n      <th>longitude</th>\n      <th>max_temperature</th>\n      <th>cloudiness</th>\n      <th>wind_speed</th>\n      <th>humidity</th>\n      <th>country</th>\n      <th>date</th>\n      <th>hotel name</th>\n    </tr>\n  </thead>\n  <tbody>\n    <tr>\n      <th>197</th>\n      <td>197</td>\n      <td>Caravelas</td>\n      <td>-17.7125</td>\n      <td>-39.2481</td>\n      <td>73.00</td>\n      <td>0</td>\n      <td>4.76</td>\n      <td>90</td>\n      <td>BR</td>\n      <td>1619326490</td>\n      <td></td>\n    </tr>\n    <tr>\n      <th>323</th>\n      <td>323</td>\n      <td>Pitimbu</td>\n      <td>-7.4706</td>\n      <td>-34.8086</td>\n      <td>73.40</td>\n      <td>0</td>\n      <td>4.61</td>\n      <td>100</td>\n      <td>BR</td>\n      <td>1619326540</td>\n      <td></td>\n    </tr>\n    <tr>\n      <th>362</th>\n      <td>362</td>\n      <td>Sakaraha</td>\n      <td>-22.9000</td>\n      <td>44.5333</td>\n      <td>71.33</td>\n      <td>0</td>\n      <td>3.89</td>\n      <td>67</td>\n      <td>MG</td>\n      <td>1619326556</td>\n      <td></td>\n    </tr>\n    <tr>\n      <th>448</th>\n      <td>448</td>\n      <td>Prado</td>\n      <td>-17.3411</td>\n      <td>-39.2208</td>\n      <td>73.60</td>\n      <td>0</td>\n      <td>5.95</td>\n      <td>89</td>\n      <td>BR</td>\n      <td>1619326588</td>\n      <td></td>\n    </tr>\n  </tbody>\n</table>\n</div>"
     },
     "metadata": {},
     "execution_count": 112
    }
   ],
   "source": [
    "#create a dataframe for only ideal weather locations, add hotel name column\n",
    "hotel_df = pd.DataFrame(ideal_weather)\n",
    "hotel_df['hotel name'] = ''\n",
    "hotel_df"
   ]
  },
  {
   "cell_type": "code",
   "execution_count": 113,
   "metadata": {},
   "outputs": [
    {
     "output_type": "stream",
     "name": "stdout",
     "text": [
      "{\n    \"html_attributions\": [],\n    \"results\": [\n        {\n            \"business_status\": \"OPERATIONAL\",\n            \"geometry\": {\n                \"location\": {\n                    \"lat\": -17.7431944,\n                    \"lng\": -39.24093329999999\n                },\n                \"viewport\": {\n                    \"northeast\": {\n                        \"lat\": -17.74181127010728,\n                        \"lng\": -39.23957242010727\n                    },\n                    \"southwest\": {\n                        \"lat\": -17.74451092989273,\n                        \"lng\": -39.24227207989272\n                    }\n                }\n            },\n            \"icon\": \"https://maps.gstatic.com/mapfiles/place_api/icons/v1/png_71/generic_business-71.png\",\n            \"name\": \"Mar Doce de Abrolhos\",\n            \"opening_hours\": {\n                \"open_now\": false\n            },\n            \"photos\": [\n                {\n                    \"height\": 2012,\n                    \"html_attributions\": [\n                        \"<a href=\\\"https://maps.google.com/maps/contrib/102086221268556117419\\\">A Google User</a>\"\n                    ],\n                    \"photo_reference\": \"ATtYBwI1uXPPqWyzKxPuoMfO9LTHn6vWyO4R8qN3kQpZ9OYYijJEZLSm6FfT_Cy40PRQl055VGHD_i15lYmm9nLH7BVty88q7tm6sr5JeIjpo8HWjlm38lk4xXYNy9l2bT74j4tGDT9HXXRryjdjNqknsDBR9EoyJJsuQ67dAn5iiMgJm12f\",\n                    \"width\": 1965\n                }\n            ],\n            \"place_id\": \"ChIJI1JMq0vXNAcRmKk8FltpJM0\",\n            \"plus_code\": {\n                \"compound_code\": \"7Q45+PJ Caravelas, State of Bahia, Brazil\",\n                \"global_code\": \"59J27Q45+PJ\"\n            },\n            \"rating\": 4.7,\n            \"reference\": \"ChIJI1JMq0vXNAcRmKk8FltpJM0\",\n            \"scope\": \"GOOGLE\",\n            \"types\": [\n                \"lodging\",\n                \"point_of_interest\",\n                \"establishment\"\n            ],\n            \"user_ratings_total\": 17,\n            \"vicinity\": \"Estr. p/ Barra de Caravelas, 1632, Caravelas\"\n        },\n        {\n            \"business_status\": \"OPERATIONAL\",\n            \"geometry\": {\n                \"location\": {\n                    \"lat\": -17.7380161,\n                    \"lng\": -39.25800020000001\n                },\n                \"viewport\": {\n                    \"northeast\": {\n                        \"lat\": -17.73669392010728,\n                        \"lng\": -39.25665917010728\n                    },\n                    \"southwest\": {\n                        \"lat\": -17.73939357989272,\n                        \"lng\": -39.25935882989272\n                    }\n                }\n            },\n            \"icon\": \"https://maps.gstatic.com/mapfiles/place_api/icons/v1/png_71/lodging-71.png\",\n            \"name\": \"Pousada Encanto Abrolhos\",\n            \"photos\": [\n                {\n                    \"height\": 2322,\n                    \"html_attributions\": [\n                        \"<a href=\\\"https://maps.google.com/maps/contrib/105706485672688623006\\\">Edriano Souza Guia de Ecoturismo</a>\"\n                    ],\n                    \"photo_reference\": \"ATtYBwJd7WDkvQLyVHTo9aczLCjGxNnU1ib2miuh00Er6obITyDiLC0zW2Tq05tza_m0z-jb4N6zdI4AwXUJ8lp8XNgj6A2T1hIWb8BRYLaak6PUMLp8U2gCzuyBQ2VvPtEWnEnGcymo8oOS3ZDXURcYazIDVOpGlN47KgAwnKinYdrfmoeD\",\n                    \"width\": 4128\n                }\n            ],\n            \"place_id\": \"ChIJ51eRJe7ZNAcRELF7pdeMsdw\",\n            \"plus_code\": {\n                \"compound_code\": \"7P6R+QQ Caravelas, State of Bahia, Brazil\",\n                \"global_code\": \"59J27P6R+QQ\"\n            },\n            \"rating\": 3.7,\n            \"reference\": \"ChIJ51eRJe7ZNAcRELF7pdeMsdw\",\n            \"scope\": \"GOOGLE\",\n            \"types\": [\n                \"lodging\",\n                \"point_of_interest\",\n                \"establishment\"\n            ],\n            \"user_ratings_total\": 78,\n            \"vicinity\": \"Avenida Ministro Adal\\u00edcio Nogueira 115, Caravelas\"\n        },\n        {\n            \"business_status\": \"OPERATIONAL\",\n            \"geometry\": {\n                \"location\": {\n                    \"lat\": -17.7349281,\n                    \"lng\": -39.2646708\n                },\n                \"viewport\": {\n                    \"northeast\": {\n                        \"lat\": -17.73373872010728,\n                        \"lng\": -39.26349857010728\n                    },\n                    \"southwest\": {\n                        \"lat\": -17.73643837989272,\n                        \"lng\": -39.26619822989272\n                    }\n                }\n            },\n            \"icon\": \"https://maps.gstatic.com/mapfiles/place_api/icons/v1/png_71/lodging-71.png\",\n            \"name\": \"Pousada do Beco Shangri-La\",\n            \"photos\": [\n                {\n                    \"height\": 2340,\n                    \"html_attributions\": [\n                        \"<a href=\\\"https://maps.google.com/maps/contrib/116254233089608536311\\\">Eduardo Segatto</a>\"\n                    ],\n                    \"photo_reference\": \"ATtYBwLBWxZrBOsTSg_aw40_5o-MBl3rgeNLVPNchtWfxPURe8DNPocTwu1Iadf-SL4xG3scGCFtW9Lt-EHmEVTlQabslEfornMuWPCJBlG1L3Zq-a4YmJOR6DJhZ0qLzRbTvjG-WbRywH1w-pT9WLJgzeFTvN_y7UAHifqldgY8XRlS9pam\",\n                    \"width\": 4160\n                }\n            ],\n            \"place_id\": \"ChIJ51eRJe7ZNAcRj1k7zDN9mPs\",\n            \"plus_code\": {\n                \"compound_code\": \"7P8P+24 Caravelas, State of Bahia, Brazil\",\n                \"global_code\": \"59J27P8P+24\"\n            },\n            \"rating\": 3.9,\n            \"reference\": \"ChIJ51eRJe7ZNAcRj1k7zDN9mPs\",\n            \"scope\": \"GOOGLE\",\n            \"types\": [\n                \"lodging\",\n                \"point_of_interest\",\n                \"establishment\"\n            ],\n            \"user_ratings_total\": 53,\n            \"vicinity\": \"R. Sete de Setembro, 219, Caravelas\"\n        },\n        {\n            \"business_status\": \"OPERATIONAL\",\n            \"geometry\": {\n                \"location\": {\n                    \"lat\": -17.7379707,\n                    \"lng\": -39.2589096\n                },\n                \"viewport\": {\n                    \"northeast\": {\n                        \"lat\": -17.73654807010728,\n                        \"lng\": -39.25753737010727\n                    },\n                    \"southwest\": {\n                        \"lat\": -17.73924772989272,\n                        \"lng\": -39.26023702989271\n                    }\n                }\n            },\n            \"icon\": \"https://maps.gstatic.com/mapfiles/place_api/icons/v1/png_71/lodging-71.png\",\n            \"name\": \"Pousada dos Navegantes\",\n            \"photos\": [\n                {\n                    \"height\": 960,\n                    \"html_attributions\": [\n                        \"<a href=\\\"https://maps.google.com/maps/contrib/110604417840892784095\\\">Nal Rocha</a>\"\n                    ],\n                    \"photo_reference\": \"ATtYBwKN5aSmXd2p3HFKAYJhvyr5x716jGzlpzte31oleJCrelCs5oxjVnwmpr6b4ugQvFIB4LhApuAnc3Sz6s-omieAqCr99SrCvCp0Hw2Mc05i-JOxX227HFWyp5vNhyakU6k0Vvfr1fgjK2YFJ2Qiv22Bp-a-9uzrtjMfRiw-Bx_voB_o\",\n                    \"width\": 1280\n                }\n            ],\n            \"place_id\": \"ChIJVVgc5WnXNAcRLGgmGSFNxr0\",\n            \"plus_code\": {\n                \"compound_code\": \"7P6R+RC Caravelas, State of Bahia, Brazil\",\n                \"global_code\": \"59J27P6R+RC\"\n            },\n            \"rating\": 3.5,\n            \"reference\": \"ChIJVVgc5WnXNAcRLGgmGSFNxr0\",\n            \"scope\": \"GOOGLE\",\n            \"types\": [\n                \"lodging\",\n                \"point_of_interest\",\n                \"establishment\"\n            ],\n            \"user_ratings_total\": 144,\n            \"vicinity\": \"R. das Palmeiras, 45, Caravelas\"\n        },\n        {\n            \"business_status\": \"OPERATIONAL\",\n            \"geometry\": {\n                \"location\": {\n                    \"lat\": -17.7410855,\n                    \"lng\": -39.2459705\n                },\n                \"viewport\": {\n                    \"northeast\": {\n                        \"lat\": -17.73978972010728,\n                        \"lng\": -39.24438227010728\n                    },\n                    \"southwest\": {\n                        \"lat\": -17.74248937989272,\n                        \"lng\": -39.24708192989272\n                    }\n                }\n            },\n            \"icon\": \"https://maps.gstatic.com/mapfiles/place_api/icons/v1/png_71/lodging-71.png\",\n            \"name\": \"Pousada Liberdade\",\n            \"photos\": [\n                {\n                    \"height\": 3456,\n                    \"html_attributions\": [\n                        \"<a href=\\\"https://maps.google.com/maps/contrib/107059790399652216887\\\">amd</a>\"\n                    ],\n                    \"photo_reference\": \"ATtYBwKwZC9YVbnxYPsxxt--mrOneAIPg7WRwYY8OuYyYfPJjIhOzXEn48dcIyliiDkDp0piQXfudsw6hgQJWUnhQ7ZGDhDxOfN4ArGl7fHGHBI8SA0FFNDHtU8IioituyFE07C-oLy98ipo-tcnsCab6BD4piL87J6eZBegawsUns9PAvZ7\",\n                    \"width\": 4608\n                }\n            ],\n            \"place_id\": \"ChIJXcW1LU_XNAcRG4x6mdMStYg\",\n            \"plus_code\": {\n                \"compound_code\": \"7Q53+HJ Caravelas, State of Bahia, Brazil\",\n                \"global_code\": \"59J27Q53+HJ\"\n            },\n            \"rating\": 4.3,\n            \"reference\": \"ChIJXcW1LU_XNAcRG4x6mdMStYg\",\n            \"scope\": \"GOOGLE\",\n            \"types\": [\n                \"lodging\",\n                \"point_of_interest\",\n                \"establishment\"\n            ],\n            \"user_ratings_total\": 142,\n            \"vicinity\": \"Av. Ministro Adal\\u00edcio Nogueira, 1551 - Tancredo Neves, Caravelas\"\n        }\n    ],\n    \"status\": \"OK\"\n}\nMar Doce de Abrolhos\n"
     ]
    }
   ],
   "source": [
    "# base url\n",
    "base_url = \"https://maps.googleapis.com/maps/api/place/nearbysearch/json\"\n",
    "\n",
    "locations = \"-17.7125, -39.2481\"\n",
    "target_search = \"Hotels\"\n",
    "target_radius = 5000\n",
    "hotel_names = []\n",
    "# create parameters dictionary to use\n",
    "params = {\n",
    "    \"location\": locations,\n",
    "    \"keyword\": target_search,\n",
    "    \"radius\": target_radius,\n",
    "    \"key\": g_key\n",
    "}\n",
    "\n",
    "# run a request using our params dictionary\n",
    "response = requests.get(base_url, params=params).json()\n",
    "\n",
    "# Print the json (pretty printed)\n",
    "print(json.dumps(response, indent=4, sort_keys=True))\n",
    "name = response['results'][0]['name']\n",
    "hotel_df.iloc[0,10] = name\n",
    "hotel_names.append(name)\n",
    "print(name)"
   ]
  },
  {
   "cell_type": "code",
   "execution_count": 114,
   "metadata": {},
   "outputs": [
    {
     "output_type": "execute_result",
     "data": {
      "text/plain": [
       "     Unnamed: 0       city  latitude  longitude  max_temperature  cloudiness  \\\n",
       "197         197  Caravelas  -17.7125   -39.2481            73.00           0   \n",
       "323         323    Pitimbu   -7.4706   -34.8086            73.40           0   \n",
       "362         362   Sakaraha  -22.9000    44.5333            71.33           0   \n",
       "448         448      Prado  -17.3411   -39.2208            73.60           0   \n",
       "\n",
       "     wind_speed  humidity country        date            hotel name  \n",
       "197        4.76        90      BR  1619326490  Mar Doce de Abrolhos  \n",
       "323        4.61       100      BR  1619326540                        \n",
       "362        3.89        67      MG  1619326556                        \n",
       "448        5.95        89      BR  1619326588                        "
      ],
      "text/html": "<div>\n<style scoped>\n    .dataframe tbody tr th:only-of-type {\n        vertical-align: middle;\n    }\n\n    .dataframe tbody tr th {\n        vertical-align: top;\n    }\n\n    .dataframe thead th {\n        text-align: right;\n    }\n</style>\n<table border=\"1\" class=\"dataframe\">\n  <thead>\n    <tr style=\"text-align: right;\">\n      <th></th>\n      <th>Unnamed: 0</th>\n      <th>city</th>\n      <th>latitude</th>\n      <th>longitude</th>\n      <th>max_temperature</th>\n      <th>cloudiness</th>\n      <th>wind_speed</th>\n      <th>humidity</th>\n      <th>country</th>\n      <th>date</th>\n      <th>hotel name</th>\n    </tr>\n  </thead>\n  <tbody>\n    <tr>\n      <th>197</th>\n      <td>197</td>\n      <td>Caravelas</td>\n      <td>-17.7125</td>\n      <td>-39.2481</td>\n      <td>73.00</td>\n      <td>0</td>\n      <td>4.76</td>\n      <td>90</td>\n      <td>BR</td>\n      <td>1619326490</td>\n      <td>Mar Doce de Abrolhos</td>\n    </tr>\n    <tr>\n      <th>323</th>\n      <td>323</td>\n      <td>Pitimbu</td>\n      <td>-7.4706</td>\n      <td>-34.8086</td>\n      <td>73.40</td>\n      <td>0</td>\n      <td>4.61</td>\n      <td>100</td>\n      <td>BR</td>\n      <td>1619326540</td>\n      <td></td>\n    </tr>\n    <tr>\n      <th>362</th>\n      <td>362</td>\n      <td>Sakaraha</td>\n      <td>-22.9000</td>\n      <td>44.5333</td>\n      <td>71.33</td>\n      <td>0</td>\n      <td>3.89</td>\n      <td>67</td>\n      <td>MG</td>\n      <td>1619326556</td>\n      <td></td>\n    </tr>\n    <tr>\n      <th>448</th>\n      <td>448</td>\n      <td>Prado</td>\n      <td>-17.3411</td>\n      <td>-39.2208</td>\n      <td>73.60</td>\n      <td>0</td>\n      <td>5.95</td>\n      <td>89</td>\n      <td>BR</td>\n      <td>1619326588</td>\n      <td></td>\n    </tr>\n  </tbody>\n</table>\n</div>"
     },
     "metadata": {},
     "execution_count": 114
    }
   ],
   "source": [
    "hotel_df"
   ]
  },
  {
   "cell_type": "code",
   "execution_count": 115,
   "metadata": {
    "tags": []
   },
   "outputs": [
    {
     "output_type": "stream",
     "name": "stdout",
     "text": [
      "{\n    \"html_attributions\": [],\n    \"results\": [\n        {\n            \"business_status\": \"OPERATIONAL\",\n            \"geometry\": {\n                \"location\": {\n                    \"lat\": -7.444311599999999,\n                    \"lng\": -34.8123435\n                },\n                \"viewport\": {\n                    \"northeast\": {\n                        \"lat\": -7.443322170107279,\n                        \"lng\": -34.81125292010727\n                    },\n                    \"southwest\": {\n                        \"lat\": -7.446021829892723,\n                        \"lng\": -34.81395257989272\n                    }\n                }\n            },\n            \"icon\": \"https://maps.gstatic.com/mapfiles/place_api/icons/v1/png_71/lodging-71.png\",\n            \"name\": \"Asenza Beach Resort\",\n            \"opening_hours\": {\n                \"open_now\": true\n            },\n            \"photos\": [\n                {\n                    \"height\": 6936,\n                    \"html_attributions\": [\n                        \"<a href=\\\"https://maps.google.com/maps/contrib/114908169107510391633\\\">Rose Loka</a>\"\n                    ],\n                    \"photo_reference\": \"ATtYBwIMrpXTYFL3JhUp11sG6FVrn-NyrOb2-LpgKAb4RGDgoSvvt5xMculJ2aiGcebg0O3YnGcu8pRWXeZm4P0y47Vrv9OAo4zHYiFsXe7e2ereWgZgnzoa815mK0ofNtzq4v3Dkr-31-w4YlFEHMrklhaX7OlUXVyUgr7AYg44vpk314sU\",\n                    \"width\": 9248\n                }\n            ],\n            \"place_id\": \"ChIJreQkmdCjrAcRG7R3UCBJYkY\",\n            \"plus_code\": {\n                \"compound_code\": \"H54Q+73 Pitimbu, State of Para\\u00edba, Brazil\",\n                \"global_code\": \"6947H54Q+73\"\n            },\n            \"rating\": 4.7,\n            \"reference\": \"ChIJreQkmdCjrAcRG7R3UCBJYkY\",\n            \"scope\": \"GOOGLE\",\n            \"types\": [\n                \"lodging\",\n                \"point_of_interest\",\n                \"establishment\"\n            ],\n            \"user_ratings_total\": 19,\n            \"vicinity\": \"Reserva do Abia\\u00ed Barra do Abia\\u00ed \\u00b7 Faz. Cabe\\u00e7a s/n, Pitimbu\"\n        },\n        {\n            \"business_status\": \"OPERATIONAL\",\n            \"geometry\": {\n                \"location\": {\n                    \"lat\": -7.476865099999999,\n                    \"lng\": -34.8110567\n                },\n                \"viewport\": {\n                    \"northeast\": {\n                        \"lat\": -7.475524920107278,\n                        \"lng\": -34.80969387010728\n                    },\n                    \"southwest\": {\n                        \"lat\": -7.478224579892721,\n                        \"lng\": -34.81239352989272\n                    }\n                }\n            },\n            \"icon\": \"https://maps.gstatic.com/mapfiles/place_api/icons/v1/png_71/lodging-71.png\",\n            \"name\": \"Pousada O Nativo\",\n            \"photos\": [\n                {\n                    \"height\": 2322,\n                    \"html_attributions\": [\n                        \"<a href=\\\"https://maps.google.com/maps/contrib/116546794208893873869\\\">A Google User</a>\"\n                    ],\n                    \"photo_reference\": \"ATtYBwKittXdb4EReE4h49qmXsKx_p4_ckhZQ3eBUPjcUBlhZfbyEb4CuyxsaJOZbuaz_LH66xdJEIxiTKDwc3Z2NepLJ6guS2VM9DKzCSCj4HjlqJdgTMDteM2kh0FL3mDpnXpgRCCXQ0nvUaSkBLwYElM1fSrCzLUyCT9a1lZD37JFYy6o\",\n                    \"width\": 4128\n                }\n            ],\n            \"place_id\": \"ChIJTR-PCsmjrAcRFXqQLDIFtiM\",\n            \"plus_code\": {\n                \"compound_code\": \"G5FQ+7H Pitimbu, State of Para\\u00edba, Brazil\",\n                \"global_code\": \"6947G5FQ+7H\"\n            },\n            \"rating\": 4.2,\n            \"reference\": \"ChIJTR-PCsmjrAcRFXqQLDIFtiM\",\n            \"scope\": \"GOOGLE\",\n            \"types\": [\n                \"lodging\",\n                \"point_of_interest\",\n                \"establishment\"\n            ],\n            \"user_ratings_total\": 77,\n            \"vicinity\": \"R. Ant\\u00f4nio Tav\\u00e1res, 80, Pitimbu\"\n        }\n    ],\n    \"status\": \"OK\"\n}\nAsenza Beach Resort\n"
     ]
    }
   ],
   "source": [
    "#second location \n",
    "\n",
    "# base url\n",
    "base_url = \"https://maps.googleapis.com/maps/api/place/nearbysearch/json\"\n",
    "\n",
    "locations = \"-7.4706, -34.8086\" \n",
    "target_search = \"Hotels\"\n",
    "target_radius = 5000\n",
    "hotel_names = []\n",
    "# create parameters dictionary to use\n",
    "params = {\n",
    "    \"location\": locations,\n",
    "    \"keyword\": target_search,\n",
    "    \"radius\": target_radius,\n",
    "    \"key\": g_key\n",
    "}\n",
    "\n",
    "# run a request using our params dictionary\n",
    "response = requests.get(base_url, params=params).json()\n",
    "\n",
    "# Print the json (pretty printed)\n",
    "print(json.dumps(response, indent=4, sort_keys=True))\n",
    "name = response['results'][0]['name']\n",
    "hotel_df.iloc[1,10] = name\n",
    "hotel_names.append(name)\n",
    "print(name)"
   ]
  },
  {
   "cell_type": "code",
   "execution_count": 116,
   "metadata": {},
   "outputs": [
    {
     "output_type": "stream",
     "name": "stdout",
     "text": [
      "{\n    \"html_attributions\": [],\n    \"results\": [\n        {\n            \"business_status\": \"OPERATIONAL\",\n            \"geometry\": {\n                \"location\": {\n                    \"lat\": -22.9127983,\n                    \"lng\": 44.53882\n                },\n                \"viewport\": {\n                    \"northeast\": {\n                        \"lat\": -22.91140727010728,\n                        \"lng\": 44.54018077989272\n                    },\n                    \"southwest\": {\n                        \"lat\": -22.91410692989272,\n                        \"lng\": 44.53748112010728\n                    }\n                }\n            },\n            \"icon\": \"https://maps.gstatic.com/mapfiles/place_api/icons/v1/png_71/lodging-71.png\",\n            \"name\": \"H\\u00f4tel 2000\",\n            \"photos\": [\n                {\n                    \"height\": 1445,\n                    \"html_attributions\": [\n                        \"<a href=\\\"https://maps.google.com/maps/contrib/108753295304202529473\\\">Laitiko Yrdnay</a>\"\n                    ],\n                    \"photo_reference\": \"ATtYBwJlIDRrS7ZZBYQXgGYt92qDtAaXoaAcLCiErxVGuZ6FhguNINhsdUdKs1Jl6KRfEU0IgbxiI_SQl_Z5jfx_Bh2-cnL3YANX7qa8z7kEeYR7ijTvITMu7rB3sAyyFMyzeKrlvsSbA51TIpDX4u39VjowvI2URLvVW5750eCnBNAnPGE\",\n                    \"width\": 1927\n                }\n            ],\n            \"place_id\": \"ChIJQ4OVBVVPYh8Rj869WLoW8nk\",\n            \"plus_code\": {\n                \"compound_code\": \"3GPQ+VG Sakaraha, Madagascar\",\n                \"global_code\": \"5H963GPQ+VG\"\n            },\n            \"rating\": 0,\n            \"reference\": \"ChIJQ4OVBVVPYh8Rj869WLoW8nk\",\n            \"scope\": \"GOOGLE\",\n            \"types\": [\n                \"lodging\",\n                \"point_of_interest\",\n                \"establishment\"\n            ],\n            \"user_ratings_total\": 0,\n            \"vicinity\": \"Sakaraha\"\n        },\n        {\n            \"business_status\": \"OPERATIONAL\",\n            \"geometry\": {\n                \"location\": {\n                    \"lat\": -22.9119312,\n                    \"lng\": 44.53354059999999\n                },\n                \"viewport\": {\n                    \"northeast\": {\n                        \"lat\": -22.91053057010728,\n                        \"lng\": 44.53485637989272\n                    },\n                    \"southwest\": {\n                        \"lat\": -22.91323022989272,\n                        \"lng\": 44.53215672010727\n                    }\n                }\n            },\n            \"icon\": \"https://maps.gstatic.com/mapfiles/place_api/icons/v1/png_71/lodging-71.png\",\n            \"name\": \"Le Buffet\",\n            \"place_id\": \"ChIJ6XqtdXVPYh8RlmyzgQb_ixU\",\n            \"plus_code\": {\n                \"compound_code\": \"3GQM+6C Sakaraha, Madagascar\",\n                \"global_code\": \"5H963GQM+6C\"\n            },\n            \"rating\": 2.5,\n            \"reference\": \"ChIJ6XqtdXVPYh8RlmyzgQb_ixU\",\n            \"scope\": \"GOOGLE\",\n            \"types\": [\n                \"lodging\",\n                \"point_of_interest\",\n                \"establishment\"\n            ],\n            \"user_ratings_total\": 2,\n            \"vicinity\": \"7, Sakaraha\"\n        },\n        {\n            \"business_status\": \"OPERATIONAL\",\n            \"geometry\": {\n                \"location\": {\n                    \"lat\": -22.9163517,\n                    \"lng\": 44.5305464\n                },\n                \"viewport\": {\n                    \"northeast\": {\n                        \"lat\": -22.91485582010727,\n                        \"lng\": 44.53173187989272\n                    },\n                    \"southwest\": {\n                        \"lat\": -22.91755547989272,\n                        \"lng\": 44.52903222010728\n                    }\n                }\n            },\n            \"icon\": \"https://maps.gstatic.com/mapfiles/place_api/icons/v1/png_71/lodging-71.png\",\n            \"name\": \"Palace Club\",\n            \"photos\": [\n                {\n                    \"height\": 1080,\n                    \"html_attributions\": [\n                        \"<a href=\\\"https://maps.google.com/maps/contrib/104020940049902867578\\\">Marco SPOTTI</a>\"\n                    ],\n                    \"photo_reference\": \"ATtYBwIq7moy99l16wG6Ryup69bjWKr98hNU84KSUlnyzQKz9nk6PymKlW6i4a12BPb4rbwh_xHk7UaDGKGa5R6N0ImYifnsB5aMCI4kTHnDRxNrpqg74XZ2HGcC3Vz1Nx8G8eGDHTDuAeNcqr7ITGbdxNAMCH8a5q9aqM3N7EvATvR2O1qq\",\n                    \"width\": 1920\n                }\n            ],\n            \"place_id\": \"ChIJIWG_zKFPYh8RwUVD76wsF9w\",\n            \"plus_code\": {\n                \"compound_code\": \"3GMJ+F6 Sakaraha, Madagascar\",\n                \"global_code\": \"5H963GMJ+F6\"\n            },\n            \"rating\": 4.4,\n            \"reference\": \"ChIJIWG_zKFPYh8RwUVD76wsF9w\",\n            \"scope\": \"GOOGLE\",\n            \"types\": [\n                \"lodging\",\n                \"point_of_interest\",\n                \"establishment\"\n            ],\n            \"user_ratings_total\": 9,\n            \"vicinity\": \"7, Sakaraha\"\n        },\n        {\n            \"business_status\": \"OPERATIONAL\",\n            \"geometry\": {\n                \"location\": {\n                    \"lat\": -22.9131598,\n                    \"lng\": 44.5307542\n                },\n                \"viewport\": {\n                    \"northeast\": {\n                        \"lat\": -22.91190877010727,\n                        \"lng\": 44.53203767989272\n                    },\n                    \"southwest\": {\n                        \"lat\": -22.91460842989272,\n                        \"lng\": 44.52933802010728\n                    }\n                }\n            },\n            \"icon\": \"https://maps.gstatic.com/mapfiles/place_api/icons/v1/png_71/lodging-71.png\",\n            \"name\": \"Le Relais\",\n            \"place_id\": \"ChIJZ5-DugpPYh8R8nJH3bSp4_Q\",\n            \"plus_code\": {\n                \"compound_code\": \"3GPJ+P8 Sakaraha, Madagascar\",\n                \"global_code\": \"5H963GPJ+P8\"\n            },\n            \"rating\": 0,\n            \"reference\": \"ChIJZ5-DugpPYh8R8nJH3bSp4_Q\",\n            \"scope\": \"GOOGLE\",\n            \"types\": [\n                \"lodging\",\n                \"point_of_interest\",\n                \"establishment\"\n            ],\n            \"user_ratings_total\": 0,\n            \"vicinity\": \"Sakaraha\"\n        }\n    ],\n    \"status\": \"OK\"\n}\nHôtel 2000\n"
     ]
    }
   ],
   "source": [
    "#third location \n",
    "\n",
    "# base url\n",
    "base_url = \"https://maps.googleapis.com/maps/api/place/nearbysearch/json\"\n",
    "\n",
    "locations = \"-22.9000, 44.5333\" \n",
    "target_search = \"Hotels\"\n",
    "target_radius = 5000\n",
    "hotel_names = []\n",
    "# create parameters dictionary to use\n",
    "params = {\n",
    "    \"location\": locations,\n",
    "    \"keyword\": target_search,\n",
    "    \"radius\": target_radius,\n",
    "    \"key\": g_key\n",
    "}\n",
    "\n",
    "# run a request using our params dictionary\n",
    "response = requests.get(base_url, params=params).json()\n",
    "\n",
    "# Print the json (pretty printed)\n",
    "print(json.dumps(response, indent=4, sort_keys=True))\n",
    "name = response['results'][0]['name']\n",
    "hotel_df.iloc[2,10] = name\n",
    "hotel_names.append(name)\n",
    "print(name)"
   ]
  },
  {
   "cell_type": "code",
   "execution_count": 117,
   "metadata": {
    "tags": [
     "outputPrepend"
    ]
   },
   "outputs": [
    {
     "output_type": "stream",
     "name": "stdout",
     "text": [
      "feW-Km3sxvxbhw-VSFsUGw_EoywCkPMD-GAxFMUkxhPJCgwSRRSasADNNqcuE2mEOQjNSWLFDpWF98ReTsrL2Ym1Ljbl1WFFVgij3aHaVzbHgUeAsDYVpdQP7y1ay2_fWQzK2yY5-A58oB75bFZkpKkSQREzGFF1f8eX60e2xqxO3\",\n                    \"width\": 1280\n                }\n            ],\n            \"place_id\": \"ChIJ2XKlBOH7NAcRVj5xPuMkEv8\",\n            \"plus_code\": {\n                \"compound_code\": \"MQ4J+64 Prado, State of Bahia, Brazil\",\n                \"global_code\": \"59J2MQ4J+64\"\n            },\n            \"rating\": 4.6,\n            \"reference\": \"ChIJ2XKlBOH7NAcRVj5xPuMkEv8\",\n            \"scope\": \"GOOGLE\",\n            \"types\": [\n                \"lodging\",\n                \"point_of_interest\",\n                \"establishment\"\n            ],\n            \"user_ratings_total\": 196,\n            \"vicinity\": \"Rua Alfredo Horcades, 73 - Centro, Prado\"\n        },\n        {\n            \"business_status\": \"OPERATIONAL\",\n            \"geometry\": {\n                \"location\": {\n                    \"lat\": -17.3287462,\n                    \"lng\": -39.22128170000001\n                },\n                \"viewport\": {\n                    \"northeast\": {\n                        \"lat\": -17.32746002010728,\n                        \"lng\": -39.21992322010728\n                    },\n                    \"southwest\": {\n                        \"lat\": -17.33015967989272,\n                        \"lng\": -39.22262287989273\n                    }\n                }\n            },\n            \"icon\": \"https://maps.gstatic.com/mapfiles/place_api/icons/v1/png_71/lodging-71.png\",\n            \"name\": \"Pousada Tropical Prado\",\n            \"opening_hours\": {\n                \"open_now\": true\n            },\n            \"photos\": [\n                {\n                    \"height\": 600,\n                    \"html_attributions\": [\n                        \"<a href=\\\"https://maps.google.com/maps/contrib/117247766869269524185\\\">Pousada Tropical Prado</a>\"\n                    ],\n                    \"photo_reference\": \"ATtYBwLGPsPxOBMYp50aiJ5kxwqYojstq-wSBGM8t44ut_DYhN5ryWHOB_H5I_-CkRk8xnaTkfeBvVNzjAc9unfyoc04FoWZZbnKJOf15M3QFQ6UC6dPhiLCiyZBCjGP9U1-dSJUfpvoOX-k3vkTzZ98xZ5lEU0csKZtbQfiBBa-h8h7vXWq\",\n                    \"width\": 800\n                }\n            ],\n            \"place_id\": \"ChIJA16IFjL5NAcRMb6xwbe1wAY\",\n            \"plus_code\": {\n                \"compound_code\": \"MQCH+GF Prado, State of Bahia, Brazil\",\n                \"global_code\": \"59J2MQCH+GF\"\n            },\n            \"rating\": 4.5,\n            \"reference\": \"ChIJA16IFjL5NAcRMb6xwbe1wAY\",\n            \"scope\": \"GOOGLE\",\n            \"types\": [\n                \"lodging\",\n                \"point_of_interest\",\n                \"establishment\"\n            ],\n            \"user_ratings_total\": 112,\n            \"vicinity\": \"Quadra 14 LOTE 3, R. L. Sete - BASEVI, Prado\"\n        },\n        {\n            \"business_status\": \"OPERATIONAL\",\n            \"geometry\": {\n                \"location\": {\n                    \"lat\": -17.3380089,\n                    \"lng\": -39.222187\n                },\n                \"viewport\": {\n                    \"northeast\": {\n                        \"lat\": -17.33670762010728,\n                        \"lng\": -39.22085377010727\n                    },\n                    \"southwest\": {\n                        \"lat\": -17.33940727989272,\n                        \"lng\": -39.22355342989272\n                    }\n                }\n            },\n            \"icon\": \"https://maps.gstatic.com/mapfiles/place_api/icons/v1/png_71/lodging-71.png\",\n            \"name\": \"Recanto do Prado\",\n            \"photos\": [\n                {\n                    \"height\": 2250,\n                    \"html_attributions\": [\n                        \"<a href=\\\"https://maps.google.com/maps/contrib/108544234312864524712\\\">Renan Scarabelli</a>\"\n                    ],\n                    \"photo_reference\": \"ATtYBwIHf_r1rNleOsd0V1wEFSEvswvkr6OdSt0hUe60x7XLs7tW1KDyuAfPATeCBd9cfgUyFnVV4zvxKKscF08M0zn_MgFSlsVCLL2BizoqOE-H2YuSEMRK0a3IVCVa8o5QjtAgVVFBCXZ2OY4ekW4p6jJQ40ZjdoYOXCkmvqEgQ4CJmlpY\",\n                    \"width\": 4000\n                }\n            ],\n            \"place_id\": \"ChIJnetHLFn5NAcReENeuibl04A\",\n            \"plus_code\": {\n                \"compound_code\": \"MQ6H+Q4 Prado, State of Bahia, Brazil\",\n                \"global_code\": \"59J2MQ6H+Q4\"\n            },\n            \"rating\": 4.5,\n            \"reference\": \"ChIJnetHLFn5NAcReENeuibl04A\",\n            \"scope\": \"GOOGLE\",\n            \"types\": [\n                \"lodging\",\n                \"point_of_interest\",\n                \"establishment\"\n            ],\n            \"user_ratings_total\": 255,\n            \"vicinity\": \"2 Rua IV, Quadra I, Av. Novo Prado, Prado\"\n        },\n        {\n            \"business_status\": \"OPERATIONAL\",\n            \"geometry\": {\n                \"location\": {\n                    \"lat\": -17.3398816,\n                    \"lng\": -39.2205901\n                },\n                \"viewport\": {\n                    \"northeast\": {\n                        \"lat\": -17.33856172010728,\n                        \"lng\": -39.21925052010727\n                    },\n                    \"southwest\": {\n                        \"lat\": -17.34126137989272,\n                        \"lng\": -39.22195017989272\n                    }\n                }\n            },\n            \"icon\": \"https://maps.gstatic.com/mapfiles/place_api/icons/v1/png_71/lodging-71.png\",\n            \"name\": \"Praia Sol Pousada\",\n            \"opening_hours\": {\n                \"open_now\": false\n            },\n            \"photos\": [\n                {\n                    \"height\": 2448,\n                    \"html_attributions\": [\n                        \"<a href=\\\"https://maps.google.com/maps/contrib/113598235285365866796\\\">A Google User</a>\"\n                    ],\n                    \"photo_reference\": \"ATtYBwK1IrBsTgNn3bJ7dXcU8v5jbNC4bHBS9kekcBRM2MYWx9OCeT7MpPP8ofR8TfQtvl8bEYxqW0n2Zjo80ft8sDZghNLqn_yP1bh1NeFVKEbnMYo-8hsui0ku6rJ5YDjVXBLWjNQbH9Mht1mwQD3-rWz9ZkelCJUcNaS_yL84S0X7OqdX\",\n                    \"width\": 3264\n                }\n            ],\n            \"place_id\": \"ChIJS49rKZ35NAcRIpxo-RBC6No\",\n            \"plus_code\": {\n                \"compound_code\": \"MQ6H+2Q Prado, State of Bahia, Brazil\",\n                \"global_code\": \"59J2MQ6H+2Q\"\n            },\n            \"rating\": 4.8,\n            \"reference\": \"ChIJS49rKZ35NAcRIpxo-RBC6No\",\n            \"scope\": \"GOOGLE\",\n            \"types\": [\n                \"lodging\",\n                \"point_of_interest\",\n                \"establishment\"\n            ],\n            \"user_ratings_total\": 33,\n            \"vicinity\": \"Av. Joana Ang\\u00e9lica, 258 - Centro, Prado\"\n        },\n        {\n            \"business_status\": \"OPERATIONAL\",\n            \"geometry\": {\n                \"location\": {\n                    \"lat\": -17.3288106,\n                    \"lng\": -39.2213207\n                },\n                \"viewport\": {\n                    \"northeast\": {\n                        \"lat\": -17.32749517010728,\n                        \"lng\": -39.21996622010728\n                    },\n                    \"southwest\": {\n                        \"lat\": -17.33019482989272,\n                        \"lng\": -39.22266587989272\n                    }\n                }\n            },\n            \"icon\": \"https://maps.gstatic.com/mapfiles/place_api/icons/v1/png_71/lodging-71.png\",\n            \"name\": \"Pousada Balanc\\u00ea\",\n            \"photos\": [\n                {\n                    \"height\": 3472,\n                    \"html_attributions\": [\n                        \"<a href=\\\"https://maps.google.com/maps/contrib/110439221890811745108\\\">110439221890811745108</a>\"\n                    ],\n                    \"photo_reference\": \"ATtYBwKabvtP0UXUbXgip57KbKN_cZbbMZR97KEBXYKPXCDwgxGdPviTQKMQV__qQlBi6Kx5vAtFBW7i5YAkO8lOR_KycuV7fE7tpOCh5xWN3GBe9AgwN0laqw5DpSo-Ry3rgwQcJF1k2_8fR8ioJRf-jKO1WQDJ8IyQpkAtTqNsuBuQdQRU\",\n                    \"width\": 4640\n                }\n            ],\n            \"place_id\": \"ChIJX6YSpUP5NAcRXDUtzaUWTbk\",\n            \"plus_code\": {\n                \"compound_code\": \"MQCH+FF Prado, State of Bahia, Brazil\",\n                \"global_code\": \"59J2MQCH+FF\"\n            },\n            \"rating\": 4.2,\n            \"reference\": \"ChIJX6YSpUP5NAcRXDUtzaUWTbk\",\n            \"scope\": \"GOOGLE\",\n            \"types\": [\n                \"lodging\",\n                \"point_of_interest\",\n                \"establishment\"\n            ],\n            \"user_ratings_total\": 110,\n            \"vicinity\": \"R. L. Sete, 449, Prado\"\n        },\n        {\n            \"business_status\": \"OPERATIONAL\",\n            \"geometry\": {\n                \"location\": {\n                    \"lat\": -17.3311547,\n                    \"lng\": -39.2202227\n                },\n                \"viewport\": {\n                    \"northeast\": {\n                        \"lat\": -17.32969807010728,\n                        \"lng\": -39.21888817010728\n                    },\n                    \"southwest\": {\n                        \"lat\": -17.33239772989272,\n                        \"lng\": -39.22158782989272\n                    }\n                }\n            },\n            \"icon\": \"https://maps.gstatic.com/mapfiles/place_api/icons/v1/png_71/lodging-71.png\",\n            \"name\": \"Pousada dos Girass\\u00f3is\",\n            \"opening_hours\": {\n                \"open_now\": true\n            },\n            \"photos\": [\n                {\n                    \"height\": 584,\n                    \"html_attributions\": [\n                        \"<a href=\\\"https://maps.google.com/maps/contrib/118185929523866013087\\\">A Google User</a>\"\n                    ],\n                    \"photo_reference\": \"ATtYBwLzhRRS5gqPuoW7bIh2OTGNZAPiiqTDb6kbNJD8tQMgiIHuH0RoQC6UKUYTI6t6tu2tFcsEHdXUPTN6_QGVVOreEc6zSbznYIqEfFdbIf1mxoyL6K0tR43E_Y5nxd-fAAkj4IjN48tGYX5WZ5Axzrxnvl9MQrSbuIiHGn_-VoSZbO1x\",\n                    \"width\": 1040\n                }\n            ],\n            \"place_id\": \"ChIJD0e0F3H5NAcR4Ih0Fosr70I\",\n            \"plus_code\": {\n                \"compound_code\": \"MQ9H+GW Prado, State of Bahia, Brazil\",\n                \"global_code\": \"59J2MQ9H+GW\"\n            },\n            \"rating\": 4.1,\n            \"reference\": \"ChIJD0e0F3H5NAcR4Ih0Fosr70I\",\n            \"scope\": \"GOOGLE\",\n            \"types\": [\n                \"lodging\",\n                \"point_of_interest\",\n                \"establishment\"\n            ],\n            \"user_ratings_total\": 226,\n            \"vicinity\": \"Rua L04 - s/n\\u00b0 leste 01 Loteamento Bahia Costa Sul Basevi, Prado\"\n        },\n        {\n            \"business_status\": \"OPERATIONAL\",\n            \"geometry\": {\n                \"location\": {\n                    \"lat\": -17.3249698,\n                    \"lng\": -39.2377185\n                },\n                \"viewport\": {\n                    \"northeast\": {\n                        \"lat\": -17.32361312010728,\n                        \"lng\": -39.23641387010728\n                    },\n                    \"southwest\": {\n                        \"lat\": -17.32631277989272,\n                        \"lng\": -39.23911352989272\n                    }\n                }\n            },\n            \"icon\": \"https://maps.gstatic.com/mapfiles/place_api/icons/v1/png_71/restaurant-71.png\",\n            \"name\": \"Sorriso Baiano - Bar & Gastronomia\",\n            \"opening_hours\": {\n                \"open_now\": false\n            },\n            \"photos\": [\n                {\n                    \"height\": 4032,\n                    \"html_attributions\": [\n                        \"<a href=\\\"https://maps.google.com/maps/contrib/113678647781225995494\\\">Hotel Resort Praia de Guaratiba</a>\"\n                    ],\n                    \"photo_reference\": \"ATtYBwLArChV6nGvHV2l9KPhPbTtCqFO8O7J4rZtnvh2v3LkTVrJxV3p_iUjXFpZoiFXHiJDQbwxjTdwNXhxreTkrcYGqJmzqal-Fkqs73JslSvroINKr6ZY1COHtEfrxZ39XXLIOHxh4MImXTttlNQAOI7FoIx6BU2aTK69uu6OYvYiweE5\",\n                    \"width\": 3024\n                }\n            ],\n            \"place_id\": \"ChIJcQYyzS37NAcRH54gatevoag\",\n            \"plus_code\": {\n                \"compound_code\": \"MQG6+2W Prado, State of Bahia, Brazil\",\n                \"global_code\": \"59J2MQG6+2W\"\n            },\n            \"rating\": 4.6,\n            \"reference\": \"ChIJcQYyzS37NAcRH54gatevoag\",\n            \"scope\": \"GOOGLE\",\n            \"types\": [\n                \"restaurant\",\n                \"food\",\n                \"point_of_interest\",\n                \"establishment\"\n            ],\n            \"user_ratings_total\": 120,\n            \"vicinity\": \"R. Mottarone, 06 - Quadra 113 Lote, Prado\"\n        },\n        {\n            \"business_status\": \"OPERATIONAL\",\n            \"geometry\": {\n                \"location\": {\n                    \"lat\": -17.3371484,\n                    \"lng\": -39.22126100000001\n                },\n                \"viewport\": {\n                    \"northeast\": {\n                        \"lat\": -17.33576197010728,\n                        \"lng\": -39.22003042010728\n                    },\n                    \"southwest\": {\n                        \"lat\": -17.33846162989272,\n                        \"lng\": -39.22273007989273\n                    }\n                }\n            },\n            \"icon\": \"https://maps.gstatic.com/mapfiles/place_api/icons/v1/png_71/lodging-71.png\",\n            \"name\": \"Pousada Crystal\",\n            \"photos\": [\n                {\n                    \"height\": 2336,\n                    \"html_attributions\": [\n                        \"<a href=\\\"https://maps.google.com/maps/contrib/110083207040986040294\\\">A Google User</a>\"\n                    ],\n                    \"photo_reference\": \"ATtYBwKFhxyngr1JMwTSTrpaKP4W3P2Q9uYImRaBaJN9Z5YlFyTtPFd_-5VP9fhai85IpYo4lmFykAJfEMGH7ms1cX2dIE8j2u35D8thHzMvaPcQdjiM1Ax4AV4K-AOm4BqAmsf9Gl107CPq1DhX1Xazx67PG5OMGsJZkOzol9_cwEHjtCop\",\n                    \"width\": 4160\n                }\n            ],\n            \"place_id\": \"ChIJP3v5ul75NAcRxBerKo6qv_Y\",\n            \"plus_code\": {\n                \"compound_code\": \"MQ7H+4F Prado, State of Bahia, Brazil\",\n                \"global_code\": \"59J2MQ7H+4F\"\n            },\n            \"rating\": 4.1,\n            \"reference\": \"ChIJP3v5ul75NAcRxBerKo6qv_Y\",\n            \"scope\": \"GOOGLE\",\n            \"types\": [\n                \"lodging\",\n                \"point_of_interest\",\n                \"establishment\"\n            ],\n            \"user_ratings_total\": 88,\n            \"vicinity\": \"R. Joaquim Dami\\u00e3o de Almeida, 17 - Novo Prado, Prado\"\n        },\n        {\n            \"business_status\": \"OPERATIONAL\",\n            \"geometry\": {\n                \"location\": {\n                    \"lat\": -17.3393834,\n                    \"lng\": -39.2185567\n                },\n                \"viewport\": {\n                    \"northeast\": {\n                        \"lat\": -17.33796272010728,\n                        \"lng\": -39.21718957010728\n                    },\n                    \"southwest\": {\n                        \"lat\": -17.34066237989272,\n                        \"lng\": -39.21988922989272\n                    }\n                }\n            },\n            \"icon\": \"https://maps.gstatic.com/mapfiles/place_api/icons/v1/png_71/lodging-71.png\",\n            \"name\": \"Pousada Vivenda da Praia\",\n            \"photos\": [\n                {\n                    \"height\": 1960,\n                    \"html_attributions\": [\n                        \"<a href=\\\"https://maps.google.com/maps/contrib/117198174124009017610\\\">Rozana Soriano</a>\"\n                    ],\n                    \"photo_reference\": \"ATtYBwIBlO1AtxjAvLDDKU58Td9LrnTNNEVveUKMqTJSnOPWO3p2jp5AHhjHWs3dksb4Bv_2CZ0Gn9uivNcAzx73S3WYpSPfnmvplu-XIyZKWdHT428Xy7xKQSQlCzc960K1OW4ki9kUxyTo6eNNWlDJq_Rc-XkfeNBx75dnbAPLBdtG5HIz\",\n                    \"width\": 4032\n                }\n            ],\n            \"place_id\": \"ChIJt30sSFr5NAcR3LYh843rwSQ\",\n            \"plus_code\": {\n                \"compound_code\": \"MQ6J+6H Prado, State of Bahia, Brazil\",\n                \"global_code\": \"59J2MQ6J+6H\"\n            },\n            \"rating\": 3.8,\n            \"reference\": \"ChIJt30sSFr5NAcR3LYh843rwSQ\",\n            \"scope\": \"GOOGLE\",\n            \"types\": [\n                \"lodging\",\n                \"point_of_interest\",\n                \"establishment\"\n            ],\n            \"user_ratings_total\": 99,\n            \"vicinity\": \"Rua Izaura Sulz Almeida, 36, Prado\"\n        },\n        {\n            \"business_status\": \"OPERATIONAL\",\n            \"geometry\": {\n                \"location\": {\n                    \"lat\": -17.3291215,\n                    \"lng\": -39.2360096\n                },\n                \"viewport\": {\n                    \"northeast\": {\n                        \"lat\": -17.32763147010728,\n                        \"lng\": -39.23444592010727\n                    },\n                    \"southwest\": {\n                        \"lat\": -17.33033112989272,\n                        \"lng\": -39.23714557989272\n                    }\n                }\n            },\n            \"icon\": \"https://maps.gstatic.com/mapfiles/place_api/icons/v1/png_71/lodging-71.png\",\n            \"name\": \"Pousada Lirio Dos Vales\",\n            \"opening_hours\": {\n                \"open_now\": true\n            },\n            \"photos\": [\n                {\n                    \"height\": 1472,\n                    \"html_attributions\": [\n                        \"<a href=\\\"https://maps.google.com/maps/contrib/112346103235378026277\\\">A Google User</a>\"\n                    ],\n                    \"photo_reference\": \"ATtYBwKSnf3GrI54hnesaAU-Z4ogr8OZ7W6ZM4vfOEZkyg1qQHmjiZWjs8VnbWP1NgtM8m_1s1cQdQjLShrLUXHPm6px-qdMIvTbJNqupjs488C-nigrymsSuW-g_N-XfS-7Kw54uldIb8muEThZEUYyeEF_BI9YJzbwPZjQU5RviAIpOzDV\",\n                    \"width\": 3396\n                }\n            ],\n            \"place_id\": \"ChIJQdfA7vP5NAcROW1WDQF7jKA\",\n            \"plus_code\": {\n                \"compound_code\": \"MQC7+9H Prado, State of Bahia, Brazil\",\n                \"global_code\": \"59J2MQC7+9H\"\n            },\n            \"rating\": 4.4,\n            \"reference\": \"ChIJQdfA7vP5NAcROW1WDQF7jKA\",\n            \"scope\": \"GOOGLE\",\n            \"types\": [\n                \"lodging\",\n                \"point_of_interest\",\n                \"establishment\"\n            ],\n            \"user_ratings_total\": 111,\n            \"vicinity\": \"BA-489, Prado\"\n        },\n        {\n            \"business_status\": \"OPERATIONAL\",\n            \"geometry\": {\n                \"location\": {\n                    \"lat\": -17.3391365,\n                    \"lng\": -39.2185505\n                },\n                \"viewport\": {\n                    \"northeast\": {\n                        \"lat\": -17.33783357010728,\n                        \"lng\": -39.21721212010728\n                    },\n                    \"southwest\": {\n                        \"lat\": -17.34053322989272,\n                        \"lng\": -39.21991177989272\n                    }\n                }\n            },\n            \"icon\": \"https://maps.gstatic.com/mapfiles/place_api/icons/v1/png_71/lodging-71.png\",\n            \"name\": \"Pousada Praiamar\",\n            \"photos\": [\n                {\n                    \"height\": 960,\n                    \"html_attributions\": [\n                        \"<a href=\\\"https://maps.google.com/maps/contrib/101493266865773958264\\\">Pousada Praiamar</a>\"\n                    ],\n                    \"photo_reference\": \"ATtYBwKt0vPE3y9sFyKta1hZwOL37HdIsSmk5eNjNkPbke2sJQsHMPHL0ks8fvxLl2qQaQBf0xxUhQX6djGkj1TxFd6AsNLDC-LAjS5OR6Prtfo4W26I2xCv6tacjd6Ab09UYow140Wnc-QeMWDJHRe0YmTnEDU9pbKEiXl4a83EX_hjdWuS\",\n                    \"width\": 1280\n                }\n            ],\n            \"place_id\": \"ChIJfRJJFFH5NAcRvdSeYiNxu7E\",\n            \"plus_code\": {\n                \"compound_code\": \"MQ6J+8H Prado, State of Bahia, Brazil\",\n                \"global_code\": \"59J2MQ6J+8H\"\n            },\n            \"rating\": 4.4,\n            \"reference\": \"ChIJfRJJFFH5NAcRvdSeYiNxu7E\",\n            \"scope\": \"GOOGLE\",\n            \"types\": [\n                \"lodging\",\n                \"point_of_interest\",\n                \"establishment\"\n            ],\n            \"user_ratings_total\": 86,\n            \"vicinity\": \"Sulz Almeida, N\\u00b0 20 - Rua Isaura, Av. Novo Prado, Prado\"\n        }\n    ],\n    \"status\": \"OK\"\n}\nCahy Praia Hotel\n"
     ]
    }
   ],
   "source": [
    "#fourth location \n",
    "\n",
    "# base url\n",
    "base_url = \"https://maps.googleapis.com/maps/api/place/nearbysearch/json\"\n",
    "\n",
    "locations = \"-17.3411, -39.2208\" \n",
    "target_search = \"Hotels\"\n",
    "target_radius = 5000\n",
    "hotel_names = []\n",
    "# create parameters dictionary to use\n",
    "params = {\n",
    "    \"location\": locations,\n",
    "    \"keyword\": target_search,\n",
    "    \"radius\": target_radius,\n",
    "    \"key\": g_key\n",
    "}\n",
    "\n",
    "# run a request using our params dictionary\n",
    "response = requests.get(base_url, params=params).json()\n",
    "\n",
    "# Print the json (pretty printed)\n",
    "print(json.dumps(response, indent=4, sort_keys=True))\n",
    "name = response['results'][0]['name']\n",
    "hotel_df.iloc[3,10] = name\n",
    "hotel_names.append(name)\n",
    "print(name)"
   ]
  },
  {
   "cell_type": "code",
   "execution_count": 118,
   "metadata": {},
   "outputs": [
    {
     "output_type": "execute_result",
     "data": {
      "text/plain": [
       "     Unnamed: 0       city  latitude  longitude  max_temperature  cloudiness  \\\n",
       "197         197  Caravelas  -17.7125   -39.2481            73.00           0   \n",
       "323         323    Pitimbu   -7.4706   -34.8086            73.40           0   \n",
       "362         362   Sakaraha  -22.9000    44.5333            71.33           0   \n",
       "448         448      Prado  -17.3411   -39.2208            73.60           0   \n",
       "\n",
       "     wind_speed  humidity country        date            hotel name  \n",
       "197        4.76        90      BR  1619326490  Mar Doce de Abrolhos  \n",
       "323        4.61       100      BR  1619326540   Asenza Beach Resort  \n",
       "362        3.89        67      MG  1619326556            Hôtel 2000  \n",
       "448        5.95        89      BR  1619326588      Cahy Praia Hotel  "
      ],
      "text/html": "<div>\n<style scoped>\n    .dataframe tbody tr th:only-of-type {\n        vertical-align: middle;\n    }\n\n    .dataframe tbody tr th {\n        vertical-align: top;\n    }\n\n    .dataframe thead th {\n        text-align: right;\n    }\n</style>\n<table border=\"1\" class=\"dataframe\">\n  <thead>\n    <tr style=\"text-align: right;\">\n      <th></th>\n      <th>Unnamed: 0</th>\n      <th>city</th>\n      <th>latitude</th>\n      <th>longitude</th>\n      <th>max_temperature</th>\n      <th>cloudiness</th>\n      <th>wind_speed</th>\n      <th>humidity</th>\n      <th>country</th>\n      <th>date</th>\n      <th>hotel name</th>\n    </tr>\n  </thead>\n  <tbody>\n    <tr>\n      <th>197</th>\n      <td>197</td>\n      <td>Caravelas</td>\n      <td>-17.7125</td>\n      <td>-39.2481</td>\n      <td>73.00</td>\n      <td>0</td>\n      <td>4.76</td>\n      <td>90</td>\n      <td>BR</td>\n      <td>1619326490</td>\n      <td>Mar Doce de Abrolhos</td>\n    </tr>\n    <tr>\n      <th>323</th>\n      <td>323</td>\n      <td>Pitimbu</td>\n      <td>-7.4706</td>\n      <td>-34.8086</td>\n      <td>73.40</td>\n      <td>0</td>\n      <td>4.61</td>\n      <td>100</td>\n      <td>BR</td>\n      <td>1619326540</td>\n      <td>Asenza Beach Resort</td>\n    </tr>\n    <tr>\n      <th>362</th>\n      <td>362</td>\n      <td>Sakaraha</td>\n      <td>-22.9000</td>\n      <td>44.5333</td>\n      <td>71.33</td>\n      <td>0</td>\n      <td>3.89</td>\n      <td>67</td>\n      <td>MG</td>\n      <td>1619326556</td>\n      <td>Hôtel 2000</td>\n    </tr>\n    <tr>\n      <th>448</th>\n      <td>448</td>\n      <td>Prado</td>\n      <td>-17.3411</td>\n      <td>-39.2208</td>\n      <td>73.60</td>\n      <td>0</td>\n      <td>5.95</td>\n      <td>89</td>\n      <td>BR</td>\n      <td>1619326588</td>\n      <td>Cahy Praia Hotel</td>\n    </tr>\n  </tbody>\n</table>\n</div>"
     },
     "metadata": {},
     "execution_count": 118
    }
   ],
   "source": [
    "hotel_df"
   ]
  },
  {
   "cell_type": "code",
   "execution_count": null,
   "metadata": {},
   "outputs": [],
   "source": [
    "# NOTE: Do not change any of the code in this cell\n",
    "\n",
    "# Using the template add the hotel marks to the heatmap\n",
    "info_box_template = \"\"\"\n",
    "<dl>\n",
    "<dt>Name</dt><dd>{Hotel Name}</dd>\n",
    "<dt>City</dt><dd>{City}</dd>\n",
    "<dt>Country</dt><dd>{Country}</dd>\n",
    "</dl>\n",
    "\"\"\"\n",
    "# Store the DataFrame Row\n",
    "# NOTE: be sure to update with your DataFrame name\n",
    "hotel_info = [info_box_template.format(**row) for index, row in hotel_df.iterrows()]\n",
    "locations = hotel_df[[\"Lat\", \"Lng\"]]"
   ]
  },
  {
   "cell_type": "code",
   "execution_count": null,
   "metadata": {},
   "outputs": [],
   "source": [
    "# Add marker layer ontop of heat map\n",
    "\n",
    "\n",
    "# Display figure\n"
   ]
  },
  {
   "cell_type": "code",
   "execution_count": null,
   "metadata": {},
   "outputs": [],
   "source": []
  }
 ],
 "metadata": {
  "kernelspec": {
   "name": "python379jvsc74a57bd003727d14a4c51d73d0b3641fd732c75024a55a3c0638ac3f8d6d33a3e1ad04f1",
   "display_name": "Python 3.7.9 64-bit ('PythonData': conda)"
  },
  "language_info": {
   "codemirror_mode": {
    "name": "ipython",
    "version": 3
   },
   "file_extension": ".py",
   "mimetype": "text/x-python",
   "name": "python",
   "nbconvert_exporter": "python",
   "pygments_lexer": "ipython3",
   "version": "3.7.9"
  },
  "latex_envs": {
   "LaTeX_envs_menu_present": true,
   "autoclose": false,
   "autocomplete": true,
   "bibliofile": "biblio.bib",
   "cite_by": "apalike",
   "current_citInitial": 1,
   "eqLabelWithNumbers": true,
   "eqNumInitial": 1,
   "hotkeys": {
    "equation": "Ctrl-E",
    "itemize": "Ctrl-I"
   },
   "labels_anchors": false,
   "latex_user_defs": false,
   "report_style_numbering": false,
   "user_envs_cfg": false
  }
 },
 "nbformat": 4,
 "nbformat_minor": 4
}